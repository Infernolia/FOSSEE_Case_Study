{
 "cells": [
  {
   "cell_type": "code",
   "execution_count": 32,
   "metadata": {},
   "outputs": [],
   "source": [
    "import numpy as np\n",
    "import gym\n",
    "import random\n",
    "import time\n",
    "from IPython.display import clear_output"
   ]
  },
  {
   "cell_type": "code",
   "execution_count": 33,
   "metadata": {},
   "outputs": [],
   "source": [
    "env = gym.make(\"FrozenLake-v0\")"
   ]
  },
  {
   "cell_type": "code",
   "execution_count": 34,
   "metadata": {},
   "outputs": [
    {
     "name": "stdout",
     "output_type": "stream",
     "text": [
      "[[0. 0. 0. 0.]\n",
      " [0. 0. 0. 0.]\n",
      " [0. 0. 0. 0.]\n",
      " [0. 0. 0. 0.]\n",
      " [0. 0. 0. 0.]\n",
      " [0. 0. 0. 0.]\n",
      " [0. 0. 0. 0.]\n",
      " [0. 0. 0. 0.]\n",
      " [0. 0. 0. 0.]\n",
      " [0. 0. 0. 0.]\n",
      " [0. 0. 0. 0.]\n",
      " [0. 0. 0. 0.]\n",
      " [0. 0. 0. 0.]\n",
      " [0. 0. 0. 0.]\n",
      " [0. 0. 0. 0.]\n",
      " [0. 0. 0. 0.]]\n"
     ]
    }
   ],
   "source": [
    "action_space_size =env.action_space.n\n",
    "state_space_size =env.observation_space.n\n",
    "q_table =  np.zeros((state_space_size,action_space_size))\n",
    "print(q_table)"
   ]
  },
  {
   "cell_type": "code",
   "execution_count": 35,
   "metadata": {},
   "outputs": [],
   "source": [
    "num_episodes = 10000\n",
    "max_steps_per_episode = 100\n",
    "\n",
    "learning_rate  = 0.1\n",
    "discount_rate = 0.99\n",
    "\n",
    "exploration_rate = 1\n",
    "max_exploration_rate = 1\n",
    "min_exploration_rate = 0.01\n",
    "exploration_decay_rate = 0.001"
   ]
  },
  {
   "cell_type": "code",
   "execution_count": 36,
   "metadata": {},
   "outputs": [
    {
     "name": "stdout",
     "output_type": "stream",
     "text": [
      "******************Average return per thousand episodes****************\n",
      "\n",
      "1000 :  0.046000000000000034\n",
      "2000 :  0.20200000000000015\n",
      "3000 :  0.4090000000000003\n",
      "4000 :  0.5540000000000004\n",
      "5000 :  0.6120000000000004\n",
      "6000 :  0.6380000000000005\n",
      "7000 :  0.6730000000000005\n",
      "8000 :  0.6880000000000005\n",
      "9000 :  0.6760000000000005\n",
      "10000 :  0.6770000000000005\n"
     ]
    }
   ],
   "source": [
    "rewards_all_episodes = []\n",
    "\n",
    "for episode in range(num_episodes):\n",
    "    state = env.reset()\n",
    "    done = False\n",
    "    rewards_current_episode = 0\n",
    "    \n",
    "    for step in range(max_steps_per_episode):\n",
    "        exploration_rate_threshold = random.uniform(0,1)\n",
    "        if exploration_rate_threshold>exploration_rate:\n",
    "            action = np.argmax(q_table[state,:])\n",
    "        else:    \n",
    "            action = env.action_space.sample()\n",
    "            \n",
    "        new_state,reward,done,info = env.step(action)\n",
    "       \n",
    "        q_table[state,action] = q_table[state,action]*(1-learning_rate) + \\\n",
    "        learning_rate * (reward + discount_rate * np.max(q_table[new_state, : ]))\n",
    "        \n",
    "        state = new_state\n",
    "        \n",
    "        rewards_current_episode += reward\n",
    "        \n",
    "        if done == True:\n",
    "            break\n",
    "        \n",
    "    exploration_rate = min_exploration_rate + \\\n",
    "    (max_exploration_rate - min_exploration_rate) *np.exp(-exploration_decay_rate*episode)\n",
    "    \n",
    "    rewards_all_episodes.append(rewards_current_episode)\n",
    "    \n",
    "    \n",
    "rewards_per_thousand_episodes = np.split(np.array(rewards_all_episodes),num_episodes/1000)\n",
    "count = 1000\n",
    "\n",
    "print(\"******************Average return per thousand episodes****************\\n\")\n",
    "\n",
    "for r in rewards_per_thousand_episodes:\n",
    "        print(count,\": \",str(sum(r/1000)))\n",
    "        count += 1000\n",
    "        \n",
    "\n"
   ]
  },
  {
   "cell_type": "code",
   "execution_count": 37,
   "metadata": {},
   "outputs": [
    {
     "name": "stdout",
     "output_type": "stream",
     "text": [
      "******************Q - Table****************\n",
      "\n",
      "[[0.54910022 0.49536634 0.50099833 0.46471882]\n",
      " [0.36212663 0.1603826  0.25277604 0.47664557]\n",
      " [0.40574788 0.3016345  0.30183519 0.27344322]\n",
      " [0.14161334 0.08136378 0.00940949 0.09076621]\n",
      " [0.56498632 0.33264654 0.39536855 0.28365522]\n",
      " [0.         0.         0.         0.        ]\n",
      " [0.30151037 0.1295631  0.16138902 0.13512317]\n",
      " [0.         0.         0.         0.        ]\n",
      " [0.32803975 0.34789805 0.35872045 0.59389924]\n",
      " [0.56751365 0.61117587 0.55760502 0.39310128]\n",
      " [0.50868753 0.36462527 0.34729697 0.25484164]\n",
      " [0.         0.         0.         0.        ]\n",
      " [0.         0.         0.         0.        ]\n",
      " [0.46698043 0.41566864 0.74554941 0.3850783 ]\n",
      " [0.73563884 0.82495938 0.84703983 0.7575521 ]\n",
      " [0.         0.         0.         0.        ]]\n"
     ]
    }
   ],
   "source": [
    "print(\"******************Q - Table****************\\n\")\n",
    "print(q_table)"
   ]
  },
  {
   "cell_type": "code",
   "execution_count": 38,
   "metadata": {},
   "outputs": [
    {
     "name": "stdout",
     "output_type": "stream",
     "text": [
      "  (Right)\n",
      "SFFF\n",
      "FHFH\n",
      "FFFH\n",
      "HFF\u001b[41mG\u001b[0m\n",
      "*********You reached the goal***************\n",
      "\n"
     ]
    }
   ],
   "source": [
    "for episode in range(3):\n",
    "    state = env.reset()\n",
    "    done = False\n",
    "    print(\"*******EPISODE \",episode+1,\"****************\\n\")\n",
    "    time.sleep(1)\n",
    "    \n",
    "    for step in range(max_steps_per_episode):\n",
    "        clear_output(wait = True)\n",
    "        env.render()\n",
    "        time.sleep(0.3)\n",
    "        action = np.argmax(q_table[state, :])\n",
    "        new_state,reward,done,info = env.step(action)\n",
    "        \n",
    "        \n",
    "        if done:\n",
    "            clear_output(wait = True)\n",
    "            env.render()\n",
    "            if(reward == 1):\n",
    "                print(\"*********You reached the goal***************\\n\")\n",
    "                time.sleep(3)\n",
    "            else:\n",
    "                print(\"*********You fell through a hole***************\\n\")\n",
    "                time.sleep(3)\n",
    "            clear_output(wait = True)\n",
    "            break\n",
    "            \n",
    "        state = new_state\n",
    "        \n",
    "env.close()\n",
    "        "
   ]
  },
  {
   "cell_type": "code",
   "execution_count": null,
   "metadata": {},
   "outputs": [],
   "source": []
  }
 ],
 "metadata": {
  "kernelspec": {
   "display_name": "Python 3",
   "language": "python",
   "name": "python3"
  },
  "language_info": {
   "codemirror_mode": {
    "name": "ipython",
    "version": 3
   },
   "file_extension": ".py",
   "mimetype": "text/x-python",
   "name": "python",
   "nbconvert_exporter": "python",
   "pygments_lexer": "ipython3",
   "version": "3.6.9"
  }
 },
 "nbformat": 4,
 "nbformat_minor": 2
}
