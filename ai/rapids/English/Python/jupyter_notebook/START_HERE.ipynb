{
 "cells": [
  {
   "cell_type": "markdown",
   "metadata": {},
   "source": [
    "# RAPIDS"
   ]
  },
  {
   "cell_type": "markdown",
   "metadata": {},
   "source": [
    "The RAPIDS suite of open source software libraries and APIs gives you the ability to execute end-to-end data science and analytics pipelines entirely on GPUs. Licensed under Apache 2.0, RAPIDS is incubated by NVIDIA® based on extensive hardware and data science science experience. RAPIDS utilizes NVIDIA CUDA® primitives for low-level compute optimization, and exposes GPU parallelism and high-bandwidth memory speed through user-friendly Python interfaces."
   ]
  },
  {
   "cell_type": "markdown",
   "metadata": {},
   "source": [
    "<img src=\"imgs/pipeline.png\" height=\"800\" width=\"800\">"
   ]
  },
  {
   "cell_type": "markdown",
   "metadata": {},
   "source": [
    "#### Why? \n",
    "\n",
    "- Reduce data prep + train time, more iterations\n",
    "- Use familiar tools, maintain accuracy\n",
    "\n",
    "#### How? \n",
    "Download RAPIDS source + containers\n",
    "#### Who?\n",
    "Data Scientist\n",
    "#### When? \n",
    "Same day RAPIDS posted to Github\n",
    "#### What? \n",
    "Geospatial use-case\n",
    "#### GTM?  \n",
    "Benchmark: data size, algorithm, system config\n"
   ]
  },
  {
   "cell_type": "markdown",
   "metadata": {},
   "source": [
    "## How is RAPIDS changing the landscape of Data Science?"
   ]
  },
  {
   "cell_type": "markdown",
   "metadata": {},
   "source": [
    "#### Traditional Data Science Ecosystem\n",
    "\n",
    "<img src=\"imgs/datascience.png\" height=\"800\" width=\"800\">\n",
    "\n",
    "\n",
    "#### RAPIDS Ecosystem\n",
    "\n",
    "<img src=\"imgs/rapids.png\" height=\"800\" width=\"800\">\n",
    "\n",
    "You may notice the Arrow component in GPU memory. Arrow defines a language-independent columnar memory format for flat and hierarchical data, organized for efficient analytic operations on modern hardware like CPUs and GPUs. The Arrow memory format also supports zero-copy reads for lightning-fast data access without serialization overhead.The Apache Arrow format allows computational routines and execution engines to maximize their efficiency when scanning and iterating large chunks of data. In particular, the contiguous columnar layout enables vectorization using the latest SIMD (Single Instruction, Multiple Data) operations included in modern processors."
   ]
  },
  {
   "cell_type": "markdown",
   "metadata": {},
   "source": [
    "## What does this series cover?\n",
    "\n",
    "This RAPIDS Bootcamp will be covering some interesting libraries that are easily integratable with the daily data science pipeline and accelerate computations for faster execution. Here are the modules in this tutorial:\n",
    "\n",
    "- [CuDF](CuDF/01-Intro_to_cuDF.ipynb)\n",
    "- [CuML](CuML/01-LinearRegression-Hyperparam.ipynb)\n",
    "- [Dask](Dask/01-Intro_to_Dask.ipynb)\n",
    "- [Challenge](Challenge/Gene-Expression-Classification/Challenge.ipynb)\n",
    "\n",
    "The challenge is an extra module that you can try after learning the individual modules to test your knowledge."
   ]
  },
  {
   "cell_type": "markdown",
   "metadata": {},
   "source": [
    "For more information on RAPIDS, feel free to explore the official documentation here:\n",
    "- https://rapids.ai/about.html\n",
    "- https://github.com/rapidsai"
   ]
  },
  {
   "cell_type": "markdown",
   "metadata": {},
   "source": [
    "## Licensing\n",
    "  \n",
    "This material is released by NVIDIA Corporation under the Creative Commons Attribution 4.0 International (CC BY 4.0)."
   ]
  },
  {
   "cell_type": "markdown",
   "metadata": {},
   "source": [
    "# References\n",
    "\n",
    "- https://rapids.ai/about.html\n",
    "- https://distributed.dask.org/en/latest/worker.html#\n",
    "- https://elitedatascience.com/imbalanced-classes\n",
    "- https://machinelearningmastery.com/train-test-split-for-evaluating-machine-learning-algorithms/"
   ]
  },
  {
   "cell_type": "code",
   "execution_count": null,
   "metadata": {},
   "outputs": [],
   "source": []
  }
 ],
 "metadata": {
  "kernelspec": {
   "display_name": "Python 3",
   "language": "python",
   "name": "python3"
  },
  "language_info": {
   "codemirror_mode": {
    "name": "ipython",
    "version": 3
   },
   "file_extension": ".py",
   "mimetype": "text/x-python",
   "name": "python",
   "nbconvert_exporter": "python",
   "pygments_lexer": "ipython3",
   "version": "3.7.8"
  }
 },
 "nbformat": 4,
 "nbformat_minor": 4
}
