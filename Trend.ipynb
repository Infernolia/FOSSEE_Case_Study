{
 "cells": [
  {
   "cell_type": "code",
   "execution_count": 1,
   "metadata": {},
   "outputs": [],
   "source": [
    "import seaborn as sns\n",
    "import matplotlib.pyplot as plt\n",
    "import pandas as pd\n",
    "import numpy as np"
   ]
  },
  {
   "cell_type": "code",
   "execution_count": 2,
   "metadata": {},
   "outputs": [],
   "source": [
    "data = pd.read_csv(\"Range.csv\")"
   ]
  },
  {
   "cell_type": "code",
   "execution_count": 3,
   "metadata": {},
   "outputs": [
    {
     "data": {
      "text/html": [
       "<div>\n",
       "<style scoped>\n",
       "    .dataframe tbody tr th:only-of-type {\n",
       "        vertical-align: middle;\n",
       "    }\n",
       "\n",
       "    .dataframe tbody tr th {\n",
       "        vertical-align: top;\n",
       "    }\n",
       "\n",
       "    .dataframe thead th {\n",
       "        text-align: right;\n",
       "    }\n",
       "</style>\n",
       "<table border=\"1\" class=\"dataframe\">\n",
       "  <thead>\n",
       "    <tr style=\"text-align: right;\">\n",
       "      <th></th>\n",
       "      <th>Unnamed: 0</th>\n",
       "      <th>Unnamed: 0.1</th>\n",
       "      <th>date</th>\n",
       "      <th>1. open</th>\n",
       "      <th>2. high</th>\n",
       "      <th>3. low</th>\n",
       "      <th>4. close</th>\n",
       "      <th>5. volume</th>\n",
       "      <th>y</th>\n",
       "      <th>x</th>\n",
       "      <th>Label</th>\n",
       "      <th>Grp</th>\n",
       "    </tr>\n",
       "  </thead>\n",
       "  <tbody>\n",
       "    <tr>\n",
       "      <th>0</th>\n",
       "      <td>8</td>\n",
       "      <td>8</td>\n",
       "      <td>2020-05-26</td>\n",
       "      <td>821.90</td>\n",
       "      <td>842.70</td>\n",
       "      <td>821.00</td>\n",
       "      <td>825.55</td>\n",
       "      <td>4335209.0</td>\n",
       "      <td>3.65</td>\n",
       "      <td>21.70</td>\n",
       "      <td>1.0</td>\n",
       "      <td>0</td>\n",
       "    </tr>\n",
       "    <tr>\n",
       "      <th>1</th>\n",
       "      <td>7</td>\n",
       "      <td>7</td>\n",
       "      <td>2020-05-27</td>\n",
       "      <td>831.95</td>\n",
       "      <td>857.20</td>\n",
       "      <td>827.00</td>\n",
       "      <td>850.85</td>\n",
       "      <td>5159287.0</td>\n",
       "      <td>18.90</td>\n",
       "      <td>30.20</td>\n",
       "      <td>0.0</td>\n",
       "      <td>0</td>\n",
       "    </tr>\n",
       "    <tr>\n",
       "      <th>2</th>\n",
       "      <td>6</td>\n",
       "      <td>6</td>\n",
       "      <td>2020-05-28</td>\n",
       "      <td>855.00</td>\n",
       "      <td>912.00</td>\n",
       "      <td>855.00</td>\n",
       "      <td>905.50</td>\n",
       "      <td>11481079.0</td>\n",
       "      <td>50.50</td>\n",
       "      <td>57.00</td>\n",
       "      <td>0.0</td>\n",
       "      <td>0</td>\n",
       "    </tr>\n",
       "    <tr>\n",
       "      <th>3</th>\n",
       "      <td>5</td>\n",
       "      <td>5</td>\n",
       "      <td>2020-05-29</td>\n",
       "      <td>893.20</td>\n",
       "      <td>937.50</td>\n",
       "      <td>891.00</td>\n",
       "      <td>932.25</td>\n",
       "      <td>10166556.0</td>\n",
       "      <td>39.05</td>\n",
       "      <td>46.50</td>\n",
       "      <td>0.0</td>\n",
       "      <td>0</td>\n",
       "    </tr>\n",
       "    <tr>\n",
       "      <th>4</th>\n",
       "      <td>4</td>\n",
       "      <td>4</td>\n",
       "      <td>2020-06-01</td>\n",
       "      <td>944.65</td>\n",
       "      <td>974.15</td>\n",
       "      <td>924.00</td>\n",
       "      <td>928.15</td>\n",
       "      <td>7617144.0</td>\n",
       "      <td>16.50</td>\n",
       "      <td>50.15</td>\n",
       "      <td>1.0</td>\n",
       "      <td>0</td>\n",
       "    </tr>\n",
       "    <tr>\n",
       "      <th>5</th>\n",
       "      <td>3</td>\n",
       "      <td>3</td>\n",
       "      <td>2020-06-02</td>\n",
       "      <td>935.00</td>\n",
       "      <td>953.00</td>\n",
       "      <td>913.05</td>\n",
       "      <td>945.45</td>\n",
       "      <td>7325471.0</td>\n",
       "      <td>10.45</td>\n",
       "      <td>39.95</td>\n",
       "      <td>1.0</td>\n",
       "      <td>0</td>\n",
       "    </tr>\n",
       "  </tbody>\n",
       "</table>\n",
       "</div>"
      ],
      "text/plain": [
       "   Unnamed: 0  Unnamed: 0.1        date  1. open  2. high  3. low  4. close  \\\n",
       "0           8             8  2020-05-26   821.90   842.70  821.00    825.55   \n",
       "1           7             7  2020-05-27   831.95   857.20  827.00    850.85   \n",
       "2           6             6  2020-05-28   855.00   912.00  855.00    905.50   \n",
       "3           5             5  2020-05-29   893.20   937.50  891.00    932.25   \n",
       "4           4             4  2020-06-01   944.65   974.15  924.00    928.15   \n",
       "5           3             3  2020-06-02   935.00   953.00  913.05    945.45   \n",
       "\n",
       "    5. volume      y      x  Label  Grp  \n",
       "0   4335209.0   3.65  21.70    1.0    0  \n",
       "1   5159287.0  18.90  30.20    0.0    0  \n",
       "2  11481079.0  50.50  57.00    0.0    0  \n",
       "3  10166556.0  39.05  46.50    0.0    0  \n",
       "4   7617144.0  16.50  50.15    1.0    0  \n",
       "5   7325471.0  10.45  39.95    1.0    0  "
      ]
     },
     "execution_count": 3,
     "metadata": {},
     "output_type": "execute_result"
    }
   ],
   "source": [
    "data"
   ]
  },
  {
   "cell_type": "code",
   "execution_count": 4,
   "metadata": {},
   "outputs": [],
   "source": [
    "data = data.drop(columns=[\"Unnamed: 0\",\"Unnamed: 0.1\",\"y\",\"x\",\"1. open\",\"2. high\"])\n"
   ]
  },
  {
   "cell_type": "code",
   "execution_count": 5,
   "metadata": {},
   "outputs": [],
   "source": [
    "\n",
    "data.reset_index(inplace=True)"
   ]
  },
  {
   "cell_type": "code",
   "execution_count": 6,
   "metadata": {
    "scrolled": true
   },
   "outputs": [
    {
     "data": {
      "text/html": [
       "<div>\n",
       "<style scoped>\n",
       "    .dataframe tbody tr th:only-of-type {\n",
       "        vertical-align: middle;\n",
       "    }\n",
       "\n",
       "    .dataframe tbody tr th {\n",
       "        vertical-align: top;\n",
       "    }\n",
       "\n",
       "    .dataframe thead th {\n",
       "        text-align: right;\n",
       "    }\n",
       "</style>\n",
       "<table border=\"1\" class=\"dataframe\">\n",
       "  <thead>\n",
       "    <tr style=\"text-align: right;\">\n",
       "      <th></th>\n",
       "      <th>index</th>\n",
       "      <th>date</th>\n",
       "      <th>3. low</th>\n",
       "      <th>4. close</th>\n",
       "      <th>5. volume</th>\n",
       "      <th>Label</th>\n",
       "      <th>Grp</th>\n",
       "    </tr>\n",
       "  </thead>\n",
       "  <tbody>\n",
       "    <tr>\n",
       "      <th>0</th>\n",
       "      <td>0</td>\n",
       "      <td>2020-05-26</td>\n",
       "      <td>821.00</td>\n",
       "      <td>825.55</td>\n",
       "      <td>4335209.0</td>\n",
       "      <td>1.0</td>\n",
       "      <td>0</td>\n",
       "    </tr>\n",
       "    <tr>\n",
       "      <th>1</th>\n",
       "      <td>1</td>\n",
       "      <td>2020-05-27</td>\n",
       "      <td>827.00</td>\n",
       "      <td>850.85</td>\n",
       "      <td>5159287.0</td>\n",
       "      <td>0.0</td>\n",
       "      <td>0</td>\n",
       "    </tr>\n",
       "    <tr>\n",
       "      <th>2</th>\n",
       "      <td>2</td>\n",
       "      <td>2020-05-28</td>\n",
       "      <td>855.00</td>\n",
       "      <td>905.50</td>\n",
       "      <td>11481079.0</td>\n",
       "      <td>0.0</td>\n",
       "      <td>0</td>\n",
       "    </tr>\n",
       "    <tr>\n",
       "      <th>3</th>\n",
       "      <td>3</td>\n",
       "      <td>2020-05-29</td>\n",
       "      <td>891.00</td>\n",
       "      <td>932.25</td>\n",
       "      <td>10166556.0</td>\n",
       "      <td>0.0</td>\n",
       "      <td>0</td>\n",
       "    </tr>\n",
       "    <tr>\n",
       "      <th>4</th>\n",
       "      <td>4</td>\n",
       "      <td>2020-06-01</td>\n",
       "      <td>924.00</td>\n",
       "      <td>928.15</td>\n",
       "      <td>7617144.0</td>\n",
       "      <td>1.0</td>\n",
       "      <td>0</td>\n",
       "    </tr>\n",
       "    <tr>\n",
       "      <th>5</th>\n",
       "      <td>5</td>\n",
       "      <td>2020-06-02</td>\n",
       "      <td>913.05</td>\n",
       "      <td>945.45</td>\n",
       "      <td>7325471.0</td>\n",
       "      <td>1.0</td>\n",
       "      <td>0</td>\n",
       "    </tr>\n",
       "  </tbody>\n",
       "</table>\n",
       "</div>"
      ],
      "text/plain": [
       "   index        date  3. low  4. close   5. volume  Label  Grp\n",
       "0      0  2020-05-26  821.00    825.55   4335209.0    1.0    0\n",
       "1      1  2020-05-27  827.00    850.85   5159287.0    0.0    0\n",
       "2      2  2020-05-28  855.00    905.50  11481079.0    0.0    0\n",
       "3      3  2020-05-29  891.00    932.25  10166556.0    0.0    0\n",
       "4      4  2020-06-01  924.00    928.15   7617144.0    1.0    0\n",
       "5      5  2020-06-02  913.05    945.45   7325471.0    1.0    0"
      ]
     },
     "execution_count": 6,
     "metadata": {},
     "output_type": "execute_result"
    }
   ],
   "source": [
    "data"
   ]
  },
  {
   "cell_type": "code",
   "execution_count": 7,
   "metadata": {},
   "outputs": [],
   "source": [
    "data.drop(columns=[\"index\"],inplace=True)"
   ]
  },
  {
   "cell_type": "code",
   "execution_count": 8,
   "metadata": {},
   "outputs": [],
   "source": [
    "size = len(data)\n",
    "l = []\n",
    "i=0\n",
    "l.append(0)\n",
    "l.append(size)"
   ]
  },
  {
   "cell_type": "code",
   "execution_count": 9,
   "metadata": {},
   "outputs": [
    {
     "data": {
      "text/plain": [
       "[0, 6]"
      ]
     },
     "execution_count": 9,
     "metadata": {},
     "output_type": "execute_result"
    }
   ],
   "source": [
    "l"
   ]
  },
  {
   "cell_type": "code",
   "execution_count": 10,
   "metadata": {},
   "outputs": [
    {
     "name": "stdout",
     "output_type": "stream",
     "text": [
      "Slope 24.51857142857141\n"
     ]
    },
    {
     "data": {
      "image/png": "[encoded data removed]",
      "text/plain": [
       "<Figure size 432x288 with 1 Axes>"
      ]
     },
     "metadata": {
      "needs_background": "light"
     },
     "output_type": "display_data"
    }
   ],
   "source": [
    "import time\n",
    "\n",
    "trends = []\n",
    "\n",
    "for x in l:\n",
    "    selected = data.loc[(data.index >= x) & (data.index <x+size),'4. close']\n",
    "    coefficients, residuals, _, _, _ = np.polyfit(range(len(selected.index)),selected,1,full=True)\n",
    "    mse = residuals[0]/(len(selected.index))\n",
    "    nrmse = np.sqrt(mse)/(selected.max() - selected.min())\n",
    "    print('Slope ' + str(coefficients[0]))\n",
    "    if(coefficients[0]>0):\n",
    "        trends.append(\"Up\")\n",
    "    else:\n",
    "        trends.append(\"Down\")\n",
    "    plt.plot(selected)\n",
    "    plt.plot([coefficients[0]*x + coefficients[1] for x in range(len(selected))])\n",
    "    plt.show()\n",
    "    time.sleep(2)\n",
    "    break\n",
    "    "
   ]
  },
  {
   "cell_type": "code",
   "execution_count": 11,
   "metadata": {},
   "outputs": [
    {
     "data": {
      "text/plain": [
       "['Up']"
      ]
     },
     "execution_count": 11,
     "metadata": {},
     "output_type": "execute_result"
    }
   ],
   "source": [
    "trends"
   ]
  },
  {
   "cell_type": "code",
   "execution_count": 12,
   "metadata": {},
   "outputs": [],
   "source": [
    "for i in trends:\n",
    "    text = \"\\n\\n\\n\\nTREND FOR REGION\\nThe overall trend is : \" + i\n",
    "\n"
   ]
  },
  {
   "cell_type": "code",
   "execution_count": 13,
   "metadata": {},
   "outputs": [
    {
     "data": {
      "text/plain": [
       "46"
      ]
     },
     "execution_count": 13,
     "metadata": {},
     "output_type": "execute_result"
    }
   ],
   "source": [
    "f=open(\"Report.txt\", \"a+\")\n",
    "f.write(text)\n"
   ]
  },
  {
   "cell_type": "code",
   "execution_count": 14,
   "metadata": {},
   "outputs": [],
   "source": [
    "f.close()"
   ]
  },
  {
   "cell_type": "code",
   "execution_count": null,
   "metadata": {},
   "outputs": [],
   "source": []
  }
 ],
 "metadata": {
  "kernelspec": {
   "display_name": "Python 3",
   "language": "python",
   "name": "python3"
  },
  "language_info": {
   "codemirror_mode": {
    "name": "ipython",
    "version": 3
   },
   "file_extension": ".py",
   "mimetype": "text/x-python",
   "name": "python",
   "nbconvert_exporter": "python",
   "pygments_lexer": "ipython3",
   "version": "3.6.9"
  }
 },
 "nbformat": 4,
 "nbformat_minor": 2
}
