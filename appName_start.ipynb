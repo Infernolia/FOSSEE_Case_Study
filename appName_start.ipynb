{
 "cells": [
  {
   "cell_type": "markdown",
   "metadata": {},
   "source": [
    "## AppName Tutorial\n",
    "\n",
    "### Learning objectives\n",
    "What are the learning objectives? What do you want to teach the attendees? Will they apply the knowledge to an application? What is so significant about this application? How would this session benefit them? \n",
    "\n",
    "Use keywords to show what this tutorial is about without the need to start it. It should give the attendee an idea of what they will learn and how would this benefit them.\n",
    "\n",
    "Is there an optional exercise at the end? Who is the audience? \n",
    "\n",
    "- Learn ... {fill it with more detail)\n",
    "- Learn ... \n",
    "\n",
    "What will the attendees achieve at the end?\n",
    "\n",
    "### Tutorial Outline\n",
    "In this section, breakdown each lab and provide detail of what to expect to learn in each lab.\n",
    "Note: Avoid adding too much information to one jupyter lab. Best practice here is to have one lab/learning objective in one notebook\n",
    "\n",
    "- Introduction ([C](C/jupyter_notebook/appName_c_lab1.ipynb) , [xx](Fortran/jupyter_notebook/appName_fortran_lab1.ipynb))\n",
    "    - Overview of ...\n",
    "    - How to use ...\n",
    "- Lab 1 (OPTIONAL: links to notebooks or any necessary part)\n",
    "    - ...\n",
    "    - ...\n",
    "    \n",
    "\n",
    "### Tutorial Duration\n",
    "The lab material will be presented in a xxx session. Link to material is available for download at the end of the lab.\n",
    "\n",
    "### Content Level\n",
    "Options could be Beginner, Intermediate, advanced\n",
    "\n",
    "### Target Audience and Prerequisites\n",
    "Who is the target audiencet for this lab? What should they be interested? What do you expect the attendees to know in advance?\n",
    "\n",
    "Examples: Do they need to know about C? C++ ? GPU architecture? Any programming experience? Does it have to be advance? or basic undrestanding of it would be enough?\n",
    "\n",
    "\n",
    "### Start Here\n",
    "You can choose between a [C-based code](C/jupyter_notebook/appName_c_lab1.ipynb) and a [xx-based code](Fortran/jupyter_notebook/appName_fortran_lab1.ipynb).\n",
    "\n",
    "--- \n",
    "\n",
    "## Licensing \n",
    "\n",
    "This material is released by NVIDIA Corporation under the Creative Commons Attribution 4.0 International (CC BY 4.0). \n"
   ]
  }
 ],
 "metadata": {
  "anaconda-cloud": {},
  "kernelspec": {
   "display_name": "Python 3",
   "language": "python",
   "name": "python3"
  },
  "language_info": {
   "codemirror_mode": {
    "name": "ipython",
    "version": 3
   },
   "file_extension": ".py",
   "mimetype": "text/x-python",
   "name": "python",
   "nbconvert_exporter": "python",
   "pygments_lexer": "ipython3",
   "version": "3.7.4"
  }
 },
 "nbformat": 4,
 "nbformat_minor": 1
}
