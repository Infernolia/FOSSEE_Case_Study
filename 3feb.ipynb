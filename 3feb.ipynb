{
  "nbformat": 4,
  "nbformat_minor": 0,
  "metadata": {
    "kernelspec": {
      "display_name": "Python 3",
      "language": "python",
      "name": "python3"
    },
    "language_info": {
      "codemirror_mode": {
        "name": "ipython",
        "version": 3
      },
      "file_extension": ".py",
      "mimetype": "text/x-python",
      "name": "python",
      "nbconvert_exporter": "python",
      "pygments_lexer": "ipython3",
      "version": "3.6.9"
    },
    "colab": {
      "name": "3feb.ipynb",
      "provenance": [],
      "collapsed_sections": []
    },
    "widgets": {
      "application/vnd.jupyter.widget-state+json": {
        "6e061e684c9743088d22e8776ff37dd4": {
          "model_module": "@jupyter-widgets/controls",
          "model_name": "HBoxModel",
          "state": {
            "_view_name": "HBoxView",
            "_dom_classes": [],
            "_model_name": "HBoxModel",
            "_view_module": "@jupyter-widgets/controls",
            "_model_module_version": "1.5.0",
            "_view_count": null,
            "_view_module_version": "1.5.0",
            "box_style": "",
            "layout": "IPY_MODEL_08ae05e853054ef8902d7c2ced396b94",
            "_model_module": "@jupyter-widgets/controls",
            "children": [
              "IPY_MODEL_2c8b9af561454f6abfccb088a26e0502",
              "IPY_MODEL_43d58e92c1cd44e3b2084a24ac891e98",
              "IPY_MODEL_9664d58b306d4ddaa7eb4071e40d74fe"
            ]
          }
        },
        "08ae05e853054ef8902d7c2ced396b94": {
          "model_module": "@jupyter-widgets/base",
          "model_name": "LayoutModel",
          "state": {
            "_view_name": "LayoutView",
            "grid_template_rows": null,
            "right": null,
            "justify_content": null,
            "_view_module": "@jupyter-widgets/base",
            "overflow": null,
            "_model_module_version": "1.2.0",
            "_view_count": null,
            "flex_flow": null,
            "width": null,
            "min_width": null,
            "border": null,
            "align_items": null,
            "bottom": null,
            "_model_module": "@jupyter-widgets/base",
            "top": null,
            "grid_column": null,
            "overflow_y": null,
            "overflow_x": null,
            "grid_auto_flow": null,
            "grid_area": null,
            "grid_template_columns": null,
            "flex": null,
            "_model_name": "LayoutModel",
            "justify_items": null,
            "grid_row": null,
            "max_height": null,
            "align_content": null,
            "visibility": null,
            "align_self": null,
            "height": null,
            "min_height": null,
            "padding": null,
            "grid_auto_rows": null,
            "grid_gap": null,
            "max_width": null,
            "order": null,
            "_view_module_version": "1.2.0",
            "grid_template_areas": null,
            "object_position": null,
            "object_fit": null,
            "grid_auto_columns": null,
            "margin": null,
            "display": null,
            "left": null
          }
        },
        "2c8b9af561454f6abfccb088a26e0502": {
          "model_module": "@jupyter-widgets/controls",
          "model_name": "HTMLModel",
          "state": {
            "_view_name": "HTMLView",
            "style": "IPY_MODEL_de6d649663a745c4b5b4a66300ff25b4",
            "_dom_classes": [],
            "description": "",
            "_model_name": "HTMLModel",
            "placeholder": "​",
            "_view_module": "@jupyter-widgets/controls",
            "_model_module_version": "1.5.0",
            "value": "Downloading: 100%",
            "_view_count": null,
            "_view_module_version": "1.5.0",
            "description_tooltip": null,
            "_model_module": "@jupyter-widgets/controls",
            "layout": "IPY_MODEL_3380097ae79e481483cf0c1b0bbe5337"
          }
        },
        "43d58e92c1cd44e3b2084a24ac891e98": {
          "model_module": "@jupyter-widgets/controls",
          "model_name": "FloatProgressModel",
          "state": {
            "_view_name": "ProgressView",
            "style": "IPY_MODEL_aa371a705b76475899c0b7766484b4cf",
            "_dom_classes": [],
            "description": "",
            "_model_name": "FloatProgressModel",
            "bar_style": "success",
            "max": 433,
            "_view_module": "@jupyter-widgets/controls",
            "_model_module_version": "1.5.0",
            "value": 433,
            "_view_count": null,
            "_view_module_version": "1.5.0",
            "orientation": "horizontal",
            "min": 0,
            "description_tooltip": null,
            "_model_module": "@jupyter-widgets/controls",
            "layout": "IPY_MODEL_51df16fd3f1e4edf8a2a8592c870bc31"
          }
        },
        "9664d58b306d4ddaa7eb4071e40d74fe": {
          "model_module": "@jupyter-widgets/controls",
          "model_name": "HTMLModel",
          "state": {
            "_view_name": "HTMLView",
            "style": "IPY_MODEL_065ed6ff13f546ec8ff34234eb834e30",
            "_dom_classes": [],
            "description": "",
            "_model_name": "HTMLModel",
            "placeholder": "​",
            "_view_module": "@jupyter-widgets/controls",
            "_model_module_version": "1.5.0",
            "value": " 433/433 [00:00&lt;00:00, 10.7kB/s]",
            "_view_count": null,
            "_view_module_version": "1.5.0",
            "description_tooltip": null,
            "_model_module": "@jupyter-widgets/controls",
            "layout": "IPY_MODEL_0be12f38d147494480fc5e84fb93e162"
          }
        },
        "de6d649663a745c4b5b4a66300ff25b4": {
          "model_module": "@jupyter-widgets/controls",
          "model_name": "DescriptionStyleModel",
          "state": {
            "_view_name": "StyleView",
            "_model_name": "DescriptionStyleModel",
            "description_width": "",
            "_view_module": "@jupyter-widgets/base",
            "_model_module_version": "1.5.0",
            "_view_count": null,
            "_view_module_version": "1.2.0",
            "_model_module": "@jupyter-widgets/controls"
          }
        },
        "3380097ae79e481483cf0c1b0bbe5337": {
          "model_module": "@jupyter-widgets/base",
          "model_name": "LayoutModel",
          "state": {
            "_view_name": "LayoutView",
            "grid_template_rows": null,
            "right": null,
            "justify_content": null,
            "_view_module": "@jupyter-widgets/base",
            "overflow": null,
            "_model_module_version": "1.2.0",
            "_view_count": null,
            "flex_flow": null,
            "width": null,
            "min_width": null,
            "border": null,
            "align_items": null,
            "bottom": null,
            "_model_module": "@jupyter-widgets/base",
            "top": null,
            "grid_column": null,
            "overflow_y": null,
            "overflow_x": null,
            "grid_auto_flow": null,
            "grid_area": null,
            "grid_template_columns": null,
            "flex": null,
            "_model_name": "LayoutModel",
            "justify_items": null,
            "grid_row": null,
            "max_height": null,
            "align_content": null,
            "visibility": null,
            "align_self": null,
            "height": null,
            "min_height": null,
            "padding": null,
            "grid_auto_rows": null,
            "grid_gap": null,
            "max_width": null,
            "order": null,
            "_view_module_version": "1.2.0",
            "grid_template_areas": null,
            "object_position": null,
            "object_fit": null,
            "grid_auto_columns": null,
            "margin": null,
            "display": null,
            "left": null
          }
        },
        "aa371a705b76475899c0b7766484b4cf": {
          "model_module": "@jupyter-widgets/controls",
          "model_name": "ProgressStyleModel",
          "state": {
            "_view_name": "StyleView",
            "_model_name": "ProgressStyleModel",
            "description_width": "",
            "_view_module": "@jupyter-widgets/base",
            "_model_module_version": "1.5.0",
            "_view_count": null,
            "_view_module_version": "1.2.0",
            "bar_color": null,
            "_model_module": "@jupyter-widgets/controls"
          }
        },
        "51df16fd3f1e4edf8a2a8592c870bc31": {
          "model_module": "@jupyter-widgets/base",
          "model_name": "LayoutModel",
          "state": {
            "_view_name": "LayoutView",
            "grid_template_rows": null,
            "right": null,
            "justify_content": null,
            "_view_module": "@jupyter-widgets/base",
            "overflow": null,
            "_model_module_version": "1.2.0",
            "_view_count": null,
            "flex_flow": null,
            "width": null,
            "min_width": null,
            "border": null,
            "align_items": null,
            "bottom": null,
            "_model_module": "@jupyter-widgets/base",
            "top": null,
            "grid_column": null,
            "overflow_y": null,
            "overflow_x": null,
            "grid_auto_flow": null,
            "grid_area": null,
            "grid_template_columns": null,
            "flex": null,
            "_model_name": "LayoutModel",
            "justify_items": null,
            "grid_row": null,
            "max_height": null,
            "align_content": null,
            "visibility": null,
            "align_self": null,
            "height": null,
            "min_height": null,
            "padding": null,
            "grid_auto_rows": null,
            "grid_gap": null,
            "max_width": null,
            "order": null,
            "_view_module_version": "1.2.0",
            "grid_template_areas": null,
            "object_position": null,
            "object_fit": null,
            "grid_auto_columns": null,
            "margin": null,
            "display": null,
            "left": null
          }
        },
        "065ed6ff13f546ec8ff34234eb834e30": {
          "model_module": "@jupyter-widgets/controls",
          "model_name": "DescriptionStyleModel",
          "state": {
            "_view_name": "StyleView",
            "_model_name": "DescriptionStyleModel",
            "description_width": "",
            "_view_module": "@jupyter-widgets/base",
            "_model_module_version": "1.5.0",
            "_view_count": null,
            "_view_module_version": "1.2.0",
            "_model_module": "@jupyter-widgets/controls"
          }
        },
        "0be12f38d147494480fc5e84fb93e162": {
          "model_module": "@jupyter-widgets/base",
          "model_name": "LayoutModel",
          "state": {
            "_view_name": "LayoutView",
            "grid_template_rows": null,
            "right": null,
            "justify_content": null,
            "_view_module": "@jupyter-widgets/base",
            "overflow": null,
            "_model_module_version": "1.2.0",
            "_view_count": null,
            "flex_flow": null,
            "width": null,
            "min_width": null,
            "border": null,
            "align_items": null,
            "bottom": null,
            "_model_module": "@jupyter-widgets/base",
            "top": null,
            "grid_column": null,
            "overflow_y": null,
            "overflow_x": null,
            "grid_auto_flow": null,
            "grid_area": null,
            "grid_template_columns": null,
            "flex": null,
            "_model_name": "LayoutModel",
            "justify_items": null,
            "grid_row": null,
            "max_height": null,
            "align_content": null,
            "visibility": null,
            "align_self": null,
            "height": null,
            "min_height": null,
            "padding": null,
            "grid_auto_rows": null,
            "grid_gap": null,
            "max_width": null,
            "order": null,
            "_view_module_version": "1.2.0",
            "grid_template_areas": null,
            "object_position": null,
            "object_fit": null,
            "grid_auto_columns": null,
            "margin": null,
            "display": null,
            "left": null
          }
        },
        "0e271510f2464a5089986cd01e7565fb": {
          "model_module": "@jupyter-widgets/controls",
          "model_name": "HBoxModel",
          "state": {
            "_view_name": "HBoxView",
            "_dom_classes": [],
            "_model_name": "HBoxModel",
            "_view_module": "@jupyter-widgets/controls",
            "_model_module_version": "1.5.0",
            "_view_count": null,
            "_view_module_version": "1.5.0",
            "box_style": "",
            "layout": "IPY_MODEL_495bbdb38d91478883ffff0a15219de6",
            "_model_module": "@jupyter-widgets/controls",
            "children": [
              "IPY_MODEL_a2552b4f1404459890378fbab0a6e2dd",
              "IPY_MODEL_cc45b20767134479adfae0e011e47c7c",
              "IPY_MODEL_7ba781017bbe40cb88d6b02332ad9cef"
            ]
          }
        },
        "495bbdb38d91478883ffff0a15219de6": {
          "model_module": "@jupyter-widgets/base",
          "model_name": "LayoutModel",
          "state": {
            "_view_name": "LayoutView",
            "grid_template_rows": null,
            "right": null,
            "justify_content": null,
            "_view_module": "@jupyter-widgets/base",
            "overflow": null,
            "_model_module_version": "1.2.0",
            "_view_count": null,
            "flex_flow": null,
            "width": null,
            "min_width": null,
            "border": null,
            "align_items": null,
            "bottom": null,
            "_model_module": "@jupyter-widgets/base",
            "top": null,
            "grid_column": null,
            "overflow_y": null,
            "overflow_x": null,
            "grid_auto_flow": null,
            "grid_area": null,
            "grid_template_columns": null,
            "flex": null,
            "_model_name": "LayoutModel",
            "justify_items": null,
            "grid_row": null,
            "max_height": null,
            "align_content": null,
            "visibility": null,
            "align_self": null,
            "height": null,
            "min_height": null,
            "padding": null,
            "grid_auto_rows": null,
            "grid_gap": null,
            "max_width": null,
            "order": null,
            "_view_module_version": "1.2.0",
            "grid_template_areas": null,
            "object_position": null,
            "object_fit": null,
            "grid_auto_columns": null,
            "margin": null,
            "display": null,
            "left": null
          }
        },
        "a2552b4f1404459890378fbab0a6e2dd": {
          "model_module": "@jupyter-widgets/controls",
          "model_name": "HTMLModel",
          "state": {
            "_view_name": "HTMLView",
            "style": "IPY_MODEL_c56e91702e704c878ce620013e7ddef5",
            "_dom_classes": [],
            "description": "",
            "_model_name": "HTMLModel",
            "placeholder": "​",
            "_view_module": "@jupyter-widgets/controls",
            "_model_module_version": "1.5.0",
            "value": "Downloading: 100%",
            "_view_count": null,
            "_view_module_version": "1.5.0",
            "description_tooltip": null,
            "_model_module": "@jupyter-widgets/controls",
            "layout": "IPY_MODEL_db4f23a639364f2ba496862c4f8edbed"
          }
        },
        "cc45b20767134479adfae0e011e47c7c": {
          "model_module": "@jupyter-widgets/controls",
          "model_name": "FloatProgressModel",
          "state": {
            "_view_name": "ProgressView",
            "style": "IPY_MODEL_96f032ef8b2f475ba7d35bd437c4a74d",
            "_dom_classes": [],
            "description": "",
            "_model_name": "FloatProgressModel",
            "bar_style": "success",
            "max": 435779157,
            "_view_module": "@jupyter-widgets/controls",
            "_model_module_version": "1.5.0",
            "value": 435779157,
            "_view_count": null,
            "_view_module_version": "1.5.0",
            "orientation": "horizontal",
            "min": 0,
            "description_tooltip": null,
            "_model_module": "@jupyter-widgets/controls",
            "layout": "IPY_MODEL_0ffea50d6da64902a88142ef0b28288b"
          }
        },
        "7ba781017bbe40cb88d6b02332ad9cef": {
          "model_module": "@jupyter-widgets/controls",
          "model_name": "HTMLModel",
          "state": {
            "_view_name": "HTMLView",
            "style": "IPY_MODEL_698e3491fcee48f8abcd1e3600822c73",
            "_dom_classes": [],
            "description": "",
            "_model_name": "HTMLModel",
            "placeholder": "​",
            "_view_module": "@jupyter-widgets/controls",
            "_model_module_version": "1.5.0",
            "value": " 436M/436M [00:08&lt;00:00, 45.4MB/s]",
            "_view_count": null,
            "_view_module_version": "1.5.0",
            "description_tooltip": null,
            "_model_module": "@jupyter-widgets/controls",
            "layout": "IPY_MODEL_8f97befc946f43eea803eb9d9adff0e8"
          }
        },
        "c56e91702e704c878ce620013e7ddef5": {
          "model_module": "@jupyter-widgets/controls",
          "model_name": "DescriptionStyleModel",
          "state": {
            "_view_name": "StyleView",
            "_model_name": "DescriptionStyleModel",
            "description_width": "",
            "_view_module": "@jupyter-widgets/base",
            "_model_module_version": "1.5.0",
            "_view_count": null,
            "_view_module_version": "1.2.0",
            "_model_module": "@jupyter-widgets/controls"
          }
        },
        "db4f23a639364f2ba496862c4f8edbed": {
          "model_module": "@jupyter-widgets/base",
          "model_name": "LayoutModel",
          "state": {
            "_view_name": "LayoutView",
            "grid_template_rows": null,
            "right": null,
            "justify_content": null,
            "_view_module": "@jupyter-widgets/base",
            "overflow": null,
            "_model_module_version": "1.2.0",
            "_view_count": null,
            "flex_flow": null,
            "width": null,
            "min_width": null,
            "border": null,
            "align_items": null,
            "bottom": null,
            "_model_module": "@jupyter-widgets/base",
            "top": null,
            "grid_column": null,
            "overflow_y": null,
            "overflow_x": null,
            "grid_auto_flow": null,
            "grid_area": null,
            "grid_template_columns": null,
            "flex": null,
            "_model_name": "LayoutModel",
            "justify_items": null,
            "grid_row": null,
            "max_height": null,
            "align_content": null,
            "visibility": null,
            "align_self": null,
            "height": null,
            "min_height": null,
            "padding": null,
            "grid_auto_rows": null,
            "grid_gap": null,
            "max_width": null,
            "order": null,
            "_view_module_version": "1.2.0",
            "grid_template_areas": null,
            "object_position": null,
            "object_fit": null,
            "grid_auto_columns": null,
            "margin": null,
            "display": null,
            "left": null
          }
        },
        "96f032ef8b2f475ba7d35bd437c4a74d": {
          "model_module": "@jupyter-widgets/controls",
          "model_name": "ProgressStyleModel",
          "state": {
            "_view_name": "StyleView",
            "_model_name": "ProgressStyleModel",
            "description_width": "",
            "_view_module": "@jupyter-widgets/base",
            "_model_module_version": "1.5.0",
            "_view_count": null,
            "_view_module_version": "1.2.0",
            "bar_color": null,
            "_model_module": "@jupyter-widgets/controls"
          }
        },
        "0ffea50d6da64902a88142ef0b28288b": {
          "model_module": "@jupyter-widgets/base",
          "model_name": "LayoutModel",
          "state": {
            "_view_name": "LayoutView",
            "grid_template_rows": null,
            "right": null,
            "justify_content": null,
            "_view_module": "@jupyter-widgets/base",
            "overflow": null,
            "_model_module_version": "1.2.0",
            "_view_count": null,
            "flex_flow": null,
            "width": null,
            "min_width": null,
            "border": null,
            "align_items": null,
            "bottom": null,
            "_model_module": "@jupyter-widgets/base",
            "top": null,
            "grid_column": null,
            "overflow_y": null,
            "overflow_x": null,
            "grid_auto_flow": null,
            "grid_area": null,
            "grid_template_columns": null,
            "flex": null,
            "_model_name": "LayoutModel",
            "justify_items": null,
            "grid_row": null,
            "max_height": null,
            "align_content": null,
            "visibility": null,
            "align_self": null,
            "height": null,
            "min_height": null,
            "padding": null,
            "grid_auto_rows": null,
            "grid_gap": null,
            "max_width": null,
            "order": null,
            "_view_module_version": "1.2.0",
            "grid_template_areas": null,
            "object_position": null,
            "object_fit": null,
            "grid_auto_columns": null,
            "margin": null,
            "display": null,
            "left": null
          }
        },
        "698e3491fcee48f8abcd1e3600822c73": {
          "model_module": "@jupyter-widgets/controls",
          "model_name": "DescriptionStyleModel",
          "state": {
            "_view_name": "StyleView",
            "_model_name": "DescriptionStyleModel",
            "description_width": "",
            "_view_module": "@jupyter-widgets/base",
            "_model_module_version": "1.5.0",
            "_view_count": null,
            "_view_module_version": "1.2.0",
            "_model_module": "@jupyter-widgets/controls"
          }
        },
        "8f97befc946f43eea803eb9d9adff0e8": {
          "model_module": "@jupyter-widgets/base",
          "model_name": "LayoutModel",
          "state": {
            "_view_name": "LayoutView",
            "grid_template_rows": null,
            "right": null,
            "justify_content": null,
            "_view_module": "@jupyter-widgets/base",
            "overflow": null,
            "_model_module_version": "1.2.0",
            "_view_count": null,
            "flex_flow": null,
            "width": null,
            "min_width": null,
            "border": null,
            "align_items": null,
            "bottom": null,
            "_model_module": "@jupyter-widgets/base",
            "top": null,
            "grid_column": null,
            "overflow_y": null,
            "overflow_x": null,
            "grid_auto_flow": null,
            "grid_area": null,
            "grid_template_columns": null,
            "flex": null,
            "_model_name": "LayoutModel",
            "justify_items": null,
            "grid_row": null,
            "max_height": null,
            "align_content": null,
            "visibility": null,
            "align_self": null,
            "height": null,
            "min_height": null,
            "padding": null,
            "grid_auto_rows": null,
            "grid_gap": null,
            "max_width": null,
            "order": null,
            "_view_module_version": "1.2.0",
            "grid_template_areas": null,
            "object_position": null,
            "object_fit": null,
            "grid_auto_columns": null,
            "margin": null,
            "display": null,
            "left": null
          }
        },
        "1fd0610dbc874de1a7b193a7196c8663": {
          "model_module": "@jupyter-widgets/controls",
          "model_name": "HBoxModel",
          "state": {
            "_view_name": "HBoxView",
            "_dom_classes": [],
            "_model_name": "HBoxModel",
            "_view_module": "@jupyter-widgets/controls",
            "_model_module_version": "1.5.0",
            "_view_count": null,
            "_view_module_version": "1.5.0",
            "box_style": "",
            "layout": "IPY_MODEL_75bc6e0aad4b48e990af8279790d6691",
            "_model_module": "@jupyter-widgets/controls",
            "children": [
              "IPY_MODEL_97fa2da841464527a1764fe87ec692e5",
              "IPY_MODEL_f19d000cae2949f48fadb6810dccc0ad",
              "IPY_MODEL_0fa5beaa4c8b40a797445b5322009c71"
            ]
          }
        },
        "75bc6e0aad4b48e990af8279790d6691": {
          "model_module": "@jupyter-widgets/base",
          "model_name": "LayoutModel",
          "state": {
            "_view_name": "LayoutView",
            "grid_template_rows": null,
            "right": null,
            "justify_content": null,
            "_view_module": "@jupyter-widgets/base",
            "overflow": null,
            "_model_module_version": "1.2.0",
            "_view_count": null,
            "flex_flow": null,
            "width": null,
            "min_width": null,
            "border": null,
            "align_items": null,
            "bottom": null,
            "_model_module": "@jupyter-widgets/base",
            "top": null,
            "grid_column": null,
            "overflow_y": null,
            "overflow_x": null,
            "grid_auto_flow": null,
            "grid_area": null,
            "grid_template_columns": null,
            "flex": null,
            "_model_name": "LayoutModel",
            "justify_items": null,
            "grid_row": null,
            "max_height": null,
            "align_content": null,
            "visibility": null,
            "align_self": null,
            "height": null,
            "min_height": null,
            "padding": null,
            "grid_auto_rows": null,
            "grid_gap": null,
            "max_width": null,
            "order": null,
            "_view_module_version": "1.2.0",
            "grid_template_areas": null,
            "object_position": null,
            "object_fit": null,
            "grid_auto_columns": null,
            "margin": null,
            "display": null,
            "left": null
          }
        },
        "97fa2da841464527a1764fe87ec692e5": {
          "model_module": "@jupyter-widgets/controls",
          "model_name": "HTMLModel",
          "state": {
            "_view_name": "HTMLView",
            "style": "IPY_MODEL_7f755d68d5494ed59beb9951cefd1f1a",
            "_dom_classes": [],
            "description": "",
            "_model_name": "HTMLModel",
            "placeholder": "​",
            "_view_module": "@jupyter-widgets/controls",
            "_model_module_version": "1.5.0",
            "value": "Downloading: 100%",
            "_view_count": null,
            "_view_module_version": "1.5.0",
            "description_tooltip": null,
            "_model_module": "@jupyter-widgets/controls",
            "layout": "IPY_MODEL_312cba4526b7458a9257d6b9a83c7499"
          }
        },
        "f19d000cae2949f48fadb6810dccc0ad": {
          "model_module": "@jupyter-widgets/controls",
          "model_name": "FloatProgressModel",
          "state": {
            "_view_name": "ProgressView",
            "style": "IPY_MODEL_bf98c3e5192b4a57903e9d64e1a99824",
            "_dom_classes": [],
            "description": "",
            "_model_name": "FloatProgressModel",
            "bar_style": "success",
            "max": 213450,
            "_view_module": "@jupyter-widgets/controls",
            "_model_module_version": "1.5.0",
            "value": 213450,
            "_view_count": null,
            "_view_module_version": "1.5.0",
            "orientation": "horizontal",
            "min": 0,
            "description_tooltip": null,
            "_model_module": "@jupyter-widgets/controls",
            "layout": "IPY_MODEL_24635e2d38ee45b6bbe36496f5ba504e"
          }
        },
        "0fa5beaa4c8b40a797445b5322009c71": {
          "model_module": "@jupyter-widgets/controls",
          "model_name": "HTMLModel",
          "state": {
            "_view_name": "HTMLView",
            "style": "IPY_MODEL_42e01f7482a24d57a108ee1971456ac7",
            "_dom_classes": [],
            "description": "",
            "_model_name": "HTMLModel",
            "placeholder": "​",
            "_view_module": "@jupyter-widgets/controls",
            "_model_module_version": "1.5.0",
            "value": " 213k/213k [00:00&lt;00:00, 3.03MB/s]",
            "_view_count": null,
            "_view_module_version": "1.5.0",
            "description_tooltip": null,
            "_model_module": "@jupyter-widgets/controls",
            "layout": "IPY_MODEL_9ba1a075614b41a399acbbc96c7ea80a"
          }
        },
        "7f755d68d5494ed59beb9951cefd1f1a": {
          "model_module": "@jupyter-widgets/controls",
          "model_name": "DescriptionStyleModel",
          "state": {
            "_view_name": "StyleView",
            "_model_name": "DescriptionStyleModel",
            "description_width": "",
            "_view_module": "@jupyter-widgets/base",
            "_model_module_version": "1.5.0",
            "_view_count": null,
            "_view_module_version": "1.2.0",
            "_model_module": "@jupyter-widgets/controls"
          }
        },
        "312cba4526b7458a9257d6b9a83c7499": {
          "model_module": "@jupyter-widgets/base",
          "model_name": "LayoutModel",
          "state": {
            "_view_name": "LayoutView",
            "grid_template_rows": null,
            "right": null,
            "justify_content": null,
            "_view_module": "@jupyter-widgets/base",
            "overflow": null,
            "_model_module_version": "1.2.0",
            "_view_count": null,
            "flex_flow": null,
            "width": null,
            "min_width": null,
            "border": null,
            "align_items": null,
            "bottom": null,
            "_model_module": "@jupyter-widgets/base",
            "top": null,
            "grid_column": null,
            "overflow_y": null,
            "overflow_x": null,
            "grid_auto_flow": null,
            "grid_area": null,
            "grid_template_columns": null,
            "flex": null,
            "_model_name": "LayoutModel",
            "justify_items": null,
            "grid_row": null,
            "max_height": null,
            "align_content": null,
            "visibility": null,
            "align_self": null,
            "height": null,
            "min_height": null,
            "padding": null,
            "grid_auto_rows": null,
            "grid_gap": null,
            "max_width": null,
            "order": null,
            "_view_module_version": "1.2.0",
            "grid_template_areas": null,
            "object_position": null,
            "object_fit": null,
            "grid_auto_columns": null,
            "margin": null,
            "display": null,
            "left": null
          }
        },
        "bf98c3e5192b4a57903e9d64e1a99824": {
          "model_module": "@jupyter-widgets/controls",
          "model_name": "ProgressStyleModel",
          "state": {
            "_view_name": "StyleView",
            "_model_name": "ProgressStyleModel",
            "description_width": "",
            "_view_module": "@jupyter-widgets/base",
            "_model_module_version": "1.5.0",
            "_view_count": null,
            "_view_module_version": "1.2.0",
            "bar_color": null,
            "_model_module": "@jupyter-widgets/controls"
          }
        },
        "24635e2d38ee45b6bbe36496f5ba504e": {
          "model_module": "@jupyter-widgets/base",
          "model_name": "LayoutModel",
          "state": {
            "_view_name": "LayoutView",
            "grid_template_rows": null,
            "right": null,
            "justify_content": null,
            "_view_module": "@jupyter-widgets/base",
            "overflow": null,
            "_model_module_version": "1.2.0",
            "_view_count": null,
            "flex_flow": null,
            "width": null,
            "min_width": null,
            "border": null,
            "align_items": null,
            "bottom": null,
            "_model_module": "@jupyter-widgets/base",
            "top": null,
            "grid_column": null,
            "overflow_y": null,
            "overflow_x": null,
            "grid_auto_flow": null,
            "grid_area": null,
            "grid_template_columns": null,
            "flex": null,
            "_model_name": "LayoutModel",
            "justify_items": null,
            "grid_row": null,
            "max_height": null,
            "align_content": null,
            "visibility": null,
            "align_self": null,
            "height": null,
            "min_height": null,
            "padding": null,
            "grid_auto_rows": null,
            "grid_gap": null,
            "max_width": null,
            "order": null,
            "_view_module_version": "1.2.0",
            "grid_template_areas": null,
            "object_position": null,
            "object_fit": null,
            "grid_auto_columns": null,
            "margin": null,
            "display": null,
            "left": null
          }
        },
        "42e01f7482a24d57a108ee1971456ac7": {
          "model_module": "@jupyter-widgets/controls",
          "model_name": "DescriptionStyleModel",
          "state": {
            "_view_name": "StyleView",
            "_model_name": "DescriptionStyleModel",
            "description_width": "",
            "_view_module": "@jupyter-widgets/base",
            "_model_module_version": "1.5.0",
            "_view_count": null,
            "_view_module_version": "1.2.0",
            "_model_module": "@jupyter-widgets/controls"
          }
        },
        "9ba1a075614b41a399acbbc96c7ea80a": {
          "model_module": "@jupyter-widgets/base",
          "model_name": "LayoutModel",
          "state": {
            "_view_name": "LayoutView",
            "grid_template_rows": null,
            "right": null,
            "justify_content": null,
            "_view_module": "@jupyter-widgets/base",
            "overflow": null,
            "_model_module_version": "1.2.0",
            "_view_count": null,
            "flex_flow": null,
            "width": null,
            "min_width": null,
            "border": null,
            "align_items": null,
            "bottom": null,
            "_model_module": "@jupyter-widgets/base",
            "top": null,
            "grid_column": null,
            "overflow_y": null,
            "overflow_x": null,
            "grid_auto_flow": null,
            "grid_area": null,
            "grid_template_columns": null,
            "flex": null,
            "_model_name": "LayoutModel",
            "justify_items": null,
            "grid_row": null,
            "max_height": null,
            "align_content": null,
            "visibility": null,
            "align_self": null,
            "height": null,
            "min_height": null,
            "padding": null,
            "grid_auto_rows": null,
            "grid_gap": null,
            "max_width": null,
            "order": null,
            "_view_module_version": "1.2.0",
            "grid_template_areas": null,
            "object_position": null,
            "object_fit": null,
            "grid_auto_columns": null,
            "margin": null,
            "display": null,
            "left": null
          }
        },
        "919410df7132422aa61fd3621f4e4b47": {
          "model_module": "@jupyter-widgets/controls",
          "model_name": "HBoxModel",
          "state": {
            "_view_name": "HBoxView",
            "_dom_classes": [],
            "_model_name": "HBoxModel",
            "_view_module": "@jupyter-widgets/controls",
            "_model_module_version": "1.5.0",
            "_view_count": null,
            "_view_module_version": "1.5.0",
            "box_style": "",
            "layout": "IPY_MODEL_8a9b676848924d4ea96529fd598b009d",
            "_model_module": "@jupyter-widgets/controls",
            "children": [
              "IPY_MODEL_a9c4c7b41e874b80adc47f622de16ad2",
              "IPY_MODEL_358f0324b3d04587a8bd18d5f7a20b24",
              "IPY_MODEL_a5ca6d5bda384bc3a1a0b5c3df3160cc"
            ]
          }
        },
        "8a9b676848924d4ea96529fd598b009d": {
          "model_module": "@jupyter-widgets/base",
          "model_name": "LayoutModel",
          "state": {
            "_view_name": "LayoutView",
            "grid_template_rows": null,
            "right": null,
            "justify_content": null,
            "_view_module": "@jupyter-widgets/base",
            "overflow": null,
            "_model_module_version": "1.2.0",
            "_view_count": null,
            "flex_flow": null,
            "width": null,
            "min_width": null,
            "border": null,
            "align_items": null,
            "bottom": null,
            "_model_module": "@jupyter-widgets/base",
            "top": null,
            "grid_column": null,
            "overflow_y": null,
            "overflow_x": null,
            "grid_auto_flow": null,
            "grid_area": null,
            "grid_template_columns": null,
            "flex": null,
            "_model_name": "LayoutModel",
            "justify_items": null,
            "grid_row": null,
            "max_height": null,
            "align_content": null,
            "visibility": null,
            "align_self": null,
            "height": null,
            "min_height": null,
            "padding": null,
            "grid_auto_rows": null,
            "grid_gap": null,
            "max_width": null,
            "order": null,
            "_view_module_version": "1.2.0",
            "grid_template_areas": null,
            "object_position": null,
            "object_fit": null,
            "grid_auto_columns": null,
            "margin": null,
            "display": null,
            "left": null
          }
        },
        "a9c4c7b41e874b80adc47f622de16ad2": {
          "model_module": "@jupyter-widgets/controls",
          "model_name": "HTMLModel",
          "state": {
            "_view_name": "HTMLView",
            "style": "IPY_MODEL_aa05626ea0bc4ca3aef780bca8161d04",
            "_dom_classes": [],
            "description": "",
            "_model_name": "HTMLModel",
            "placeholder": "​",
            "_view_module": "@jupyter-widgets/controls",
            "_model_module_version": "1.5.0",
            "value": "100%",
            "_view_count": null,
            "_view_module_version": "1.5.0",
            "description_tooltip": null,
            "_model_module": "@jupyter-widgets/controls",
            "layout": "IPY_MODEL_f3104ac5d9134a958ff6079907d824fc"
          }
        },
        "358f0324b3d04587a8bd18d5f7a20b24": {
          "model_module": "@jupyter-widgets/controls",
          "model_name": "FloatProgressModel",
          "state": {
            "_view_name": "ProgressView",
            "style": "IPY_MODEL_517850f2524540279bd9cf521926d35b",
            "_dom_classes": [],
            "description": "",
            "_model_name": "FloatProgressModel",
            "bar_style": "success",
            "max": 2,
            "_view_module": "@jupyter-widgets/controls",
            "_model_module_version": "1.5.0",
            "value": 2,
            "_view_count": null,
            "_view_module_version": "1.5.0",
            "orientation": "horizontal",
            "min": 0,
            "description_tooltip": null,
            "_model_module": "@jupyter-widgets/controls",
            "layout": "IPY_MODEL_f2cc88eb33434ff7aa86942a8a9703b7"
          }
        },
        "a5ca6d5bda384bc3a1a0b5c3df3160cc": {
          "model_module": "@jupyter-widgets/controls",
          "model_name": "HTMLModel",
          "state": {
            "_view_name": "HTMLView",
            "style": "IPY_MODEL_ec0a81d5dbb54f1980b99c504b523558",
            "_dom_classes": [],
            "description": "",
            "_model_name": "HTMLModel",
            "placeholder": "​",
            "_view_module": "@jupyter-widgets/controls",
            "_model_module_version": "1.5.0",
            "value": " 2/2 [00:01&lt;00:00,  1.52it/s]",
            "_view_count": null,
            "_view_module_version": "1.5.0",
            "description_tooltip": null,
            "_model_module": "@jupyter-widgets/controls",
            "layout": "IPY_MODEL_91c2fb842fdf47e1a5fee76dba294464"
          }
        },
        "aa05626ea0bc4ca3aef780bca8161d04": {
          "model_module": "@jupyter-widgets/controls",
          "model_name": "DescriptionStyleModel",
          "state": {
            "_view_name": "StyleView",
            "_model_name": "DescriptionStyleModel",
            "description_width": "",
            "_view_module": "@jupyter-widgets/base",
            "_model_module_version": "1.5.0",
            "_view_count": null,
            "_view_module_version": "1.2.0",
            "_model_module": "@jupyter-widgets/controls"
          }
        },
        "f3104ac5d9134a958ff6079907d824fc": {
          "model_module": "@jupyter-widgets/base",
          "model_name": "LayoutModel",
          "state": {
            "_view_name": "LayoutView",
            "grid_template_rows": null,
            "right": null,
            "justify_content": null,
            "_view_module": "@jupyter-widgets/base",
            "overflow": null,
            "_model_module_version": "1.2.0",
            "_view_count": null,
            "flex_flow": null,
            "width": null,
            "min_width": null,
            "border": null,
            "align_items": null,
            "bottom": null,
            "_model_module": "@jupyter-widgets/base",
            "top": null,
            "grid_column": null,
            "overflow_y": null,
            "overflow_x": null,
            "grid_auto_flow": null,
            "grid_area": null,
            "grid_template_columns": null,
            "flex": null,
            "_model_name": "LayoutModel",
            "justify_items": null,
            "grid_row": null,
            "max_height": null,
            "align_content": null,
            "visibility": null,
            "align_self": null,
            "height": null,
            "min_height": null,
            "padding": null,
            "grid_auto_rows": null,
            "grid_gap": null,
            "max_width": null,
            "order": null,
            "_view_module_version": "1.2.0",
            "grid_template_areas": null,
            "object_position": null,
            "object_fit": null,
            "grid_auto_columns": null,
            "margin": null,
            "display": null,
            "left": null
          }
        },
        "517850f2524540279bd9cf521926d35b": {
          "model_module": "@jupyter-widgets/controls",
          "model_name": "ProgressStyleModel",
          "state": {
            "_view_name": "StyleView",
            "_model_name": "ProgressStyleModel",
            "description_width": "",
            "_view_module": "@jupyter-widgets/base",
            "_model_module_version": "1.5.0",
            "_view_count": null,
            "_view_module_version": "1.2.0",
            "bar_color": null,
            "_model_module": "@jupyter-widgets/controls"
          }
        },
        "f2cc88eb33434ff7aa86942a8a9703b7": {
          "model_module": "@jupyter-widgets/base",
          "model_name": "LayoutModel",
          "state": {
            "_view_name": "LayoutView",
            "grid_template_rows": null,
            "right": null,
            "justify_content": null,
            "_view_module": "@jupyter-widgets/base",
            "overflow": null,
            "_model_module_version": "1.2.0",
            "_view_count": null,
            "flex_flow": null,
            "width": null,
            "min_width": null,
            "border": null,
            "align_items": null,
            "bottom": null,
            "_model_module": "@jupyter-widgets/base",
            "top": null,
            "grid_column": null,
            "overflow_y": null,
            "overflow_x": null,
            "grid_auto_flow": null,
            "grid_area": null,
            "grid_template_columns": null,
            "flex": null,
            "_model_name": "LayoutModel",
            "justify_items": null,
            "grid_row": null,
            "max_height": null,
            "align_content": null,
            "visibility": null,
            "align_self": null,
            "height": null,
            "min_height": null,
            "padding": null,
            "grid_auto_rows": null,
            "grid_gap": null,
            "max_width": null,
            "order": null,
            "_view_module_version": "1.2.0",
            "grid_template_areas": null,
            "object_position": null,
            "object_fit": null,
            "grid_auto_columns": null,
            "margin": null,
            "display": null,
            "left": null
          }
        },
        "ec0a81d5dbb54f1980b99c504b523558": {
          "model_module": "@jupyter-widgets/controls",
          "model_name": "DescriptionStyleModel",
          "state": {
            "_view_name": "StyleView",
            "_model_name": "DescriptionStyleModel",
            "description_width": "",
            "_view_module": "@jupyter-widgets/base",
            "_model_module_version": "1.5.0",
            "_view_count": null,
            "_view_module_version": "1.2.0",
            "_model_module": "@jupyter-widgets/controls"
          }
        },
        "91c2fb842fdf47e1a5fee76dba294464": {
          "model_module": "@jupyter-widgets/base",
          "model_name": "LayoutModel",
          "state": {
            "_view_name": "LayoutView",
            "grid_template_rows": null,
            "right": null,
            "justify_content": null,
            "_view_module": "@jupyter-widgets/base",
            "overflow": null,
            "_model_module_version": "1.2.0",
            "_view_count": null,
            "flex_flow": null,
            "width": null,
            "min_width": null,
            "border": null,
            "align_items": null,
            "bottom": null,
            "_model_module": "@jupyter-widgets/base",
            "top": null,
            "grid_column": null,
            "overflow_y": null,
            "overflow_x": null,
            "grid_auto_flow": null,
            "grid_area": null,
            "grid_template_columns": null,
            "flex": null,
            "_model_name": "LayoutModel",
            "justify_items": null,
            "grid_row": null,
            "max_height": null,
            "align_content": null,
            "visibility": null,
            "align_self": null,
            "height": null,
            "min_height": null,
            "padding": null,
            "grid_auto_rows": null,
            "grid_gap": null,
            "max_width": null,
            "order": null,
            "_view_module_version": "1.2.0",
            "grid_template_areas": null,
            "object_position": null,
            "object_fit": null,
            "grid_auto_columns": null,
            "margin": null,
            "display": null,
            "left": null
          }
        },
        "d24f1f6e223f465f9ef70825f2168c9c": {
          "model_module": "@jupyter-widgets/controls",
          "model_name": "HBoxModel",
          "state": {
            "_view_name": "HBoxView",
            "_dom_classes": [],
            "_model_name": "HBoxModel",
            "_view_module": "@jupyter-widgets/controls",
            "_model_module_version": "1.5.0",
            "_view_count": null,
            "_view_module_version": "1.5.0",
            "box_style": "",
            "layout": "IPY_MODEL_ca953377055241dbb6146ffaf7694727",
            "_model_module": "@jupyter-widgets/controls",
            "children": [
              "IPY_MODEL_d908af6b70094c4d9a283d7b6a8896a7",
              "IPY_MODEL_45749c4af5034c0b895473cc5d6ed7b7",
              "IPY_MODEL_2da57b05e6c34f51b715103d14d38cdf"
            ]
          }
        },
        "ca953377055241dbb6146ffaf7694727": {
          "model_module": "@jupyter-widgets/base",
          "model_name": "LayoutModel",
          "state": {
            "_view_name": "LayoutView",
            "grid_template_rows": null,
            "right": null,
            "justify_content": null,
            "_view_module": "@jupyter-widgets/base",
            "overflow": null,
            "_model_module_version": "1.2.0",
            "_view_count": null,
            "flex_flow": null,
            "width": null,
            "min_width": null,
            "border": null,
            "align_items": null,
            "bottom": null,
            "_model_module": "@jupyter-widgets/base",
            "top": null,
            "grid_column": null,
            "overflow_y": null,
            "overflow_x": null,
            "grid_auto_flow": null,
            "grid_area": null,
            "grid_template_columns": null,
            "flex": null,
            "_model_name": "LayoutModel",
            "justify_items": null,
            "grid_row": null,
            "max_height": null,
            "align_content": null,
            "visibility": null,
            "align_self": null,
            "height": null,
            "min_height": null,
            "padding": null,
            "grid_auto_rows": null,
            "grid_gap": null,
            "max_width": null,
            "order": null,
            "_view_module_version": "1.2.0",
            "grid_template_areas": null,
            "object_position": null,
            "object_fit": null,
            "grid_auto_columns": null,
            "margin": null,
            "display": null,
            "left": null
          }
        },
        "d908af6b70094c4d9a283d7b6a8896a7": {
          "model_module": "@jupyter-widgets/controls",
          "model_name": "HTMLModel",
          "state": {
            "_view_name": "HTMLView",
            "style": "IPY_MODEL_97502754975a4b2e8a5d86d075d1360d",
            "_dom_classes": [],
            "description": "",
            "_model_name": "HTMLModel",
            "placeholder": "​",
            "_view_module": "@jupyter-widgets/controls",
            "_model_module_version": "1.5.0",
            "value": "Epoch 1 of 1: 100%",
            "_view_count": null,
            "_view_module_version": "1.5.0",
            "description_tooltip": null,
            "_model_module": "@jupyter-widgets/controls",
            "layout": "IPY_MODEL_d3adb4a412184c049a11c57c49c195cf"
          }
        },
        "45749c4af5034c0b895473cc5d6ed7b7": {
          "model_module": "@jupyter-widgets/controls",
          "model_name": "FloatProgressModel",
          "state": {
            "_view_name": "ProgressView",
            "style": "IPY_MODEL_5e5cd3dc9d244be7aa248b820a330b5b",
            "_dom_classes": [],
            "description": "",
            "_model_name": "FloatProgressModel",
            "bar_style": "success",
            "max": 1,
            "_view_module": "@jupyter-widgets/controls",
            "_model_module_version": "1.5.0",
            "value": 1,
            "_view_count": null,
            "_view_module_version": "1.5.0",
            "orientation": "horizontal",
            "min": 0,
            "description_tooltip": null,
            "_model_module": "@jupyter-widgets/controls",
            "layout": "IPY_MODEL_33403a9b2d63404abb763417d92f3919"
          }
        },
        "2da57b05e6c34f51b715103d14d38cdf": {
          "model_module": "@jupyter-widgets/controls",
          "model_name": "HTMLModel",
          "state": {
            "_view_name": "HTMLView",
            "style": "IPY_MODEL_50f0b970e2b34b5b892e6cd316dd626c",
            "_dom_classes": [],
            "description": "",
            "_model_name": "HTMLModel",
            "placeholder": "​",
            "_view_module": "@jupyter-widgets/controls",
            "_model_module_version": "1.5.0",
            "value": " 1/1 [34:49&lt;00:00, 2089.36s/it]",
            "_view_count": null,
            "_view_module_version": "1.5.0",
            "description_tooltip": null,
            "_model_module": "@jupyter-widgets/controls",
            "layout": "IPY_MODEL_7255d78ed06d4484a1e88a841c22575a"
          }
        },
        "97502754975a4b2e8a5d86d075d1360d": {
          "model_module": "@jupyter-widgets/controls",
          "model_name": "DescriptionStyleModel",
          "state": {
            "_view_name": "StyleView",
            "_model_name": "DescriptionStyleModel",
            "description_width": "",
            "_view_module": "@jupyter-widgets/base",
            "_model_module_version": "1.5.0",
            "_view_count": null,
            "_view_module_version": "1.2.0",
            "_model_module": "@jupyter-widgets/controls"
          }
        },
        "d3adb4a412184c049a11c57c49c195cf": {
          "model_module": "@jupyter-widgets/base",
          "model_name": "LayoutModel",
          "state": {
            "_view_name": "LayoutView",
            "grid_template_rows": null,
            "right": null,
            "justify_content": null,
            "_view_module": "@jupyter-widgets/base",
            "overflow": null,
            "_model_module_version": "1.2.0",
            "_view_count": null,
            "flex_flow": null,
            "width": null,
            "min_width": null,
            "border": null,
            "align_items": null,
            "bottom": null,
            "_model_module": "@jupyter-widgets/base",
            "top": null,
            "grid_column": null,
            "overflow_y": null,
            "overflow_x": null,
            "grid_auto_flow": null,
            "grid_area": null,
            "grid_template_columns": null,
            "flex": null,
            "_model_name": "LayoutModel",
            "justify_items": null,
            "grid_row": null,
            "max_height": null,
            "align_content": null,
            "visibility": null,
            "align_self": null,
            "height": null,
            "min_height": null,
            "padding": null,
            "grid_auto_rows": null,
            "grid_gap": null,
            "max_width": null,
            "order": null,
            "_view_module_version": "1.2.0",
            "grid_template_areas": null,
            "object_position": null,
            "object_fit": null,
            "grid_auto_columns": null,
            "margin": null,
            "display": null,
            "left": null
          }
        },
        "5e5cd3dc9d244be7aa248b820a330b5b": {
          "model_module": "@jupyter-widgets/controls",
          "model_name": "ProgressStyleModel",
          "state": {
            "_view_name": "StyleView",
            "_model_name": "ProgressStyleModel",
            "description_width": "",
            "_view_module": "@jupyter-widgets/base",
            "_model_module_version": "1.5.0",
            "_view_count": null,
            "_view_module_version": "1.2.0",
            "bar_color": null,
            "_model_module": "@jupyter-widgets/controls"
          }
        },
        "33403a9b2d63404abb763417d92f3919": {
          "model_module": "@jupyter-widgets/base",
          "model_name": "LayoutModel",
          "state": {
            "_view_name": "LayoutView",
            "grid_template_rows": null,
            "right": null,
            "justify_content": null,
            "_view_module": "@jupyter-widgets/base",
            "overflow": null,
            "_model_module_version": "1.2.0",
            "_view_count": null,
            "flex_flow": null,
            "width": null,
            "min_width": null,
            "border": null,
            "align_items": null,
            "bottom": null,
            "_model_module": "@jupyter-widgets/base",
            "top": null,
            "grid_column": null,
            "overflow_y": null,
            "overflow_x": null,
            "grid_auto_flow": null,
            "grid_area": null,
            "grid_template_columns": null,
            "flex": null,
            "_model_name": "LayoutModel",
            "justify_items": null,
            "grid_row": null,
            "max_height": null,
            "align_content": null,
            "visibility": null,
            "align_self": null,
            "height": null,
            "min_height": null,
            "padding": null,
            "grid_auto_rows": null,
            "grid_gap": null,
            "max_width": null,
            "order": null,
            "_view_module_version": "1.2.0",
            "grid_template_areas": null,
            "object_position": null,
            "object_fit": null,
            "grid_auto_columns": null,
            "margin": null,
            "display": null,
            "left": null
          }
        },
        "50f0b970e2b34b5b892e6cd316dd626c": {
          "model_module": "@jupyter-widgets/controls",
          "model_name": "DescriptionStyleModel",
          "state": {
            "_view_name": "StyleView",
            "_model_name": "DescriptionStyleModel",
            "description_width": "",
            "_view_module": "@jupyter-widgets/base",
            "_model_module_version": "1.5.0",
            "_view_count": null,
            "_view_module_version": "1.2.0",
            "_model_module": "@jupyter-widgets/controls"
          }
        },
        "7255d78ed06d4484a1e88a841c22575a": {
          "model_module": "@jupyter-widgets/base",
          "model_name": "LayoutModel",
          "state": {
            "_view_name": "LayoutView",
            "grid_template_rows": null,
            "right": null,
            "justify_content": null,
            "_view_module": "@jupyter-widgets/base",
            "overflow": null,
            "_model_module_version": "1.2.0",
            "_view_count": null,
            "flex_flow": null,
            "width": null,
            "min_width": null,
            "border": null,
            "align_items": null,
            "bottom": null,
            "_model_module": "@jupyter-widgets/base",
            "top": null,
            "grid_column": null,
            "overflow_y": null,
            "overflow_x": null,
            "grid_auto_flow": null,
            "grid_area": null,
            "grid_template_columns": null,
            "flex": null,
            "_model_name": "LayoutModel",
            "justify_items": null,
            "grid_row": null,
            "max_height": null,
            "align_content": null,
            "visibility": null,
            "align_self": null,
            "height": null,
            "min_height": null,
            "padding": null,
            "grid_auto_rows": null,
            "grid_gap": null,
            "max_width": null,
            "order": null,
            "_view_module_version": "1.2.0",
            "grid_template_areas": null,
            "object_position": null,
            "object_fit": null,
            "grid_auto_columns": null,
            "margin": null,
            "display": null,
            "left": null
          }
        },
        "dee97213c2b54827a08e29be2dfc24d4": {
          "model_module": "@jupyter-widgets/controls",
          "model_name": "HBoxModel",
          "state": {
            "_view_name": "HBoxView",
            "_dom_classes": [],
            "_model_name": "HBoxModel",
            "_view_module": "@jupyter-widgets/controls",
            "_model_module_version": "1.5.0",
            "_view_count": null,
            "_view_module_version": "1.5.0",
            "box_style": "",
            "layout": "IPY_MODEL_daea74fd1a0345e29c5fdd34fd6e296b",
            "_model_module": "@jupyter-widgets/controls",
            "children": [
              "IPY_MODEL_16b036df72314b9fa6699bff33ae2949",
              "IPY_MODEL_90082c77165f48ba85a8914dc4bd4e20",
              "IPY_MODEL_1484ff8b9f91400eab3fd3729894fcb1"
            ]
          }
        },
        "daea74fd1a0345e29c5fdd34fd6e296b": {
          "model_module": "@jupyter-widgets/base",
          "model_name": "LayoutModel",
          "state": {
            "_view_name": "LayoutView",
            "grid_template_rows": null,
            "right": null,
            "justify_content": null,
            "_view_module": "@jupyter-widgets/base",
            "overflow": null,
            "_model_module_version": "1.2.0",
            "_view_count": null,
            "flex_flow": null,
            "width": null,
            "min_width": null,
            "border": null,
            "align_items": null,
            "bottom": null,
            "_model_module": "@jupyter-widgets/base",
            "top": null,
            "grid_column": null,
            "overflow_y": null,
            "overflow_x": null,
            "grid_auto_flow": null,
            "grid_area": null,
            "grid_template_columns": null,
            "flex": null,
            "_model_name": "LayoutModel",
            "justify_items": null,
            "grid_row": null,
            "max_height": null,
            "align_content": null,
            "visibility": null,
            "align_self": null,
            "height": null,
            "min_height": null,
            "padding": null,
            "grid_auto_rows": null,
            "grid_gap": null,
            "max_width": null,
            "order": null,
            "_view_module_version": "1.2.0",
            "grid_template_areas": null,
            "object_position": null,
            "object_fit": null,
            "grid_auto_columns": null,
            "margin": null,
            "display": null,
            "left": null
          }
        },
        "16b036df72314b9fa6699bff33ae2949": {
          "model_module": "@jupyter-widgets/controls",
          "model_name": "HTMLModel",
          "state": {
            "_view_name": "HTMLView",
            "style": "IPY_MODEL_7151ede981634e69b92ae9328f1eb22c",
            "_dom_classes": [],
            "description": "",
            "_model_name": "HTMLModel",
            "placeholder": "​",
            "_view_module": "@jupyter-widgets/controls",
            "_model_module_version": "1.5.0",
            "value": "Epochs 0/1. Running Loss:    0.6697: 100%",
            "_view_count": null,
            "_view_module_version": "1.5.0",
            "description_tooltip": null,
            "_model_module": "@jupyter-widgets/controls",
            "layout": "IPY_MODEL_2b93fa5486d043fdacfc87dc7c780ce6"
          }
        },
        "90082c77165f48ba85a8914dc4bd4e20": {
          "model_module": "@jupyter-widgets/controls",
          "model_name": "FloatProgressModel",
          "state": {
            "_view_name": "ProgressView",
            "style": "IPY_MODEL_6c5d37b1029241908dc501d4b8e37ccf",
            "_dom_classes": [],
            "description": "",
            "_model_name": "FloatProgressModel",
            "bar_style": "success",
            "max": 188,
            "_view_module": "@jupyter-widgets/controls",
            "_model_module_version": "1.5.0",
            "value": 188,
            "_view_count": null,
            "_view_module_version": "1.5.0",
            "orientation": "horizontal",
            "min": 0,
            "description_tooltip": null,
            "_model_module": "@jupyter-widgets/controls",
            "layout": "IPY_MODEL_01f6a27638004968a291982db4047bb9"
          }
        },
        "1484ff8b9f91400eab3fd3729894fcb1": {
          "model_module": "@jupyter-widgets/controls",
          "model_name": "HTMLModel",
          "state": {
            "_view_name": "HTMLView",
            "style": "IPY_MODEL_bed0e67f471a46a0b2381497987038ec",
            "_dom_classes": [],
            "description": "",
            "_model_name": "HTMLModel",
            "placeholder": "​",
            "_view_module": "@jupyter-widgets/controls",
            "_model_module_version": "1.5.0",
            "value": " 188/188 [34:43&lt;00:00,  9.92s/it]",
            "_view_count": null,
            "_view_module_version": "1.5.0",
            "description_tooltip": null,
            "_model_module": "@jupyter-widgets/controls",
            "layout": "IPY_MODEL_3e45710ef38549efa0d8fc5c6d9fd9a7"
          }
        },
        "7151ede981634e69b92ae9328f1eb22c": {
          "model_module": "@jupyter-widgets/controls",
          "model_name": "DescriptionStyleModel",
          "state": {
            "_view_name": "StyleView",
            "_model_name": "DescriptionStyleModel",
            "description_width": "",
            "_view_module": "@jupyter-widgets/base",
            "_model_module_version": "1.5.0",
            "_view_count": null,
            "_view_module_version": "1.2.0",
            "_model_module": "@jupyter-widgets/controls"
          }
        },
        "2b93fa5486d043fdacfc87dc7c780ce6": {
          "model_module": "@jupyter-widgets/base",
          "model_name": "LayoutModel",
          "state": {
            "_view_name": "LayoutView",
            "grid_template_rows": null,
            "right": null,
            "justify_content": null,
            "_view_module": "@jupyter-widgets/base",
            "overflow": null,
            "_model_module_version": "1.2.0",
            "_view_count": null,
            "flex_flow": null,
            "width": null,
            "min_width": null,
            "border": null,
            "align_items": null,
            "bottom": null,
            "_model_module": "@jupyter-widgets/base",
            "top": null,
            "grid_column": null,
            "overflow_y": null,
            "overflow_x": null,
            "grid_auto_flow": null,
            "grid_area": null,
            "grid_template_columns": null,
            "flex": null,
            "_model_name": "LayoutModel",
            "justify_items": null,
            "grid_row": null,
            "max_height": null,
            "align_content": null,
            "visibility": null,
            "align_self": null,
            "height": null,
            "min_height": null,
            "padding": null,
            "grid_auto_rows": null,
            "grid_gap": null,
            "max_width": null,
            "order": null,
            "_view_module_version": "1.2.0",
            "grid_template_areas": null,
            "object_position": null,
            "object_fit": null,
            "grid_auto_columns": null,
            "margin": null,
            "display": null,
            "left": null
          }
        },
        "6c5d37b1029241908dc501d4b8e37ccf": {
          "model_module": "@jupyter-widgets/controls",
          "model_name": "ProgressStyleModel",
          "state": {
            "_view_name": "StyleView",
            "_model_name": "ProgressStyleModel",
            "description_width": "",
            "_view_module": "@jupyter-widgets/base",
            "_model_module_version": "1.5.0",
            "_view_count": null,
            "_view_module_version": "1.2.0",
            "bar_color": null,
            "_model_module": "@jupyter-widgets/controls"
          }
        },
        "01f6a27638004968a291982db4047bb9": {
          "model_module": "@jupyter-widgets/base",
          "model_name": "LayoutModel",
          "state": {
            "_view_name": "LayoutView",
            "grid_template_rows": null,
            "right": null,
            "justify_content": null,
            "_view_module": "@jupyter-widgets/base",
            "overflow": null,
            "_model_module_version": "1.2.0",
            "_view_count": null,
            "flex_flow": null,
            "width": null,
            "min_width": null,
            "border": null,
            "align_items": null,
            "bottom": null,
            "_model_module": "@jupyter-widgets/base",
            "top": null,
            "grid_column": null,
            "overflow_y": null,
            "overflow_x": null,
            "grid_auto_flow": null,
            "grid_area": null,
            "grid_template_columns": null,
            "flex": null,
            "_model_name": "LayoutModel",
            "justify_items": null,
            "grid_row": null,
            "max_height": null,
            "align_content": null,
            "visibility": null,
            "align_self": null,
            "height": null,
            "min_height": null,
            "padding": null,
            "grid_auto_rows": null,
            "grid_gap": null,
            "max_width": null,
            "order": null,
            "_view_module_version": "1.2.0",
            "grid_template_areas": null,
            "object_position": null,
            "object_fit": null,
            "grid_auto_columns": null,
            "margin": null,
            "display": null,
            "left": null
          }
        },
        "bed0e67f471a46a0b2381497987038ec": {
          "model_module": "@jupyter-widgets/controls",
          "model_name": "DescriptionStyleModel",
          "state": {
            "_view_name": "StyleView",
            "_model_name": "DescriptionStyleModel",
            "description_width": "",
            "_view_module": "@jupyter-widgets/base",
            "_model_module_version": "1.5.0",
            "_view_count": null,
            "_view_module_version": "1.2.0",
            "_model_module": "@jupyter-widgets/controls"
          }
        },
        "3e45710ef38549efa0d8fc5c6d9fd9a7": {
          "model_module": "@jupyter-widgets/base",
          "model_name": "LayoutModel",
          "state": {
            "_view_name": "LayoutView",
            "grid_template_rows": null,
            "right": null,
            "justify_content": null,
            "_view_module": "@jupyter-widgets/base",
            "overflow": null,
            "_model_module_version": "1.2.0",
            "_view_count": null,
            "flex_flow": null,
            "width": null,
            "min_width": null,
            "border": null,
            "align_items": null,
            "bottom": null,
            "_model_module": "@jupyter-widgets/base",
            "top": null,
            "grid_column": null,
            "overflow_y": null,
            "overflow_x": null,
            "grid_auto_flow": null,
            "grid_area": null,
            "grid_template_columns": null,
            "flex": null,
            "_model_name": "LayoutModel",
            "justify_items": null,
            "grid_row": null,
            "max_height": null,
            "align_content": null,
            "visibility": null,
            "align_self": null,
            "height": null,
            "min_height": null,
            "padding": null,
            "grid_auto_rows": null,
            "grid_gap": null,
            "max_width": null,
            "order": null,
            "_view_module_version": "1.2.0",
            "grid_template_areas": null,
            "object_position": null,
            "object_fit": null,
            "grid_auto_columns": null,
            "margin": null,
            "display": null,
            "left": null
          }
        },
        "677378c9d949466ba67fde55b0a80237": {
          "model_module": "@jupyter-widgets/controls",
          "model_name": "HBoxModel",
          "state": {
            "_view_name": "HBoxView",
            "_dom_classes": [],
            "_model_name": "HBoxModel",
            "_view_module": "@jupyter-widgets/controls",
            "_model_module_version": "1.5.0",
            "_view_count": null,
            "_view_module_version": "1.5.0",
            "box_style": "",
            "layout": "IPY_MODEL_db6ab38d112646938f66937a18cc99ef",
            "_model_module": "@jupyter-widgets/controls",
            "children": [
              "IPY_MODEL_286c93fb60bf4f6abb76c4814b68b0d7",
              "IPY_MODEL_840ce01af1a64887bc102d1b636a7e34",
              "IPY_MODEL_3a71c35879ff49db9d56e54824b91834"
            ]
          }
        },
        "db6ab38d112646938f66937a18cc99ef": {
          "model_module": "@jupyter-widgets/base",
          "model_name": "LayoutModel",
          "state": {
            "_view_name": "LayoutView",
            "grid_template_rows": null,
            "right": null,
            "justify_content": null,
            "_view_module": "@jupyter-widgets/base",
            "overflow": null,
            "_model_module_version": "1.2.0",
            "_view_count": null,
            "flex_flow": null,
            "width": null,
            "min_width": null,
            "border": null,
            "align_items": null,
            "bottom": null,
            "_model_module": "@jupyter-widgets/base",
            "top": null,
            "grid_column": null,
            "overflow_y": null,
            "overflow_x": null,
            "grid_auto_flow": null,
            "grid_area": null,
            "grid_template_columns": null,
            "flex": null,
            "_model_name": "LayoutModel",
            "justify_items": null,
            "grid_row": null,
            "max_height": null,
            "align_content": null,
            "visibility": null,
            "align_self": null,
            "height": null,
            "min_height": null,
            "padding": null,
            "grid_auto_rows": null,
            "grid_gap": null,
            "max_width": null,
            "order": null,
            "_view_module_version": "1.2.0",
            "grid_template_areas": null,
            "object_position": null,
            "object_fit": null,
            "grid_auto_columns": null,
            "margin": null,
            "display": null,
            "left": null
          }
        },
        "286c93fb60bf4f6abb76c4814b68b0d7": {
          "model_module": "@jupyter-widgets/controls",
          "model_name": "HTMLModel",
          "state": {
            "_view_name": "HTMLView",
            "style": "IPY_MODEL_f3d13159625141a2a0a93fa2f34e69c4",
            "_dom_classes": [],
            "description": "",
            "_model_name": "HTMLModel",
            "placeholder": "​",
            "_view_module": "@jupyter-widgets/controls",
            "_model_module_version": "1.5.0",
            "value": "Running Evaluation: 100%",
            "_view_count": null,
            "_view_module_version": "1.5.0",
            "description_tooltip": null,
            "_model_module": "@jupyter-widgets/controls",
            "layout": "IPY_MODEL_41f8b7454df64e8ab699bab7cf180582"
          }
        },
        "840ce01af1a64887bc102d1b636a7e34": {
          "model_module": "@jupyter-widgets/controls",
          "model_name": "FloatProgressModel",
          "state": {
            "_view_name": "ProgressView",
            "style": "IPY_MODEL_c847da134eed49c58cc94404cd34bf44",
            "_dom_classes": [],
            "description": "",
            "_model_name": "FloatProgressModel",
            "bar_style": "success",
            "max": 50,
            "_view_module": "@jupyter-widgets/controls",
            "_model_module_version": "1.5.0",
            "value": 50,
            "_view_count": null,
            "_view_module_version": "1.5.0",
            "orientation": "horizontal",
            "min": 0,
            "description_tooltip": null,
            "_model_module": "@jupyter-widgets/controls",
            "layout": "IPY_MODEL_188e22bd39244c7490c1a5bf025d91e9"
          }
        },
        "3a71c35879ff49db9d56e54824b91834": {
          "model_module": "@jupyter-widgets/controls",
          "model_name": "HTMLModel",
          "state": {
            "_view_name": "HTMLView",
            "style": "IPY_MODEL_02671f3c2d8c416aa988a34cbb503c23",
            "_dom_classes": [],
            "description": "",
            "_model_name": "HTMLModel",
            "placeholder": "​",
            "_view_module": "@jupyter-widgets/controls",
            "_model_module_version": "1.5.0",
            "value": " 50/50 [02:42&lt;00:00,  3.17s/it]",
            "_view_count": null,
            "_view_module_version": "1.5.0",
            "description_tooltip": null,
            "_model_module": "@jupyter-widgets/controls",
            "layout": "IPY_MODEL_c8decf8e0dd146d3b1494dcaa1a14fd3"
          }
        },
        "f3d13159625141a2a0a93fa2f34e69c4": {
          "model_module": "@jupyter-widgets/controls",
          "model_name": "DescriptionStyleModel",
          "state": {
            "_view_name": "StyleView",
            "_model_name": "DescriptionStyleModel",
            "description_width": "",
            "_view_module": "@jupyter-widgets/base",
            "_model_module_version": "1.5.0",
            "_view_count": null,
            "_view_module_version": "1.2.0",
            "_model_module": "@jupyter-widgets/controls"
          }
        },
        "41f8b7454df64e8ab699bab7cf180582": {
          "model_module": "@jupyter-widgets/base",
          "model_name": "LayoutModel",
          "state": {
            "_view_name": "LayoutView",
            "grid_template_rows": null,
            "right": null,
            "justify_content": null,
            "_view_module": "@jupyter-widgets/base",
            "overflow": null,
            "_model_module_version": "1.2.0",
            "_view_count": null,
            "flex_flow": null,
            "width": null,
            "min_width": null,
            "border": null,
            "align_items": null,
            "bottom": null,
            "_model_module": "@jupyter-widgets/base",
            "top": null,
            "grid_column": null,
            "overflow_y": null,
            "overflow_x": null,
            "grid_auto_flow": null,
            "grid_area": null,
            "grid_template_columns": null,
            "flex": null,
            "_model_name": "LayoutModel",
            "justify_items": null,
            "grid_row": null,
            "max_height": null,
            "align_content": null,
            "visibility": null,
            "align_self": null,
            "height": null,
            "min_height": null,
            "padding": null,
            "grid_auto_rows": null,
            "grid_gap": null,
            "max_width": null,
            "order": null,
            "_view_module_version": "1.2.0",
            "grid_template_areas": null,
            "object_position": null,
            "object_fit": null,
            "grid_auto_columns": null,
            "margin": null,
            "display": null,
            "left": null
          }
        },
        "c847da134eed49c58cc94404cd34bf44": {
          "model_module": "@jupyter-widgets/controls",
          "model_name": "ProgressStyleModel",
          "state": {
            "_view_name": "StyleView",
            "_model_name": "ProgressStyleModel",
            "description_width": "",
            "_view_module": "@jupyter-widgets/base",
            "_model_module_version": "1.5.0",
            "_view_count": null,
            "_view_module_version": "1.2.0",
            "bar_color": null,
            "_model_module": "@jupyter-widgets/controls"
          }
        },
        "188e22bd39244c7490c1a5bf025d91e9": {
          "model_module": "@jupyter-widgets/base",
          "model_name": "LayoutModel",
          "state": {
            "_view_name": "LayoutView",
            "grid_template_rows": null,
            "right": null,
            "justify_content": null,
            "_view_module": "@jupyter-widgets/base",
            "overflow": null,
            "_model_module_version": "1.2.0",
            "_view_count": null,
            "flex_flow": null,
            "width": null,
            "min_width": null,
            "border": null,
            "align_items": null,
            "bottom": null,
            "_model_module": "@jupyter-widgets/base",
            "top": null,
            "grid_column": null,
            "overflow_y": null,
            "overflow_x": null,
            "grid_auto_flow": null,
            "grid_area": null,
            "grid_template_columns": null,
            "flex": null,
            "_model_name": "LayoutModel",
            "justify_items": null,
            "grid_row": null,
            "max_height": null,
            "align_content": null,
            "visibility": null,
            "align_self": null,
            "height": null,
            "min_height": null,
            "padding": null,
            "grid_auto_rows": null,
            "grid_gap": null,
            "max_width": null,
            "order": null,
            "_view_module_version": "1.2.0",
            "grid_template_areas": null,
            "object_position": null,
            "object_fit": null,
            "grid_auto_columns": null,
            "margin": null,
            "display": null,
            "left": null
          }
        },
        "02671f3c2d8c416aa988a34cbb503c23": {
          "model_module": "@jupyter-widgets/controls",
          "model_name": "DescriptionStyleModel",
          "state": {
            "_view_name": "StyleView",
            "_model_name": "DescriptionStyleModel",
            "description_width": "",
            "_view_module": "@jupyter-widgets/base",
            "_model_module_version": "1.5.0",
            "_view_count": null,
            "_view_module_version": "1.2.0",
            "_model_module": "@jupyter-widgets/controls"
          }
        },
        "c8decf8e0dd146d3b1494dcaa1a14fd3": {
          "model_module": "@jupyter-widgets/base",
          "model_name": "LayoutModel",
          "state": {
            "_view_name": "LayoutView",
            "grid_template_rows": null,
            "right": null,
            "justify_content": null,
            "_view_module": "@jupyter-widgets/base",
            "overflow": null,
            "_model_module_version": "1.2.0",
            "_view_count": null,
            "flex_flow": null,
            "width": null,
            "min_width": null,
            "border": null,
            "align_items": null,
            "bottom": null,
            "_model_module": "@jupyter-widgets/base",
            "top": null,
            "grid_column": null,
            "overflow_y": null,
            "overflow_x": null,
            "grid_auto_flow": null,
            "grid_area": null,
            "grid_template_columns": null,
            "flex": null,
            "_model_name": "LayoutModel",
            "justify_items": null,
            "grid_row": null,
            "max_height": null,
            "align_content": null,
            "visibility": null,
            "align_self": null,
            "height": null,
            "min_height": null,
            "padding": null,
            "grid_auto_rows": null,
            "grid_gap": null,
            "max_width": null,
            "order": null,
            "_view_module_version": "1.2.0",
            "grid_template_areas": null,
            "object_position": null,
            "object_fit": null,
            "grid_auto_columns": null,
            "margin": null,
            "display": null,
            "left": null
          }
        }
      }
    }
  },
  "cells": [
    {
      "cell_type": "code",
      "metadata": {
        "id": "8GlaCwmIUMOK"
      },
      "source": [
        "import pandas as pd\n",
        "import numpy as np"
      ],
      "execution_count": 29,
      "outputs": []
    },
    {
      "cell_type": "code",
      "metadata": {
        "id": "djelMo2qUMOQ"
      },
      "source": [
        "word =pd.read_csv(\"finalwords.csv\")"
      ],
      "execution_count": 30,
      "outputs": []
    },
    {
      "cell_type": "code",
      "metadata": {
        "id": "4jDfyoNBUMOQ"
      },
      "source": [
        "word.drop(columns = [\"Unnamed: 0\"],inplace=True)"
      ],
      "execution_count": 31,
      "outputs": []
    },
    {
      "cell_type": "code",
      "metadata": {
        "id": "37rlbTjdUMOR"
      },
      "source": [
        "word.columns = [\"words\"]"
      ],
      "execution_count": 32,
      "outputs": []
    },
    {
      "cell_type": "code",
      "metadata": {
        "colab": {
          "base_uri": "https://localhost:8080/",
          "height": 405
        },
        "id": "KOjwi0HDUMOR",
        "outputId": "d999870a-7dbe-4c62-89b5-890151faad4d"
      },
      "source": [
        "word"
      ],
      "execution_count": 33,
      "outputs": [
        {
          "output_type": "execute_result",
          "data": {
            "text/html": [
              "<div>\n",
              "<style scoped>\n",
              "    .dataframe tbody tr th:only-of-type {\n",
              "        vertical-align: middle;\n",
              "    }\n",
              "\n",
              "    .dataframe tbody tr th {\n",
              "        vertical-align: top;\n",
              "    }\n",
              "\n",
              "    .dataframe thead th {\n",
              "        text-align: right;\n",
              "    }\n",
              "</style>\n",
              "<table border=\"1\" class=\"dataframe\">\n",
              "  <thead>\n",
              "    <tr style=\"text-align: right;\">\n",
              "      <th></th>\n",
              "      <th>words</th>\n",
              "    </tr>\n",
              "  </thead>\n",
              "  <tbody>\n",
              "    <tr>\n",
              "      <th>0</th>\n",
              "      <td>people</td>\n",
              "    </tr>\n",
              "    <tr>\n",
              "      <th>1</th>\n",
              "      <td>cases</td>\n",
              "    </tr>\n",
              "    <tr>\n",
              "      <th>2</th>\n",
              "      <td>stay</td>\n",
              "    </tr>\n",
              "    <tr>\n",
              "      <th>3</th>\n",
              "      <td>coronavirus</td>\n",
              "    </tr>\n",
              "    <tr>\n",
              "      <th>4</th>\n",
              "      <td>covid_19</td>\n",
              "    </tr>\n",
              "    <tr>\n",
              "      <th>...</th>\n",
              "      <td>...</td>\n",
              "    </tr>\n",
              "    <tr>\n",
              "      <th>289</th>\n",
              "      <td>realdonaldtrumpin</td>\n",
              "    </tr>\n",
              "    <tr>\n",
              "      <th>290</th>\n",
              "      <td>stayhomeindia</td>\n",
              "    </tr>\n",
              "    <tr>\n",
              "      <th>291</th>\n",
              "      <td>stayhomesaveliveswhen</td>\n",
              "    </tr>\n",
              "    <tr>\n",
              "      <th>292</th>\n",
              "      <td>stayhomesavelivesmake</td>\n",
              "    </tr>\n",
              "    <tr>\n",
              "      <th>293</th>\n",
              "      <td>music</td>\n",
              "    </tr>\n",
              "  </tbody>\n",
              "</table>\n",
              "<p>294 rows × 1 columns</p>\n",
              "</div>"
            ],
            "text/plain": [
              "                     words\n",
              "0                   people\n",
              "1                    cases\n",
              "2                     stay\n",
              "3              coronavirus\n",
              "4                 covid_19\n",
              "..                     ...\n",
              "289      realdonaldtrumpin\n",
              "290          stayhomeindia\n",
              "291  stayhomesaveliveswhen\n",
              "292  stayhomesavelivesmake\n",
              "293                  music\n",
              "\n",
              "[294 rows x 1 columns]"
            ]
          },
          "metadata": {
            "tags": []
          },
          "execution_count": 33
        }
      ]
    },
    {
      "cell_type": "code",
      "metadata": {
        "id": "kzErrUSqUMOS"
      },
      "source": [
        "words = word[\"words\"].unique()"
      ],
      "execution_count": 34,
      "outputs": []
    },
    {
      "cell_type": "code",
      "metadata": {
        "colab": {
          "base_uri": "https://localhost:8080/"
        },
        "id": "IT4DS4YdUMOT",
        "outputId": "83493121-2c63-4871-ee37-d51921f37106"
      },
      "source": [
        "words"
      ],
      "execution_count": 35,
      "outputs": [
        {
          "output_type": "execute_result",
          "data": {
            "text/plain": [
              "array(['people', 'cases', 'stay', 'coronavirus', 'covid_19', 'deaths',\n",
              "       'home', 'covid', 'stayathomeandstaysafedied', 'confirmed', 'safe',\n",
              "       'death', 'borisjohnson', 'dying', 'healthy', 'coronaupdate',\n",
              "       'toll', 'corona', 'die', 'number', 'latest',\n",
              "       'lockdowneffecttested', 'reported', 'save', 'news', 'boris',\n",
              "       'virus', 'positive', 'staying', 'authorities', 'covid2019', 'need',\n",
              "       'tweets', 'coronavirustruthpositive', 'recovered', 'lives',\n",
              "       'coronalockdownthink', 'nigeria', 'covid19pandemicvirus', 'april',\n",
              "       'stayhomesavelivesmasks', 'socialdistancinginfected', 'today',\n",
              "       'wash', 'canadian', 'hope', 'government', 'million', 'strong',\n",
              "       'how', 'why', 'hands', 'spain', 'whencoronavirusisoverthere',\n",
              "       'state', 'working', 'what', 'stayathome', 'discharged', 'outbreak',\n",
              "       'recovery', 'stop', 'worldwide', 'inside', 'understand', 'update',\n",
              "       'work', 'china', 'thelockdown', 'county', 'protect', 'nhs',\n",
              "       'cancelstudentdebtkeep', 'support', 'studentdebtstimuluspetition',\n",
              "       'family', 'together', 'stimulate', 'debt', 'sign', 'community',\n",
              "       'coronavirusoutbreaksupport', 'student', 'ukchange', 'food',\n",
              "       'fight', 'package', 'uk', 'patients', 'must', 'urge', 'ppe',\n",
              "       'live', 'friends', 'frontline', 'test', 'help', 'economy', 'great',\n",
              "       'stand', 'next', 'govt', 'staff', 'times', 'provide', 'others',\n",
              "       'coronavirusupdatescommunity', 'needed', 'team', 'tested', 'beat',\n",
              "       'via', 'first', 'continue', 'speakerpelosi', 'youtube', 'many',\n",
              "       'disease', 'medical', 'died', 'win', 'moneyforthepeoplein',\n",
              "       'change', 'updates', 'overcome', 'response', 'alerted', 'crisis',\n",
              "       'trump', 'new', 'realdonaldtrumpto', 'york', 'who', 'city',\n",
              "       'spread', 'president', 'nyc', 'god', 'normal', 'feel', 'symptoms',\n",
              "       'americans', 'newyork', 'app', 'potus', 'jersey', 'self', 'join',\n",
              "       'america', 'daily', 'reports', 'slow', 'donald', 'best', 'total',\n",
              "       'risk', 'states', 'brooklyn', 'download', 'newyorkcity', 'allah',\n",
              "       'cnn', 'yorkers', 'identify', 'media', 'zealand', 'reporting',\n",
              "       'funding', 'record', 'orleans', 'press', 'country', 'manhattan',\n",
              "       'surpasses', 'hoax', 'isolation', 'pray', 'trumppressconfreal',\n",
              "       'prevent', 'lord', 'lockdown', 'stayhome', 'health',\n",
              "       'coronaviruspandemicstayathome', 'staysafe', 'care', 'extended',\n",
              "       'workers', 'india', 'real', 'socialdistancinghealthcare',\n",
              "       'coronavirusoutbreakapril', 'stayhomesavelivespublic',\n",
              "       'covid19pandemictill', 'stayhealthy', 'stayhomesavelivesdays',\n",
              "       'flattenthecurvedoctors', 'washyourhands', 'hospital',\n",
              "       'coronavirususadue', 'savelives', 'nurses', 'weeks', 'love',\n",
              "       'coronavirusupdatecorona', 'life', 'quarantineactivitiesextend',\n",
              "       'sad', 'easter', 'mental', 'coronavirusupdates2020', 'staystrong',\n",
              "       'masks', 'london', 'besafe', 'living', 'lockdown2020', 'essential',\n",
              "       'coronalockdownpolice', 'needs', 'everyone', 'end', 'minister',\n",
              "       'coronavirustruthday', 'world', 'time', 'social', 'distancing',\n",
              "       'socialdistancingone', 'difficult', 'distance', 'practice',\n",
              "       'physical', 'countries', 'would', 'long', 'practicing', 'week',\n",
              "       'chinese', 'maintain', 'morning', 'war', 'usa', 'happy',\n",
              "       'coronavirusoutbreakthink', 'last', 'wuhan', 'measures', 'night',\n",
              "       'rules', 'rest', 'spending', 'guidelines', 'beautiful', 'global',\n",
              "       'right', 'mask', 'make', 'face', 'good', 'important',\n",
              "       'stayhomestaysafeplease', 'quarantine', 'pandemic', 'narendramodi',\n",
              "       'quarantinelifethank', 'share', 'socialdistancingknow', 'days',\n",
              "       'leaders', 'indiafightscoronasomeone', 'oneworld', 'pmoindia',\n",
              "       'quarantineandchillre', 'plan', 'defeat', 'pm', 'donate', 'heroes',\n",
              "       'follow', 'doctors', 'retweet', 'california', 'read', 'tiktok',\n",
              "       'bored', 'service', 'amid', 'dear', 'realdonaldtrumpin',\n",
              "       'stayhomeindia', 'stayhomesaveliveswhen', 'stayhomesavelivesmake',\n",
              "       'music'], dtype=object)"
            ]
          },
          "metadata": {
            "tags": []
          },
          "execution_count": 35
        }
      ]
    },
    {
      "cell_type": "code",
      "metadata": {
        "id": "pP3N0e6vUMOT"
      },
      "source": [
        "data= pd.read_csv(\"cleaned_tweets.csv\")"
      ],
      "execution_count": 36,
      "outputs": []
    },
    {
      "cell_type": "code",
      "metadata": {
        "id": "LbmxnbahUMOT"
      },
      "source": [
        "data.drop(columns = [\"Unnamed: 0\",\"lang\",\"created_at\",\"time\"],inplace=True)"
      ],
      "execution_count": 37,
      "outputs": []
    },
    {
      "cell_type": "code",
      "metadata": {
        "colab": {
          "base_uri": "https://localhost:8080/",
          "height": 405
        },
        "id": "YLv7Pke9UMOU",
        "outputId": "96d11960-5c33-4a81-b4eb-aa0151f15e68"
      },
      "source": [
        "data"
      ],
      "execution_count": 38,
      "outputs": [
        {
          "output_type": "execute_result",
          "data": {
            "text/html": [
              "<div>\n",
              "<style scoped>\n",
              "    .dataframe tbody tr th:only-of-type {\n",
              "        vertical-align: middle;\n",
              "    }\n",
              "\n",
              "    .dataframe tbody tr th {\n",
              "        vertical-align: top;\n",
              "    }\n",
              "\n",
              "    .dataframe thead th {\n",
              "        text-align: right;\n",
              "    }\n",
              "</style>\n",
              "<table border=\"1\" class=\"dataframe\">\n",
              "  <thead>\n",
              "    <tr style=\"text-align: right;\">\n",
              "      <th></th>\n",
              "      <th>text</th>\n",
              "      <th>country_code</th>\n",
              "      <th>date</th>\n",
              "      <th>hashtag</th>\n",
              "    </tr>\n",
              "  </thead>\n",
              "  <tbody>\n",
              "    <tr>\n",
              "      <th>0</th>\n",
              "      <td>claytravis flu this seems fishy covid_19 numbe...</td>\n",
              "      <td>US</td>\n",
              "      <td>2020-03-29</td>\n",
              "      <td>['#Covid_19']</td>\n",
              "    </tr>\n",
              "    <tr>\n",
              "      <th>1</th>\n",
              "      <td>netflix omg ozark ending die thanks distractio...</td>\n",
              "      <td>US</td>\n",
              "      <td>2020-03-29</td>\n",
              "      <td>['#COVID19']</td>\n",
              "    </tr>\n",
              "    <tr>\n",
              "      <th>2</th>\n",
              "      <td>i n't think gd leadership across states i see ...</td>\n",
              "      <td>US</td>\n",
              "      <td>2020-03-29</td>\n",
              "      <td>['#COVID19']</td>\n",
              "    </tr>\n",
              "    <tr>\n",
              "      <th>3</th>\n",
              "      <td>in change conversation covid19 charlie watchin...</td>\n",
              "      <td>GB</td>\n",
              "      <td>2020-03-29</td>\n",
              "      <td>['#covid19', '#cavalierkingcharles', '#daftdug...</td>\n",
              "    </tr>\n",
              "    <tr>\n",
              "      <th>4</th>\n",
              "      <td>any hospital our engineering department helped...</td>\n",
              "      <td>US</td>\n",
              "      <td>2020-03-29</td>\n",
              "      <td>['#Covid_19', '#medtwitter']</td>\n",
              "    </tr>\n",
              "    <tr>\n",
              "      <th>...</th>\n",
              "      <td>...</td>\n",
              "      <td>...</td>\n",
              "      <td>...</td>\n",
              "      <td>...</td>\n",
              "    </tr>\n",
              "    <tr>\n",
              "      <th>230764</th>\n",
              "      <td>“ the who bureaucratic frustrating timid — ind...</td>\n",
              "      <td>CA</td>\n",
              "      <td>2020-04-15</td>\n",
              "      <td>['#WHO', '#COVID19', '#coronavirus', '#GlobalH...</td>\n",
              "    </tr>\n",
              "    <tr>\n",
              "      <th>230765</th>\n",
              "      <td>ceo_clemetparks sir some positive offshoots co...</td>\n",
              "      <td>US</td>\n",
              "      <td>2020-04-15</td>\n",
              "      <td>['#COVID19', '#everyproblemisanopportunity']</td>\n",
              "    </tr>\n",
              "    <tr>\n",
              "      <th>230766</th>\n",
              "      <td>the good news iranian revolutionary guards bui...</td>\n",
              "      <td>IR</td>\n",
              "      <td>2020-04-15</td>\n",
              "      <td>['#coronavirus', '#Science']</td>\n",
              "    </tr>\n",
              "    <tr>\n",
              "      <th>230767</th>\n",
              "      <td>remember soviet union told world advanced nucl...</td>\n",
              "      <td>US</td>\n",
              "      <td>2020-04-15</td>\n",
              "      <td>['#COVID19']</td>\n",
              "    </tr>\n",
              "    <tr>\n",
              "      <th>230768</th>\n",
              "      <td>umnextfd umnext fox9 and 's story video link t...</td>\n",
              "      <td>US</td>\n",
              "      <td>2020-04-15</td>\n",
              "      <td>['#CoronavirusPandemic']</td>\n",
              "    </tr>\n",
              "  </tbody>\n",
              "</table>\n",
              "<p>230769 rows × 4 columns</p>\n",
              "</div>"
            ],
            "text/plain": [
              "                                                     text  ...                                            hashtag\n",
              "0       claytravis flu this seems fishy covid_19 numbe...  ...                                      ['#Covid_19']\n",
              "1       netflix omg ozark ending die thanks distractio...  ...                                       ['#COVID19']\n",
              "2       i n't think gd leadership across states i see ...  ...                                       ['#COVID19']\n",
              "3       in change conversation covid19 charlie watchin...  ...  ['#covid19', '#cavalierkingcharles', '#daftdug...\n",
              "4       any hospital our engineering department helped...  ...                       ['#Covid_19', '#medtwitter']\n",
              "...                                                   ...  ...                                                ...\n",
              "230764  “ the who bureaucratic frustrating timid — ind...  ...  ['#WHO', '#COVID19', '#coronavirus', '#GlobalH...\n",
              "230765  ceo_clemetparks sir some positive offshoots co...  ...       ['#COVID19', '#everyproblemisanopportunity']\n",
              "230766  the good news iranian revolutionary guards bui...  ...                       ['#coronavirus', '#Science']\n",
              "230767  remember soviet union told world advanced nucl...  ...                                       ['#COVID19']\n",
              "230768  umnextfd umnext fox9 and 's story video link t...  ...                           ['#CoronavirusPandemic']\n",
              "\n",
              "[230769 rows x 4 columns]"
            ]
          },
          "metadata": {
            "tags": []
          },
          "execution_count": 38
        }
      ]
    },
    {
      "cell_type": "code",
      "metadata": {
        "id": "HLTviJDTUMOU"
      },
      "source": [
        "data[\"topics\"]=\" \""
      ],
      "execution_count": 39,
      "outputs": []
    },
    {
      "cell_type": "code",
      "metadata": {
        "colab": {
          "base_uri": "https://localhost:8080/"
        },
        "id": "SMoA--r8UMOU",
        "outputId": "7450083a-d3b8-4795-88a5-a330c7ed71e3"
      },
      "source": [
        "import nltk.data \n",
        "from nltk.tokenize import word_tokenize \n",
        "nltk.download('punkt')\n"
      ],
      "execution_count": 40,
      "outputs": [
        {
          "output_type": "stream",
          "text": [
            "[nltk_data] Downloading package punkt to /root/nltk_data...\n",
            "[nltk_data]   Package punkt is already up-to-date!\n"
          ],
          "name": "stdout"
        },
        {
          "output_type": "execute_result",
          "data": {
            "text/plain": [
              "True"
            ]
          },
          "metadata": {
            "tags": []
          },
          "execution_count": 40
        }
      ]
    },
    {
      "cell_type": "code",
      "metadata": {
        "id": "ekRPPDTdUMOV"
      },
      "source": [
        "for i in data.index:\n",
        "    stri = data.at[i,\"text\"]\n",
        "    l = word_tokenize(stri)\n",
        "    for a in l:\n",
        "        if a in words:\n",
        "            data.at[i,\"topics\"] = data.at[i,\"topics\"] +\",\" + a\n",
        "            "
      ],
      "execution_count": 41,
      "outputs": []
    },
    {
      "cell_type": "code",
      "metadata": {
        "colab": {
          "base_uri": "https://localhost:8080/",
          "height": 405
        },
        "id": "8UlMSh2FUMOV",
        "outputId": "ce5b18ea-0a9e-4bd2-ad02-6d35e2e40aad"
      },
      "source": [
        "data"
      ],
      "execution_count": 42,
      "outputs": [
        {
          "output_type": "execute_result",
          "data": {
            "text/html": [
              "<div>\n",
              "<style scoped>\n",
              "    .dataframe tbody tr th:only-of-type {\n",
              "        vertical-align: middle;\n",
              "    }\n",
              "\n",
              "    .dataframe tbody tr th {\n",
              "        vertical-align: top;\n",
              "    }\n",
              "\n",
              "    .dataframe thead th {\n",
              "        text-align: right;\n",
              "    }\n",
              "</style>\n",
              "<table border=\"1\" class=\"dataframe\">\n",
              "  <thead>\n",
              "    <tr style=\"text-align: right;\">\n",
              "      <th></th>\n",
              "      <th>text</th>\n",
              "      <th>country_code</th>\n",
              "      <th>date</th>\n",
              "      <th>hashtag</th>\n",
              "      <th>topics</th>\n",
              "    </tr>\n",
              "  </thead>\n",
              "  <tbody>\n",
              "    <tr>\n",
              "      <th>0</th>\n",
              "      <td>claytravis flu this seems fishy covid_19 numbe...</td>\n",
              "      <td>US</td>\n",
              "      <td>2020-03-29</td>\n",
              "      <td>['#Covid_19']</td>\n",
              "      <td>,covid_19</td>\n",
              "    </tr>\n",
              "    <tr>\n",
              "      <th>1</th>\n",
              "      <td>netflix omg ozark ending die thanks distractio...</td>\n",
              "      <td>US</td>\n",
              "      <td>2020-03-29</td>\n",
              "      <td>['#COVID19']</td>\n",
              "      <td>,die</td>\n",
              "    </tr>\n",
              "    <tr>\n",
              "      <th>2</th>\n",
              "      <td>i n't think gd leadership across states i see ...</td>\n",
              "      <td>US</td>\n",
              "      <td>2020-03-29</td>\n",
              "      <td>['#COVID19']</td>\n",
              "      <td>,states,long,people,dying,test</td>\n",
              "    </tr>\n",
              "    <tr>\n",
              "      <th>3</th>\n",
              "      <td>in change conversation covid19 charlie watchin...</td>\n",
              "      <td>GB</td>\n",
              "      <td>2020-03-29</td>\n",
              "      <td>['#covid19', '#cavalierkingcharles', '#daftdug...</td>\n",
              "      <td>,change,first,time</td>\n",
              "    </tr>\n",
              "    <tr>\n",
              "      <th>4</th>\n",
              "      <td>any hospital our engineering department helped...</td>\n",
              "      <td>US</td>\n",
              "      <td>2020-03-29</td>\n",
              "      <td>['#Covid_19', '#medtwitter']</td>\n",
              "      <td>,hospital,covid_19</td>\n",
              "    </tr>\n",
              "    <tr>\n",
              "      <th>...</th>\n",
              "      <td>...</td>\n",
              "      <td>...</td>\n",
              "      <td>...</td>\n",
              "      <td>...</td>\n",
              "      <td>...</td>\n",
              "    </tr>\n",
              "    <tr>\n",
              "      <th>230764</th>\n",
              "      <td>“ the who bureaucratic frustrating timid — ind...</td>\n",
              "      <td>CA</td>\n",
              "      <td>2020-04-15</td>\n",
              "      <td>['#WHO', '#COVID19', '#coronavirus', '#GlobalH...</td>\n",
              "      <td>,who,fight,disease,coronavirus</td>\n",
              "    </tr>\n",
              "    <tr>\n",
              "      <th>230765</th>\n",
              "      <td>ceo_clemetparks sir some positive offshoots co...</td>\n",
              "      <td>US</td>\n",
              "      <td>2020-04-15</td>\n",
              "      <td>['#COVID19', '#everyproblemisanopportunity']</td>\n",
              "      <td>,positive,life,would</td>\n",
              "    </tr>\n",
              "    <tr>\n",
              "      <th>230766</th>\n",
              "      <td>the good news iranian revolutionary guards bui...</td>\n",
              "      <td>IR</td>\n",
              "      <td>2020-04-15</td>\n",
              "      <td>['#coronavirus', '#Science']</td>\n",
              "      <td>,good,news,corona,great,people,world,rest,cor...</td>\n",
              "    </tr>\n",
              "    <tr>\n",
              "      <th>230767</th>\n",
              "      <td>remember soviet union told world advanced nucl...</td>\n",
              "      <td>US</td>\n",
              "      <td>2020-04-15</td>\n",
              "      <td>['#COVID19']</td>\n",
              "      <td>,world,china,who,help</td>\n",
              "    </tr>\n",
              "    <tr>\n",
              "      <th>230768</th>\n",
              "      <td>umnextfd umnext fox9 and 's story video link t...</td>\n",
              "      <td>US</td>\n",
              "      <td>2020-04-15</td>\n",
              "      <td>['#CoronavirusPandemic']</td>\n",
              "      <td></td>\n",
              "    </tr>\n",
              "  </tbody>\n",
              "</table>\n",
              "<p>230769 rows × 5 columns</p>\n",
              "</div>"
            ],
            "text/plain": [
              "                                                     text  ...                                             topics\n",
              "0       claytravis flu this seems fishy covid_19 numbe...  ...                                          ,covid_19\n",
              "1       netflix omg ozark ending die thanks distractio...  ...                                               ,die\n",
              "2       i n't think gd leadership across states i see ...  ...                     ,states,long,people,dying,test\n",
              "3       in change conversation covid19 charlie watchin...  ...                                 ,change,first,time\n",
              "4       any hospital our engineering department helped...  ...                                 ,hospital,covid_19\n",
              "...                                                   ...  ...                                                ...\n",
              "230764  “ the who bureaucratic frustrating timid — ind...  ...                     ,who,fight,disease,coronavirus\n",
              "230765  ceo_clemetparks sir some positive offshoots co...  ...                               ,positive,life,would\n",
              "230766  the good news iranian revolutionary guards bui...  ...   ,good,news,corona,great,people,world,rest,cor...\n",
              "230767  remember soviet union told world advanced nucl...  ...                              ,world,china,who,help\n",
              "230768  umnextfd umnext fox9 and 's story video link t...  ...                                                   \n",
              "\n",
              "[230769 rows x 5 columns]"
            ]
          },
          "metadata": {
            "tags": []
          },
          "execution_count": 42
        }
      ]
    },
    {
      "cell_type": "code",
      "metadata": {
        "id": "s7iMiG24UMOV"
      },
      "source": [
        "for i in data.index:\n",
        "    data.at[i,\"topics\"] = data.at[i,\"topics\"][2:]"
      ],
      "execution_count": 43,
      "outputs": []
    },
    {
      "cell_type": "code",
      "metadata": {
        "colab": {
          "base_uri": "https://localhost:8080/",
          "height": 405
        },
        "id": "nB-uot-jUMOV",
        "outputId": "deeb8bff-723f-4ef3-c570-18ab2eb4e788"
      },
      "source": [
        "data"
      ],
      "execution_count": 44,
      "outputs": [
        {
          "output_type": "execute_result",
          "data": {
            "text/html": [
              "<div>\n",
              "<style scoped>\n",
              "    .dataframe tbody tr th:only-of-type {\n",
              "        vertical-align: middle;\n",
              "    }\n",
              "\n",
              "    .dataframe tbody tr th {\n",
              "        vertical-align: top;\n",
              "    }\n",
              "\n",
              "    .dataframe thead th {\n",
              "        text-align: right;\n",
              "    }\n",
              "</style>\n",
              "<table border=\"1\" class=\"dataframe\">\n",
              "  <thead>\n",
              "    <tr style=\"text-align: right;\">\n",
              "      <th></th>\n",
              "      <th>text</th>\n",
              "      <th>country_code</th>\n",
              "      <th>date</th>\n",
              "      <th>hashtag</th>\n",
              "      <th>topics</th>\n",
              "    </tr>\n",
              "  </thead>\n",
              "  <tbody>\n",
              "    <tr>\n",
              "      <th>0</th>\n",
              "      <td>claytravis flu this seems fishy covid_19 numbe...</td>\n",
              "      <td>US</td>\n",
              "      <td>2020-03-29</td>\n",
              "      <td>['#Covid_19']</td>\n",
              "      <td>covid_19</td>\n",
              "    </tr>\n",
              "    <tr>\n",
              "      <th>1</th>\n",
              "      <td>netflix omg ozark ending die thanks distractio...</td>\n",
              "      <td>US</td>\n",
              "      <td>2020-03-29</td>\n",
              "      <td>['#COVID19']</td>\n",
              "      <td>die</td>\n",
              "    </tr>\n",
              "    <tr>\n",
              "      <th>2</th>\n",
              "      <td>i n't think gd leadership across states i see ...</td>\n",
              "      <td>US</td>\n",
              "      <td>2020-03-29</td>\n",
              "      <td>['#COVID19']</td>\n",
              "      <td>states,long,people,dying,test</td>\n",
              "    </tr>\n",
              "    <tr>\n",
              "      <th>3</th>\n",
              "      <td>in change conversation covid19 charlie watchin...</td>\n",
              "      <td>GB</td>\n",
              "      <td>2020-03-29</td>\n",
              "      <td>['#covid19', '#cavalierkingcharles', '#daftdug...</td>\n",
              "      <td>change,first,time</td>\n",
              "    </tr>\n",
              "    <tr>\n",
              "      <th>4</th>\n",
              "      <td>any hospital our engineering department helped...</td>\n",
              "      <td>US</td>\n",
              "      <td>2020-03-29</td>\n",
              "      <td>['#Covid_19', '#medtwitter']</td>\n",
              "      <td>hospital,covid_19</td>\n",
              "    </tr>\n",
              "    <tr>\n",
              "      <th>...</th>\n",
              "      <td>...</td>\n",
              "      <td>...</td>\n",
              "      <td>...</td>\n",
              "      <td>...</td>\n",
              "      <td>...</td>\n",
              "    </tr>\n",
              "    <tr>\n",
              "      <th>230764</th>\n",
              "      <td>“ the who bureaucratic frustrating timid — ind...</td>\n",
              "      <td>CA</td>\n",
              "      <td>2020-04-15</td>\n",
              "      <td>['#WHO', '#COVID19', '#coronavirus', '#GlobalH...</td>\n",
              "      <td>who,fight,disease,coronavirus</td>\n",
              "    </tr>\n",
              "    <tr>\n",
              "      <th>230765</th>\n",
              "      <td>ceo_clemetparks sir some positive offshoots co...</td>\n",
              "      <td>US</td>\n",
              "      <td>2020-04-15</td>\n",
              "      <td>['#COVID19', '#everyproblemisanopportunity']</td>\n",
              "      <td>positive,life,would</td>\n",
              "    </tr>\n",
              "    <tr>\n",
              "      <th>230766</th>\n",
              "      <td>the good news iranian revolutionary guards bui...</td>\n",
              "      <td>IR</td>\n",
              "      <td>2020-04-15</td>\n",
              "      <td>['#coronavirus', '#Science']</td>\n",
              "      <td>good,news,corona,great,people,world,rest,coron...</td>\n",
              "    </tr>\n",
              "    <tr>\n",
              "      <th>230767</th>\n",
              "      <td>remember soviet union told world advanced nucl...</td>\n",
              "      <td>US</td>\n",
              "      <td>2020-04-15</td>\n",
              "      <td>['#COVID19']</td>\n",
              "      <td>world,china,who,help</td>\n",
              "    </tr>\n",
              "    <tr>\n",
              "      <th>230768</th>\n",
              "      <td>umnextfd umnext fox9 and 's story video link t...</td>\n",
              "      <td>US</td>\n",
              "      <td>2020-04-15</td>\n",
              "      <td>['#CoronavirusPandemic']</td>\n",
              "      <td></td>\n",
              "    </tr>\n",
              "  </tbody>\n",
              "</table>\n",
              "<p>230769 rows × 5 columns</p>\n",
              "</div>"
            ],
            "text/plain": [
              "                                                     text  ...                                             topics\n",
              "0       claytravis flu this seems fishy covid_19 numbe...  ...                                           covid_19\n",
              "1       netflix omg ozark ending die thanks distractio...  ...                                                die\n",
              "2       i n't think gd leadership across states i see ...  ...                      states,long,people,dying,test\n",
              "3       in change conversation covid19 charlie watchin...  ...                                  change,first,time\n",
              "4       any hospital our engineering department helped...  ...                                  hospital,covid_19\n",
              "...                                                   ...  ...                                                ...\n",
              "230764  “ the who bureaucratic frustrating timid — ind...  ...                      who,fight,disease,coronavirus\n",
              "230765  ceo_clemetparks sir some positive offshoots co...  ...                                positive,life,would\n",
              "230766  the good news iranian revolutionary guards bui...  ...  good,news,corona,great,people,world,rest,coron...\n",
              "230767  remember soviet union told world advanced nucl...  ...                               world,china,who,help\n",
              "230768  umnextfd umnext fox9 and 's story video link t...  ...                                                   \n",
              "\n",
              "[230769 rows x 5 columns]"
            ]
          },
          "metadata": {
            "tags": []
          },
          "execution_count": 44
        }
      ]
    },
    {
      "cell_type": "code",
      "metadata": {
        "id": "9iQ-CEiqUMOW"
      },
      "source": [
        "\n",
        "alltopics = \"\"\n",
        "\n",
        "for i in data.index:\n",
        "    alltopics = alltopics + str(data.at[i,\"topics\"])"
      ],
      "execution_count": 45,
      "outputs": []
    },
    {
      "cell_type": "code",
      "metadata": {
        "id": "9KAs41x1UMOW"
      },
      "source": [
        "all_topics = alltopics.split(\",\")"
      ],
      "execution_count": 46,
      "outputs": []
    },
    {
      "cell_type": "code",
      "metadata": {
        "id": "s3JDgTz4UMOW",
        "colab": {
          "base_uri": "https://localhost:8080/"
        },
        "outputId": "047fb422-80a0-4ed4-a58a-4b02fb0bea23"
      },
      "source": [
        "all_topics"
      ],
      "execution_count": 47,
      "outputs": [
        {
          "output_type": "execute_result",
          "data": {
            "text/plain": [
              "['covid_19diestates',\n",
              " 'long',\n",
              " 'people',\n",
              " 'dying',\n",
              " 'testchange',\n",
              " 'first',\n",
              " 'timehospital',\n",
              " 'covid_19lockdown',\n",
              " 'peoplecorona',\n",
              " 'virus',\n",
              " 'coronavirusbest',\n",
              " 'make',\n",
              " 'healthy',\n",
              " 'today',\n",
              " 'covid_19help',\n",
              " 'covid',\n",
              " 'coronaviruschina',\n",
              " 'china',\n",
              " 'world',\n",
              " 'provide',\n",
              " 'world',\n",
              " 'covid_19join',\n",
              " 'global',\n",
              " 'community',\n",
              " 'fight',\n",
              " 'coronavirus',\n",
              " 'covid_19covid_19friends',\n",
              " 'daily',\n",
              " 'work',\n",
              " 'weekswhat',\n",
              " 'stay',\n",
              " 'home',\n",
              " 'people',\n",
              " 'understand',\n",
              " 'covid_19make',\n",
              " 'covid_19covid_19pray',\n",
              " 'world',\n",
              " 'covid_19dear',\n",
              " 'recovery',\n",
              " 'covid_19',\n",
              " 'stayhomecoronavirus',\n",
              " 'people',\n",
              " 'cnnbest',\n",
              " 'friends',\n",
              " 'brooklyn',\n",
              " 'dying',\n",
              " 'health',\n",
              " 'covid_19cases',\n",
              " 'coronavirushappy',\n",
              " 'covid_19care',\n",
              " 'health',\n",
              " 'tested',\n",
              " 'tested',\n",
              " 'goodgreat',\n",
              " 'team',\n",
              " 'staff',\n",
              " 'people',\n",
              " 'god',\n",
              " 'life',\n",
              " 'change',\n",
              " 'covid_19days',\n",
              " 'timequarantine',\n",
              " 'covid_19realnext',\n",
              " 'weeks',\n",
              " 'self',\n",
              " 'isolation',\n",
              " 'todayamerica',\n",
              " 'times',\n",
              " 'quarantinesignnyc',\n",
              " 'cases',\n",
              " 'coronavirushow',\n",
              " 'bored',\n",
              " 'today',\n",
              " 'covid_19',\n",
              " 'coronaviruscommunitytrump',\n",
              " 'covid_19end',\n",
              " 'long',\n",
              " 'continue',\n",
              " 'covid_19hands',\n",
              " 'timesnews',\n",
              " 'live',\n",
              " 'corona',\n",
              " 'covid_19world',\n",
              " 'important',\n",
              " 'country',\n",
              " 'time',\n",
              " 'world',\n",
              " 'fighttogethercovid_19would',\n",
              " 'measures',\n",
              " 'state',\n",
              " 'spread',\n",
              " 'protect',\n",
              " 'workers',\n",
              " 'county',\n",
              " 'plan',\n",
              " 'statestay',\n",
              " 'safe',\n",
              " 'stay',\n",
              " 'home',\n",
              " 'stay',\n",
              " 'healthy',\n",
              " 'quarantine',\n",
              " 'covid_19',\n",
              " 'coronavirusnyc',\n",
              " 'coronavirus',\n",
              " 'coronaviruscovid_19new',\n",
              " 'via',\n",
              " 'youtube',\n",
              " 'corona',\n",
              " 'covid_19',\n",
              " 'nycstates',\n",
              " 'total',\n",
              " 'deaths',\n",
              " 'last',\n",
              " 'days',\n",
              " 'safefirst',\n",
              " 'death',\n",
              " 'hospitalstayathomeright',\n",
              " 'longtoday',\n",
              " 'sharecovid_19deaths',\n",
              " 'people',\n",
              " 'stay',\n",
              " 'home',\n",
              " 'coronaupdate',\n",
              " 'covid_19india',\n",
              " 'continue',\n",
              " 'god',\n",
              " 'helptodaytoday',\n",
              " 'pm',\n",
              " 'people',\n",
              " 'covid_19fight',\n",
              " 'covid',\n",
              " 'covid_19',\n",
              " 'fightvirus',\n",
              " 'covid_19',\n",
              " 'corona',\n",
              " 'coronavirus',\n",
              " 'virusfirst',\n",
              " 'death',\n",
              " 'confirmedneed',\n",
              " 'hope',\n",
              " 'lockdownquarantine',\n",
              " 'times',\n",
              " 'coronaupdate',\n",
              " 'covid_19need',\n",
              " 'time',\n",
              " 'community',\n",
              " 'risk',\n",
              " 'masks',\n",
              " 'carecovid_19',\n",
              " 'stayhomestaff',\n",
              " 'isolation',\n",
              " 'familylast',\n",
              " 'week',\n",
              " 'covid_19weeks',\n",
              " 'isolationborisjohnson',\n",
              " 'coronaupdate',\n",
              " 'covid_19home',\n",
              " 'coronavirustested',\n",
              " 'positive',\n",
              " 'covid_19',\n",
              " 'coronaupdateshare',\n",
              " 'staysafe',\n",
              " 'covid_19viaresponse',\n",
              " 'hands',\n",
              " 'covid_19',\n",
              " 'potusnew',\n",
              " 'cases',\n",
              " 'confirmed',\n",
              " 'recovered',\n",
              " 'hospitalcovid_19',\n",
              " 'team',\n",
              " 'working',\n",
              " 'helpjoin',\n",
              " 'good',\n",
              " 'work',\n",
              " 'stayhomedays',\n",
              " 'deaths',\n",
              " 'deaths',\n",
              " 'covid_19must',\n",
              " 'music',\n",
              " 'quarantine',\n",
              " 'coronavirus',\n",
              " 'stayhomecovid_19',\n",
              " 'foodfirst',\n",
              " 'stop',\n",
              " 'many',\n",
              " 'people',\n",
              " 'died',\n",
              " 'weeks',\n",
              " 'virusfirst',\n",
              " 'ppe',\n",
              " 'need',\n",
              " 'mustcoronavirus',\n",
              " 'confirmed',\n",
              " 'cases',\n",
              " 'coronavirus',\n",
              " 'deaths',\n",
              " 'usacontinuedeaths',\n",
              " 'deaths',\n",
              " 'coronavirustime',\n",
              " 'last',\n",
              " 'week',\n",
              " 'casesdaily',\n",
              " 'strong',\n",
              " 'confirmed',\n",
              " 'cases',\n",
              " 'new',\n",
              " 'people',\n",
              " 'confirmed',\n",
              " 'casesglobal',\n",
              " 'coronavirus',\n",
              " 'pandemiccoronavirus',\n",
              " 'outbreak',\n",
              " 'life',\n",
              " 'coronavirus',\n",
              " 'covid',\n",
              " 'covid2019',\n",
              " 'liferight',\n",
              " 'people',\n",
              " 'dying',\n",
              " 'best',\n",
              " 'stay',\n",
              " 'covid_19everyone',\n",
              " 'number',\n",
              " 'covid_19covid_19',\n",
              " 'pray',\n",
              " 'worldeveryonehowcoronaviruscovid_19what',\n",
              " 'next',\n",
              " 'coronavirus',\n",
              " 'pandemic',\n",
              " 'medical',\n",
              " 'who',\n",
              " 'economywash',\n",
              " 'handscovid_19',\n",
              " 'good',\n",
              " 'people',\n",
              " 'people',\n",
              " 'friends',\n",
              " 'life',\n",
              " 'quarantineneed',\n",
              " 'wash',\n",
              " 'handsnext',\n",
              " 'covid_19covid_19',\n",
              " 'lockdown',\n",
              " 'indiacovid_19press',\n",
              " 'government',\n",
              " 'india',\n",
              " 'india',\n",
              " 'response',\n",
              " 'covid_19join',\n",
              " 'good',\n",
              " 'work',\n",
              " 'stayhomework',\n",
              " 'love',\n",
              " 'work',\n",
              " 'covid_19covid_19',\n",
              " 'lockdown',\n",
              " 'best',\n",
              " 'wash',\n",
              " 'nexthome',\n",
              " 'essential',\n",
              " 'covid_19pm',\n",
              " 'family',\n",
              " 'first',\n",
              " 'stay',\n",
              " 'home',\n",
              " 'pm',\n",
              " 'supportfoodgreat',\n",
              " 'today',\n",
              " 'great',\n",
              " 'music',\n",
              " 'who',\n",
              " 'social',\n",
              " 'isolation',\n",
              " 'covid_19need',\n",
              " 'home',\n",
              " 'coronavirus',\n",
              " 'safeppe',\n",
              " 'covid_19',\n",
              " 'ppenext',\n",
              " 'make',\n",
              " 'covid_19',\n",
              " 'quarantine',\n",
              " 'foodhome',\n",
              " 'home',\n",
              " 'people',\n",
              " 'stayathome',\n",
              " 'coronavirusface',\n",
              " 'media',\n",
              " 'coronavirusdiestaying',\n",
              " 'home',\n",
              " 'work',\n",
              " 'covid_19others',\n",
              " 'need',\n",
              " 'covid_19',\n",
              " 'pandemiclockdown',\n",
              " 'everyone',\n",
              " 'covid_19',\n",
              " 'quarantineapp',\n",
              " 'time',\n",
              " 'time',\n",
              " 'time',\n",
              " 'covid_19covid_19coronavirus',\n",
              " 'deaths',\n",
              " 'deathsneed',\n",
              " 'essential',\n",
              " 'covid_19save',\n",
              " 'coronavirusreports',\n",
              " 'together',\n",
              " 'needed',\n",
              " 'covid_19',\n",
              " 'pandemicmake',\n",
              " 'covid_19safe',\n",
              " 'coronaviruscovid_19',\n",
              " 'appstate',\n",
              " 'pray',\n",
              " 'spreadweekmany',\n",
              " 'good',\n",
              " 'people',\n",
              " 'community',\n",
              " 'workers',\n",
              " 'doctors',\n",
              " 'nurses',\n",
              " 'distancing',\n",
              " 'protect',\n",
              " 'covid_19',\n",
              " 'time',\n",
              " 'need',\n",
              " 'family',\n",
              " 'familyindia',\n",
              " 'fight',\n",
              " 'covid_19',\n",
              " 'quarantine',\n",
              " 'coronavirusdays',\n",
              " 'first',\n",
              " 'covid_19',\n",
              " 'deaths',\n",
              " 'days',\n",
              " 'deathscontinue',\n",
              " 'lockdown',\n",
              " 'needstrump',\n",
              " 'coronaviruspm',\n",
              " 'people',\n",
              " 'pmsave',\n",
              " 'peoplecovid_19covid_19weekspeople',\n",
              " 'home',\n",
              " 'county',\n",
              " 'end',\n",
              " 'last',\n",
              " 'weekcovid_19covid_19who',\n",
              " 'safe',\n",
              " 'coronavirus',\n",
              " 'number',\n",
              " 'hands',\n",
              " 'join',\n",
              " 'whoquarantine',\n",
              " 'great',\n",
              " 'covid_19',\n",
              " 'coronavirusgood',\n",
              " 'work',\n",
              " 'media',\n",
              " 'coronavirusmorning',\n",
              " 'people',\n",
              " 'today',\n",
              " 'self',\n",
              " 'isolation',\n",
              " 'plan',\n",
              " 'govt',\n",
              " 'planresponse',\n",
              " 'team',\n",
              " 'face',\n",
              " 'staff',\n",
              " 'home',\n",
              " 'covid_19right',\n",
              " 'covid_19pm',\n",
              " 'world',\n",
              " 'covid_19test',\n",
              " 'covid_19coronaupdatelong',\n",
              " 'family',\n",
              " 'need',\n",
              " 'end',\n",
              " 'new',\n",
              " 'covid_19important',\n",
              " 'spread',\n",
              " 'isolationpandemic',\n",
              " 'covid_19people',\n",
              " 'recovered',\n",
              " 'confirmed',\n",
              " 'good',\n",
              " 'newsdifficult',\n",
              " 'coronavirus',\n",
              " 'life',\n",
              " 'mediachange',\n",
              " 'stay',\n",
              " 'home',\n",
              " 'stayhome',\n",
              " 'stayathome',\n",
              " 'staysafe',\n",
              " 'washyourhands',\n",
              " 'coronavirus',\n",
              " 'quarantinenews',\n",
              " 'masks',\n",
              " 'ppe',\n",
              " 'covid_19covid_19safe',\n",
              " 'covid_19stay',\n",
              " 'hope',\n",
              " 'covid_19coronaupdate',\n",
              " 'usa',\n",
              " 'worldwide',\n",
              " 'news',\n",
              " 'stayhome',\n",
              " 'saveliveslong',\n",
              " 'citynew',\n",
              " 'government',\n",
              " 'service',\n",
              " 'coronavirus',\n",
              " 'pandemic',\n",
              " 'covid_19many',\n",
              " 'needhow',\n",
              " 'good',\n",
              " 'pm',\n",
              " 'updates',\n",
              " 'coronaviruslatest',\n",
              " 'number',\n",
              " 'cases',\n",
              " 'county',\n",
              " 'cases',\n",
              " 'county',\n",
              " 'cases',\n",
              " 'county',\n",
              " 'cases',\n",
              " 'total',\n",
              " 'covid_19long',\n",
              " 'citycoronavirus',\n",
              " 'social',\n",
              " 'distancing',\n",
              " 'viawhy',\n",
              " 'symptoms',\n",
              " 'coronavirus',\n",
              " 'beat',\n",
              " 'virusweeks',\n",
              " 'today',\n",
              " 'people',\n",
              " 'died',\n",
              " 'death',\n",
              " 'last',\n",
              " 'days',\n",
              " 'coronaupdate',\n",
              " 'covid_19corona',\n",
              " 'coronavirusgood',\n",
              " 'morningwar',\n",
              " 'coronavirus',\n",
              " 'quarantinestaff',\n",
              " 'work',\n",
              " 'days',\n",
              " 'self',\n",
              " 'isolationwhat',\n",
              " 'time',\n",
              " 'world',\n",
              " 'normal',\n",
              " 'covid_19country',\n",
              " 'press',\n",
              " 'time',\n",
              " 'crisis',\n",
              " 'coronavirusstaysafemediadeath',\n",
              " 'deaths',\n",
              " 'total',\n",
              " 'spain',\n",
              " 'save',\n",
              " 'family',\n",
              " 'staying',\n",
              " 'home',\n",
              " 'covid_19new',\n",
              " 'app',\n",
              " 'apphelp',\n",
              " 'covid_19god',\n",
              " 'covid_19response',\n",
              " 'number',\n",
              " 'world',\n",
              " 'cases',\n",
              " 'million',\n",
              " 'friendscoronavirus',\n",
              " 'quarantinecovid_19',\n",
              " 'manycovid_19',\n",
              " 'working',\n",
              " 'homepeople',\n",
              " 'coronavirus',\n",
              " 'world',\n",
              " 'weeks',\n",
              " 'country',\n",
              " 'slowamericans',\n",
              " 'died',\n",
              " 'many',\n",
              " 'covid_19lives',\n",
              " 'pandemic',\n",
              " 'covid_19',\n",
              " 'world',\n",
              " 'mustisolation',\n",
              " 'coronavirustimes',\n",
              " 'life',\n",
              " 'covid_19time',\n",
              " 'stay',\n",
              " 'safe',\n",
              " 'covid_19daily',\n",
              " 'quarantine',\n",
              " 'need',\n",
              " 'handsfight',\n",
              " 'coronacoronavirusstaysafe',\n",
              " 'covid_19health',\n",
              " 'minister',\n",
              " 'coronavirus',\n",
              " 'change',\n",
              " 'globalbest',\n",
              " 'time',\n",
              " 'time',\n",
              " 'today',\n",
              " 'week',\n",
              " 'bestfirst',\n",
              " 'time',\n",
              " 'crisis',\n",
              " 'covid_19guidelines',\n",
              " 'social',\n",
              " 'distancing',\n",
              " 'covid_19',\n",
              " 'ppe',\n",
              " 'gooddays',\n",
              " 'social',\n",
              " 'distance',\n",
              " 'covid_19',\n",
              " 'coronacovid_19need',\n",
              " 'care',\n",
              " 'music',\n",
              " 'state',\n",
              " 'bestpeople',\n",
              " 'government',\n",
              " 'countries',\n",
              " 'people',\n",
              " 'covid_19quarantine',\n",
              " 'important',\n",
              " 'best',\n",
              " 'time',\n",
              " 'safe',\n",
              " 'covid_19workers',\n",
              " 'people',\n",
              " 'workers',\n",
              " 'workers',\n",
              " 'provide',\n",
              " 'covid_19people',\n",
              " 'share',\n",
              " 'coronavirusright',\n",
              " 'coronaviruscovid_19',\n",
              " 'coronaessential',\n",
              " 'work',\n",
              " 'work',\n",
              " 'home',\n",
              " 'covid_19packagemasks',\n",
              " 'food',\n",
              " 'mask',\n",
              " 'mask',\n",
              " 'food',\n",
              " 'covid_19good',\n",
              " 'coronavirustime',\n",
              " 'needed',\n",
              " 'live',\n",
              " 'covid_19everyone',\n",
              " 'homecoronaviruspositive',\n",
              " 'measures',\n",
              " 'coronavirus',\n",
              " 'everyonehome',\n",
              " 'covid_19make',\n",
              " 'best',\n",
              " 'time',\n",
              " 'music',\n",
              " 'help',\n",
              " 'covid',\n",
              " 'quarantine',\n",
              " 'music',\n",
              " 'home',\n",
              " 'coronavirus',\n",
              " 'youtubetoday',\n",
              " 'coronaviruswhy',\n",
              " 'everyone',\n",
              " 'world',\n",
              " 'coronaupdateright',\n",
              " 'fight',\n",
              " 'pandemicfamily',\n",
              " 'friends',\n",
              " 'covid_19',\n",
              " 'time',\n",
              " 'healthtimecoronaviruswhy',\n",
              " 'riskoutbreak',\n",
              " 'cnncorona',\n",
              " 'happy',\n",
              " 'coronavirusnight',\n",
              " 'update',\n",
              " 'quarantine',\n",
              " 'new',\n",
              " 'york',\n",
              " 'citychina',\n",
              " 'mask',\n",
              " 'firstcoronavirus',\n",
              " 'outbreak',\n",
              " 'virus',\n",
              " 'isolation',\n",
              " 'quarantine',\n",
              " 'nhscovid_19tiktok',\n",
              " 'coronavirus',\n",
              " 'quarantine',\n",
              " 'boredeveryone',\n",
              " 'people',\n",
              " 'covid_19stop',\n",
              " 'covid_19coronavirustoday',\n",
              " 'isolation',\n",
              " 'virus',\n",
              " 'covid_19',\n",
              " 'coronavirusgod',\n",
              " 'pray',\n",
              " 'right',\n",
              " 'work',\n",
              " 'praywhat',\n",
              " 'nyccounty',\n",
              " 'read',\n",
              " 'manytoday',\n",
              " 'covid_19defeat',\n",
              " 'covid_19',\n",
              " 'maketeam',\n",
              " 'covid_19',\n",
              " 'pandemicdied',\n",
              " 'new',\n",
              " 'cases',\n",
              " 'confirmed',\n",
              " 'totalnew',\n",
              " 'york',\n",
              " 'right',\n",
              " 'peoplenormallove',\n",
              " 'coronavirustogether',\n",
              " 'night',\n",
              " 'covid',\n",
              " 'covid_19quarantine',\n",
              " 'coronaviruswhat',\n",
              " 'citynumber',\n",
              " 'new',\n",
              " 'cases',\n",
              " 'last',\n",
              " 'days',\n",
              " 'april',\n",
              " 'cases',\n",
              " 'casesweeks',\n",
              " 'today',\n",
              " 'coronaupdate',\n",
              " 'coronaviruscaretimes',\n",
              " 'working',\n",
              " 'stop',\n",
              " 'weeks',\n",
              " 'covid_19new',\n",
              " 'coronavirusdeath',\n",
              " 'confirmed',\n",
              " 'died',\n",
              " 'hospitallondon',\n",
              " 'world',\n",
              " 'covid_19great',\n",
              " 'need',\n",
              " 'next',\n",
              " 'patients',\n",
              " 'support',\n",
              " 'workers',\n",
              " 'ppe',\n",
              " 'communitycovid_19',\n",
              " 'lockdown',\n",
              " 'quarantinemental',\n",
              " 'health',\n",
              " 'pandemic',\n",
              " 'mental',\n",
              " 'health',\n",
              " 'pandemic',\n",
              " 'viacare',\n",
              " 'food',\n",
              " 'service',\n",
              " 'staff',\n",
              " 'care',\n",
              " 'frontline',\n",
              " 'living',\n",
              " 'homecoronaviruscovid_19',\n",
              " 'quarantinepm',\n",
              " 'government',\n",
              " 'updates',\n",
              " 'coronavirus',\n",
              " 'media',\n",
              " 'greatpm',\n",
              " 'update',\n",
              " 'people',\n",
              " 'makeworkers',\n",
              " 'lives',\n",
              " 'lives',\n",
              " 'covid_19friends',\n",
              " 'coronavirus',\n",
              " 'covid_19america',\n",
              " 'feel',\n",
              " 'covid_19',\n",
              " 'newyorkstrong',\n",
              " 'practicing',\n",
              " 'world',\n",
              " 'today',\n",
              " 'covid_19good',\n",
              " 'hands',\n",
              " 'covid_19worldwide',\n",
              " 'stay',\n",
              " 'inside',\n",
              " 'coronaupdate',\n",
              " 'covid_19covid_19coronavirus',\n",
              " 'rest',\n",
              " 'world',\n",
              " 'trump',\n",
              " 'new',\n",
              " 'handsliving',\n",
              " 'mental',\n",
              " 'covid_19',\n",
              " 'workersstand',\n",
              " 'nightnormal',\n",
              " 'night',\n",
              " 'coronavirustime',\n",
              " 'make',\n",
              " 'make',\n",
              " 'time',\n",
              " 'make',\n",
              " 'covid_19covid_19',\n",
              " 'social',\n",
              " 'distancing',\n",
              " 'pm',\n",
              " 'pm',\n",
              " 'pm',\n",
              " 'uk',\n",
              " 'stateneed',\n",
              " 'protect',\n",
              " 'crisiscoronaviruscountry',\n",
              " 'work',\n",
              " 'stay',\n",
              " 'stay',\n",
              " 'coronavirus',\n",
              " 'covid_19president',\n",
              " 'trump',\n",
              " 'strong',\n",
              " 'potus',\n",
              " 'quarantine',\n",
              " 'covid_19',\n",
              " 'coronavirustime',\n",
              " 'great',\n",
              " 'patients',\n",
              " 'risk',\n",
              " 'peoplefeel',\n",
              " 'covid_19died',\n",
              " 'pandemic',\n",
              " 'social',\n",
              " 'long',\n",
              " 'leadersdying',\n",
              " 'viruspeople',\n",
              " 'stay',\n",
              " 'home',\n",
              " 'new',\n",
              " 'nighthow',\n",
              " 'join',\n",
              " 'symptoms',\n",
              " 'help',\n",
              " 'pandemiccoronavirus',\n",
              " 'who',\n",
              " 'nhs',\n",
              " 'outbreak',\n",
              " 'pandemic',\n",
              " 'quarantine',\n",
              " 'stayhome',\n",
              " 'next',\n",
              " 'coronavirusmake',\n",
              " 'crisis',\n",
              " 'how',\n",
              " 'covid_19overcome',\n",
              " 'life',\n",
              " 'recovery',\n",
              " 'covid_19number',\n",
              " 'deaths',\n",
              " 'usa',\n",
              " 'covid_19',\n",
              " 'todaynight',\n",
              " 'hope',\n",
              " 'coronavirustimereal',\n",
              " 'youtube',\n",
              " 'covid_19love',\n",
              " 'importantservice',\n",
              " 'coronavirus',\n",
              " 'service',\n",
              " 'wouldwork',\n",
              " 'essential',\n",
              " 'wouldvia',\n",
              " 'covid_19',\n",
              " 'quarantinemorning',\n",
              " 'stayhomesupport',\n",
              " 'new',\n",
              " 'support',\n",
              " 'people',\n",
              " 'nurses',\n",
              " 'must',\n",
              " 'supportusa',\n",
              " 'trump',\n",
              " 'first',\n",
              " 'win',\n",
              " 'covid_19peoplesad',\n",
              " 'donate',\n",
              " 'covid_19times',\n",
              " 'coronaviruscityservice',\n",
              " 'coronavirustodayright',\n",
              " 'coronavirus',\n",
              " 'covid_19',\n",
              " 'quarantinecovid_19',\n",
              " 'would',\n",
              " 'togethercovid_19need',\n",
              " 'washyourhands',\n",
              " 'covid_19feel',\n",
              " 'times',\n",
              " 'covid_19how',\n",
              " 'doctorsstop',\n",
              " 'new',\n",
              " 'state',\n",
              " 'covid_19new',\n",
              " 'covid_19help',\n",
              " 'family',\n",
              " 'whattime',\n",
              " 'people',\n",
              " 'beatneed',\n",
              " 'lockdownread',\n",
              " 'responsepresident',\n",
              " 'donald',\n",
              " 'trump',\n",
              " 'quarantine',\n",
              " 'state',\n",
              " 'new',\n",
              " 'york',\n",
              " 'coronavirus',\n",
              " 'outbreakpm',\n",
              " 'response',\n",
              " 'pmoindia',\n",
              " 'narendramodi',\n",
              " 'covid_19',\n",
              " 'donate',\n",
              " 'india',\n",
              " 'live',\n",
              " 'india',\n",
              " 'stay',\n",
              " 'home',\n",
              " 'stay',\n",
              " 'healthyneed',\n",
              " 'right',\n",
              " 'covid_19coronavirusworking',\n",
              " 'together',\n",
              " 'covid_19team',\n",
              " 'help',\n",
              " 'nyc',\n",
              " 'support',\n",
              " 'love',\n",
              " 'community',\n",
              " 'need',\n",
              " 'helpdeath',\n",
              " 'brooklyn',\n",
              " 'first',\n",
              " 'died',\n",
              " 'coronavirusconfirmed',\n",
              " 'cases',\n",
              " 'worldwide',\n",
              " 'time',\n",
              " 'death',\n",
              " 'tollcounty',\n",
              " 'county',\n",
              " 'familyreal',\n",
              " 'coronavirus',\n",
              " 'many',\n",
              " 'feel',\n",
              " 'timegreatlast',\n",
              " 'lastcoronavirus',\n",
              " 'stayathomenew',\n",
              " 'orleans',\n",
              " 'night',\n",
              " 'right',\n",
              " 'coronaviruseveryone',\n",
              " 'today',\n",
              " 'people',\n",
              " 'died',\n",
              " 'covid_19countries',\n",
              " 'world',\n",
              " 'self',\n",
              " 'distance',\n",
              " 'economy',\n",
              " 'livescases',\n",
              " 'coronavirus',\n",
              " 'good',\n",
              " 'state',\n",
              " 'state',\n",
              " 'how',\n",
              " 'goodlove',\n",
              " 'covid_19everyone',\n",
              " 'home',\n",
              " 'lives',\n",
              " 'medical',\n",
              " 'todaycovid_19',\n",
              " 'new',\n",
              " 'yorkneed',\n",
              " 'friendspositive',\n",
              " 'need',\n",
              " 'covid_19help',\n",
              " 'prevent',\n",
              " 'spread',\n",
              " 'covid_19time',\n",
              " 'covid_19',\n",
              " 'nurses',\n",
              " 'many',\n",
              " 'others',\n",
              " 'friends',\n",
              " 'washyourhands',\n",
              " 'stayhomepatients',\n",
              " 'make',\n",
              " 'covid_19latest',\n",
              " 'coronavirus',\n",
              " 'outbreak',\n",
              " 'nycmake',\n",
              " 'family',\n",
              " 'who',\n",
              " 'needs',\n",
              " 'world',\n",
              " 'feelwar',\n",
              " 'globaldayswould',\n",
              " 'morning',\n",
              " 'social',\n",
              " 'isolationcovid_19how',\n",
              " 'sad',\n",
              " 'corona',\n",
              " 'coronavirus',\n",
              " 'lockdown',\n",
              " 'quarantine',\n",
              " 'covidwould',\n",
              " 'corona',\n",
              " 'virus',\n",
              " 'rest',\n",
              " 'world',\n",
              " 'would',\n",
              " 'spread',\n",
              " 'people',\n",
              " 'spread',\n",
              " 'othersshare',\n",
              " 'covid_19',\n",
              " 'new',\n",
              " 'jerseycoronavirus',\n",
              " 'needgovernment',\n",
              " 'many',\n",
              " 'livescoronavirusbest',\n",
              " 'best',\n",
              " 'covid_19time',\n",
              " 'love',\n",
              " 'covid_19coronavirus',\n",
              " 'cases',\n",
              " 'deathhands',\n",
              " 'continuedistance',\n",
              " 'distancegoodnight',\n",
              " 'covid_19country',\n",
              " 'narendramodi',\n",
              " 'country',\n",
              " 'save',\n",
              " 'countrycoronavirustest',\n",
              " 'teststay',\n",
              " 'home',\n",
              " 'stayhomecoronavirus',\n",
              " 'quarantineright',\n",
              " 'difficult',\n",
              " 'nhsnewyorkbeautiful',\n",
              " 'last',\n",
              " 'today',\n",
              " 'lord',\n",
              " 'april',\n",
              " 'people',\n",
              " 'restcoronavirus',\n",
              " 'cases',\n",
              " 'manyuk',\n",
              " 'minister',\n",
              " 'boris',\n",
              " 'uk',\n",
              " 'stay',\n",
              " 'homefeel',\n",
              " 'live',\n",
              " 'covid_19death',\n",
              " 'life',\n",
              " 'winnew',\n",
              " 'york',\n",
              " 'countrybest',\n",
              " 'follow',\n",
              " 'covid_19what',\n",
              " 'dayscovid_19',\n",
              " 'californiajoin',\n",
              " 'home',\n",
              " 'spread',\n",
              " 'hope',\n",
              " 'people',\n",
              " 'practicing',\n",
              " 'outbreakhealth',\n",
              " ...]"
            ]
          },
          "metadata": {
            "tags": []
          },
          "execution_count": 47
        }
      ]
    },
    {
      "cell_type": "code",
      "metadata": {
        "colab": {
          "base_uri": "https://localhost:8080/"
        },
        "id": "MkrzsusHUMOW",
        "outputId": "c7dbf6fb-a34e-4f09-b90f-87fd1535c04d"
      },
      "source": [
        "import collections\n",
        "\n",
        "counts_no_urls = collections.Counter(all_topics)\n",
        "\n",
        "counts_no_urls.most_common(15)\n",
        "len(counts_no_urls)"
      ],
      "execution_count": 48,
      "outputs": [
        {
          "output_type": "execute_result",
          "data": {
            "text/plain": [
              "56410"
            ]
          },
          "metadata": {
            "tags": []
          },
          "execution_count": 48
        }
      ]
    },
    {
      "cell_type": "code",
      "metadata": {
        "id": "0rwyJ4F4UMOX"
      },
      "source": [
        "clean_tweets_no_urls = pd.DataFrame(counts_no_urls.most_common(10),\n",
        "                             columns=['words', 'count'])"
      ],
      "execution_count": 49,
      "outputs": []
    },
    {
      "cell_type": "code",
      "metadata": {
        "colab": {
          "base_uri": "https://localhost:8080/",
          "height": 197
        },
        "id": "mvkWRDKaUMOX",
        "outputId": "2f6982e5-b3a3-400d-c7e2-8840c85208ba"
      },
      "source": [
        "clean_tweets_no_urls.head()"
      ],
      "execution_count": 50,
      "outputs": [
        {
          "output_type": "execute_result",
          "data": {
            "text/html": [
              "<div>\n",
              "<style scoped>\n",
              "    .dataframe tbody tr th:only-of-type {\n",
              "        vertical-align: middle;\n",
              "    }\n",
              "\n",
              "    .dataframe tbody tr th {\n",
              "        vertical-align: top;\n",
              "    }\n",
              "\n",
              "    .dataframe thead th {\n",
              "        text-align: right;\n",
              "    }\n",
              "</style>\n",
              "<table border=\"1\" class=\"dataframe\">\n",
              "  <thead>\n",
              "    <tr style=\"text-align: right;\">\n",
              "      <th></th>\n",
              "      <th>words</th>\n",
              "      <th>count</th>\n",
              "    </tr>\n",
              "  </thead>\n",
              "  <tbody>\n",
              "    <tr>\n",
              "      <th>0</th>\n",
              "      <td>coronavirus</td>\n",
              "      <td>28905</td>\n",
              "    </tr>\n",
              "    <tr>\n",
              "      <th>1</th>\n",
              "      <td>people</td>\n",
              "      <td>11476</td>\n",
              "    </tr>\n",
              "    <tr>\n",
              "      <th>2</th>\n",
              "      <td>covid_19</td>\n",
              "      <td>10195</td>\n",
              "    </tr>\n",
              "    <tr>\n",
              "      <th>3</th>\n",
              "      <td>cases</td>\n",
              "      <td>8802</td>\n",
              "    </tr>\n",
              "    <tr>\n",
              "      <th>4</th>\n",
              "      <td>home</td>\n",
              "      <td>8682</td>\n",
              "    </tr>\n",
              "  </tbody>\n",
              "</table>\n",
              "</div>"
            ],
            "text/plain": [
              "         words  count\n",
              "0  coronavirus  28905\n",
              "1       people  11476\n",
              "2     covid_19  10195\n",
              "3        cases   8802\n",
              "4         home   8682"
            ]
          },
          "metadata": {
            "tags": []
          },
          "execution_count": 50
        }
      ]
    },
    {
      "cell_type": "code",
      "metadata": {
        "id": "Egu5IP5jbBxP"
      },
      "source": [
        "clean_tweets_no_urls.to_csv(\"a.csv\")"
      ],
      "execution_count": 51,
      "outputs": []
    },
    {
      "cell_type": "code",
      "metadata": {
        "id": "V9LYpTkCUMOX"
      },
      "source": [
        "term_freq_df = clean_tweets_no_urls"
      ],
      "execution_count": 52,
      "outputs": []
    },
    {
      "cell_type": "code",
      "metadata": {
        "id": "kYeH0vYfUMOX"
      },
      "source": [
        "term_freq_df.columns = [\"words\",\"total\"]"
      ],
      "execution_count": 53,
      "outputs": []
    },
    {
      "cell_type": "code",
      "metadata": {
        "colab": {
          "base_uri": "https://localhost:8080/",
          "height": 34
        },
        "id": "AnYdEBLHUMOY",
        "outputId": "cea16027-6ac5-4862-8414-9dd911f7e8df"
      },
      "source": [
        "import matplotlib.pyplot as plt\n",
        "import seaborn as sns\n",
        "import numpy as np\n",
        "y_pos = np.arange(500)\n",
        "plt.figure(figsize=(10,8))\n",
        "s = 1\n",
        "term_freq_df.drop(columns=[\"words\"],inplace=True)"
      ],
      "execution_count": 54,
      "outputs": [
        {
          "output_type": "display_data",
          "data": {
            "text/plain": [
              "<Figure size 720x576 with 0 Axes>"
            ]
          },
          "metadata": {
            "tags": []
          }
        }
      ]
    },
    {
      "cell_type": "code",
      "metadata": {
        "colab": {
          "base_uri": "https://localhost:8080/",
          "height": 593
        },
        "id": "k2btiq8RUMOY",
        "outputId": "6f8f1b71-56af-4dbc-dded-3dc52b296f4e"
      },
      "source": [
        "plt.bar(y_pos, term_freq_df.sort_values(by='total', ascending=False)['total'][:500], align='center', alpha=0.5)"
      ],
      "execution_count": 55,
      "outputs": [
        {
          "output_type": "error",
          "ename": "ValueError",
          "evalue": "ignored",
          "traceback": [
            "\u001b[0;31m---------------------------------------------------------------------------\u001b[0m",
            "\u001b[0;31mValueError\u001b[0m                                Traceback (most recent call last)",
            "\u001b[0;32m<ipython-input-55-10cfd2a6a3d5>\u001b[0m in \u001b[0;36m<module>\u001b[0;34m()\u001b[0m\n\u001b[0;32m----> 1\u001b[0;31m \u001b[0mplt\u001b[0m\u001b[0;34m.\u001b[0m\u001b[0mbar\u001b[0m\u001b[0;34m(\u001b[0m\u001b[0my_pos\u001b[0m\u001b[0;34m,\u001b[0m \u001b[0mterm_freq_df\u001b[0m\u001b[0;34m.\u001b[0m\u001b[0msort_values\u001b[0m\u001b[0;34m(\u001b[0m\u001b[0mby\u001b[0m\u001b[0;34m=\u001b[0m\u001b[0;34m'total'\u001b[0m\u001b[0;34m,\u001b[0m \u001b[0mascending\u001b[0m\u001b[0;34m=\u001b[0m\u001b[0;32mFalse\u001b[0m\u001b[0;34m)\u001b[0m\u001b[0;34m[\u001b[0m\u001b[0;34m'total'\u001b[0m\u001b[0;34m]\u001b[0m\u001b[0;34m[\u001b[0m\u001b[0;34m:\u001b[0m\u001b[0;36m500\u001b[0m\u001b[0;34m]\u001b[0m\u001b[0;34m,\u001b[0m \u001b[0malign\u001b[0m\u001b[0;34m=\u001b[0m\u001b[0;34m'center'\u001b[0m\u001b[0;34m,\u001b[0m \u001b[0malpha\u001b[0m\u001b[0;34m=\u001b[0m\u001b[0;36m0.5\u001b[0m\u001b[0;34m)\u001b[0m\u001b[0;34m\u001b[0m\u001b[0;34m\u001b[0m\u001b[0m\n\u001b[0m",
            "\u001b[0;32m/usr/local/lib/python3.7/dist-packages/matplotlib/pyplot.py\u001b[0m in \u001b[0;36mbar\u001b[0;34m(x, height, width, bottom, align, data, **kwargs)\u001b[0m\n\u001b[1;32m   2407\u001b[0m     return gca().bar(\n\u001b[1;32m   2408\u001b[0m         \u001b[0mx\u001b[0m\u001b[0;34m,\u001b[0m \u001b[0mheight\u001b[0m\u001b[0;34m,\u001b[0m \u001b[0mwidth\u001b[0m\u001b[0;34m=\u001b[0m\u001b[0mwidth\u001b[0m\u001b[0;34m,\u001b[0m \u001b[0mbottom\u001b[0m\u001b[0;34m=\u001b[0m\u001b[0mbottom\u001b[0m\u001b[0;34m,\u001b[0m \u001b[0malign\u001b[0m\u001b[0;34m=\u001b[0m\u001b[0malign\u001b[0m\u001b[0;34m,\u001b[0m\u001b[0;34m\u001b[0m\u001b[0;34m\u001b[0m\u001b[0m\n\u001b[0;32m-> 2409\u001b[0;31m         **({\"data\": data} if data is not None else {}), **kwargs)\n\u001b[0m\u001b[1;32m   2410\u001b[0m \u001b[0;34m\u001b[0m\u001b[0m\n\u001b[1;32m   2411\u001b[0m \u001b[0;34m\u001b[0m\u001b[0m\n",
            "\u001b[0;32m/usr/local/lib/python3.7/dist-packages/matplotlib/__init__.py\u001b[0m in \u001b[0;36minner\u001b[0;34m(ax, data, *args, **kwargs)\u001b[0m\n\u001b[1;32m   1563\u001b[0m     \u001b[0;32mdef\u001b[0m \u001b[0minner\u001b[0m\u001b[0;34m(\u001b[0m\u001b[0max\u001b[0m\u001b[0;34m,\u001b[0m \u001b[0;34m*\u001b[0m\u001b[0margs\u001b[0m\u001b[0;34m,\u001b[0m \u001b[0mdata\u001b[0m\u001b[0;34m=\u001b[0m\u001b[0;32mNone\u001b[0m\u001b[0;34m,\u001b[0m \u001b[0;34m**\u001b[0m\u001b[0mkwargs\u001b[0m\u001b[0;34m)\u001b[0m\u001b[0;34m:\u001b[0m\u001b[0;34m\u001b[0m\u001b[0;34m\u001b[0m\u001b[0m\n\u001b[1;32m   1564\u001b[0m         \u001b[0;32mif\u001b[0m \u001b[0mdata\u001b[0m \u001b[0;32mis\u001b[0m \u001b[0;32mNone\u001b[0m\u001b[0;34m:\u001b[0m\u001b[0;34m\u001b[0m\u001b[0;34m\u001b[0m\u001b[0m\n\u001b[0;32m-> 1565\u001b[0;31m             \u001b[0;32mreturn\u001b[0m \u001b[0mfunc\u001b[0m\u001b[0;34m(\u001b[0m\u001b[0max\u001b[0m\u001b[0;34m,\u001b[0m \u001b[0;34m*\u001b[0m\u001b[0mmap\u001b[0m\u001b[0;34m(\u001b[0m\u001b[0msanitize_sequence\u001b[0m\u001b[0;34m,\u001b[0m \u001b[0margs\u001b[0m\u001b[0;34m)\u001b[0m\u001b[0;34m,\u001b[0m \u001b[0;34m**\u001b[0m\u001b[0mkwargs\u001b[0m\u001b[0;34m)\u001b[0m\u001b[0;34m\u001b[0m\u001b[0;34m\u001b[0m\u001b[0m\n\u001b[0m\u001b[1;32m   1566\u001b[0m \u001b[0;34m\u001b[0m\u001b[0m\n\u001b[1;32m   1567\u001b[0m         \u001b[0mbound\u001b[0m \u001b[0;34m=\u001b[0m \u001b[0mnew_sig\u001b[0m\u001b[0;34m.\u001b[0m\u001b[0mbind\u001b[0m\u001b[0;34m(\u001b[0m\u001b[0max\u001b[0m\u001b[0;34m,\u001b[0m \u001b[0;34m*\u001b[0m\u001b[0margs\u001b[0m\u001b[0;34m,\u001b[0m \u001b[0;34m**\u001b[0m\u001b[0mkwargs\u001b[0m\u001b[0;34m)\u001b[0m\u001b[0;34m\u001b[0m\u001b[0;34m\u001b[0m\u001b[0m\n",
            "\u001b[0;32m/usr/local/lib/python3.7/dist-packages/matplotlib/axes/_axes.py\u001b[0m in \u001b[0;36mbar\u001b[0;34m(self, x, height, width, bottom, align, **kwargs)\u001b[0m\n\u001b[1;32m   2340\u001b[0m         x, height, width, y, linewidth = np.broadcast_arrays(\n\u001b[1;32m   2341\u001b[0m             \u001b[0;31m# Make args iterable too.\u001b[0m\u001b[0;34m\u001b[0m\u001b[0;34m\u001b[0m\u001b[0;34m\u001b[0m\u001b[0m\n\u001b[0;32m-> 2342\u001b[0;31m             np.atleast_1d(x), height, width, y, linewidth)\n\u001b[0m\u001b[1;32m   2343\u001b[0m \u001b[0;34m\u001b[0m\u001b[0m\n\u001b[1;32m   2344\u001b[0m         \u001b[0;31m# Now that units have been converted, set the tick locations.\u001b[0m\u001b[0;34m\u001b[0m\u001b[0;34m\u001b[0m\u001b[0;34m\u001b[0m\u001b[0m\n",
            "\u001b[0;32m<__array_function__ internals>\u001b[0m in \u001b[0;36mbroadcast_arrays\u001b[0;34m(*args, **kwargs)\u001b[0m\n",
            "\u001b[0;32m/usr/local/lib/python3.7/dist-packages/numpy/lib/stride_tricks.py\u001b[0m in \u001b[0;36mbroadcast_arrays\u001b[0;34m(subok, *args)\u001b[0m\n\u001b[1;32m    256\u001b[0m     \u001b[0margs\u001b[0m \u001b[0;34m=\u001b[0m \u001b[0;34m[\u001b[0m\u001b[0mnp\u001b[0m\u001b[0;34m.\u001b[0m\u001b[0marray\u001b[0m\u001b[0;34m(\u001b[0m\u001b[0m_m\u001b[0m\u001b[0;34m,\u001b[0m \u001b[0mcopy\u001b[0m\u001b[0;34m=\u001b[0m\u001b[0;32mFalse\u001b[0m\u001b[0;34m,\u001b[0m \u001b[0msubok\u001b[0m\u001b[0;34m=\u001b[0m\u001b[0msubok\u001b[0m\u001b[0;34m)\u001b[0m \u001b[0;32mfor\u001b[0m \u001b[0m_m\u001b[0m \u001b[0;32min\u001b[0m \u001b[0margs\u001b[0m\u001b[0;34m]\u001b[0m\u001b[0;34m\u001b[0m\u001b[0;34m\u001b[0m\u001b[0m\n\u001b[1;32m    257\u001b[0m \u001b[0;34m\u001b[0m\u001b[0m\n\u001b[0;32m--> 258\u001b[0;31m     \u001b[0mshape\u001b[0m \u001b[0;34m=\u001b[0m \u001b[0m_broadcast_shape\u001b[0m\u001b[0;34m(\u001b[0m\u001b[0;34m*\u001b[0m\u001b[0margs\u001b[0m\u001b[0;34m)\u001b[0m\u001b[0;34m\u001b[0m\u001b[0;34m\u001b[0m\u001b[0m\n\u001b[0m\u001b[1;32m    259\u001b[0m \u001b[0;34m\u001b[0m\u001b[0m\n\u001b[1;32m    260\u001b[0m     \u001b[0;32mif\u001b[0m \u001b[0mall\u001b[0m\u001b[0;34m(\u001b[0m\u001b[0marray\u001b[0m\u001b[0;34m.\u001b[0m\u001b[0mshape\u001b[0m \u001b[0;34m==\u001b[0m \u001b[0mshape\u001b[0m \u001b[0;32mfor\u001b[0m \u001b[0marray\u001b[0m \u001b[0;32min\u001b[0m \u001b[0margs\u001b[0m\u001b[0;34m)\u001b[0m\u001b[0;34m:\u001b[0m\u001b[0;34m\u001b[0m\u001b[0;34m\u001b[0m\u001b[0m\n",
            "\u001b[0;32m/usr/local/lib/python3.7/dist-packages/numpy/lib/stride_tricks.py\u001b[0m in \u001b[0;36m_broadcast_shape\u001b[0;34m(*args)\u001b[0m\n\u001b[1;32m    187\u001b[0m     \u001b[0;31m# use the old-iterator because np.nditer does not handle size 0 arrays\u001b[0m\u001b[0;34m\u001b[0m\u001b[0;34m\u001b[0m\u001b[0;34m\u001b[0m\u001b[0m\n\u001b[1;32m    188\u001b[0m     \u001b[0;31m# consistently\u001b[0m\u001b[0;34m\u001b[0m\u001b[0;34m\u001b[0m\u001b[0;34m\u001b[0m\u001b[0m\n\u001b[0;32m--> 189\u001b[0;31m     \u001b[0mb\u001b[0m \u001b[0;34m=\u001b[0m \u001b[0mnp\u001b[0m\u001b[0;34m.\u001b[0m\u001b[0mbroadcast\u001b[0m\u001b[0;34m(\u001b[0m\u001b[0;34m*\u001b[0m\u001b[0margs\u001b[0m\u001b[0;34m[\u001b[0m\u001b[0;34m:\u001b[0m\u001b[0;36m32\u001b[0m\u001b[0;34m]\u001b[0m\u001b[0;34m)\u001b[0m\u001b[0;34m\u001b[0m\u001b[0;34m\u001b[0m\u001b[0m\n\u001b[0m\u001b[1;32m    190\u001b[0m     \u001b[0;31m# unfortunately, it cannot handle 32 or more arguments directly\u001b[0m\u001b[0;34m\u001b[0m\u001b[0;34m\u001b[0m\u001b[0;34m\u001b[0m\u001b[0m\n\u001b[1;32m    191\u001b[0m     \u001b[0;32mfor\u001b[0m \u001b[0mpos\u001b[0m \u001b[0;32min\u001b[0m \u001b[0mrange\u001b[0m\u001b[0;34m(\u001b[0m\u001b[0;36m32\u001b[0m\u001b[0;34m,\u001b[0m \u001b[0mlen\u001b[0m\u001b[0;34m(\u001b[0m\u001b[0margs\u001b[0m\u001b[0;34m)\u001b[0m\u001b[0;34m,\u001b[0m \u001b[0;36m31\u001b[0m\u001b[0;34m)\u001b[0m\u001b[0;34m:\u001b[0m\u001b[0;34m\u001b[0m\u001b[0;34m\u001b[0m\u001b[0m\n",
            "\u001b[0;31mValueError\u001b[0m: shape mismatch: objects cannot be broadcast to a single shape"
          ]
        },
        {
          "output_type": "display_data",
          "data": {
            "image/png": "[encoded data removed]",
            "text/plain": [
              "<Figure size 432x288 with 1 Axes>"
            ]
          },
          "metadata": {
            "tags": [],
            "needs_background": "light"
          }
        }
      ]
    },
    {
      "cell_type": "code",
      "metadata": {
        "id": "2-Ypwoj6UMOY"
      },
      "source": [
        "import numpy as np\n",
        "\n",
        "expected_zipf = [term_freq_df.sort_values(by='total', ascending=False)['total'][0]/(i+1)**s for i in y_pos]\n",
        "\n",
        "plt.plot(y_pos, expected_zipf, color='r', linestyle='--',linewidth=2,alpha=0.5)\n",
        "plt.ylabel('Frequency')\n",
        "plt.title('Top 500 tokens in tweets')"
      ],
      "execution_count": null,
      "outputs": []
    },
    {
      "cell_type": "code",
      "metadata": {
        "colab": {
          "base_uri": "https://localhost:8080/",
          "height": 350
        },
        "id": "P7qT8UH2UMOY",
        "outputId": "dc4ed939-fb65-474f-c869-a2178bb271f5"
      },
      "source": [
        "from pylab import *\n",
        "counts = term_freq_df.total\n",
        "tokens = term_freq_df.words\n",
        "ranks = arange(1, len(counts)+1)\n",
        "indices = argsort(-counts)\n",
        "frequencies = counts[indices]\n",
        "plt.figure(figsize=(8,6))\n",
        "plt.ylim(1,10**6)\n",
        "plt.xlim(1,10**1)\n",
        "loglog(ranks, frequencies, marker=\".\")\n",
        "plt.plot([1,frequencies[0]],[frequencies[0],1],color='r')\n",
        "title(\"Zipf plot for tweets tokens\")\n",
        "xlabel(\"Frequency rank of token\")\n",
        "ylabel(\"Absolute frequency of token\")\n",
        "grid(True)\n",
        "for n in list(logspace(-0.5, log10(len(counts)-2), 25).astype(int)):\n",
        "    dummy = text(ranks[n], frequencies[n], \" \" + tokens[indices[n]], \n",
        "                 verticalalignment=\"bottom\",\n",
        "                 horizontalalignment=\"left\")"
      ],
      "execution_count": 56,
      "outputs": [
        {
          "output_type": "error",
          "ename": "AttributeError",
          "evalue": "ignored",
          "traceback": [
            "\u001b[0;31m---------------------------------------------------------------------------\u001b[0m",
            "\u001b[0;31mAttributeError\u001b[0m                            Traceback (most recent call last)",
            "\u001b[0;32m<ipython-input-56-6ff34d253023>\u001b[0m in \u001b[0;36m<module>\u001b[0;34m()\u001b[0m\n\u001b[1;32m      1\u001b[0m \u001b[0;32mfrom\u001b[0m \u001b[0mpylab\u001b[0m \u001b[0;32mimport\u001b[0m \u001b[0;34m*\u001b[0m\u001b[0;34m\u001b[0m\u001b[0;34m\u001b[0m\u001b[0m\n\u001b[1;32m      2\u001b[0m \u001b[0mcounts\u001b[0m \u001b[0;34m=\u001b[0m \u001b[0mterm_freq_df\u001b[0m\u001b[0;34m.\u001b[0m\u001b[0mtotal\u001b[0m\u001b[0;34m\u001b[0m\u001b[0;34m\u001b[0m\u001b[0m\n\u001b[0;32m----> 3\u001b[0;31m \u001b[0mtokens\u001b[0m \u001b[0;34m=\u001b[0m \u001b[0mterm_freq_df\u001b[0m\u001b[0;34m.\u001b[0m\u001b[0mwords\u001b[0m\u001b[0;34m\u001b[0m\u001b[0;34m\u001b[0m\u001b[0m\n\u001b[0m\u001b[1;32m      4\u001b[0m \u001b[0mranks\u001b[0m \u001b[0;34m=\u001b[0m \u001b[0marange\u001b[0m\u001b[0;34m(\u001b[0m\u001b[0;36m1\u001b[0m\u001b[0;34m,\u001b[0m \u001b[0mlen\u001b[0m\u001b[0;34m(\u001b[0m\u001b[0mcounts\u001b[0m\u001b[0;34m)\u001b[0m\u001b[0;34m+\u001b[0m\u001b[0;36m1\u001b[0m\u001b[0;34m)\u001b[0m\u001b[0;34m\u001b[0m\u001b[0;34m\u001b[0m\u001b[0m\n\u001b[1;32m      5\u001b[0m \u001b[0mindices\u001b[0m \u001b[0;34m=\u001b[0m \u001b[0margsort\u001b[0m\u001b[0;34m(\u001b[0m\u001b[0;34m-\u001b[0m\u001b[0mcounts\u001b[0m\u001b[0;34m)\u001b[0m\u001b[0;34m\u001b[0m\u001b[0;34m\u001b[0m\u001b[0m\n",
            "\u001b[0;32m/usr/local/lib/python3.7/dist-packages/pandas/core/generic.py\u001b[0m in \u001b[0;36m__getattr__\u001b[0;34m(self, name)\u001b[0m\n\u001b[1;32m   5139\u001b[0m             \u001b[0;32mif\u001b[0m \u001b[0mself\u001b[0m\u001b[0;34m.\u001b[0m\u001b[0m_info_axis\u001b[0m\u001b[0;34m.\u001b[0m\u001b[0m_can_hold_identifiers_and_holds_name\u001b[0m\u001b[0;34m(\u001b[0m\u001b[0mname\u001b[0m\u001b[0;34m)\u001b[0m\u001b[0;34m:\u001b[0m\u001b[0;34m\u001b[0m\u001b[0;34m\u001b[0m\u001b[0m\n\u001b[1;32m   5140\u001b[0m                 \u001b[0;32mreturn\u001b[0m \u001b[0mself\u001b[0m\u001b[0;34m[\u001b[0m\u001b[0mname\u001b[0m\u001b[0;34m]\u001b[0m\u001b[0;34m\u001b[0m\u001b[0;34m\u001b[0m\u001b[0m\n\u001b[0;32m-> 5141\u001b[0;31m             \u001b[0;32mreturn\u001b[0m \u001b[0mobject\u001b[0m\u001b[0;34m.\u001b[0m\u001b[0m__getattribute__\u001b[0m\u001b[0;34m(\u001b[0m\u001b[0mself\u001b[0m\u001b[0;34m,\u001b[0m \u001b[0mname\u001b[0m\u001b[0;34m)\u001b[0m\u001b[0;34m\u001b[0m\u001b[0;34m\u001b[0m\u001b[0m\n\u001b[0m\u001b[1;32m   5142\u001b[0m \u001b[0;34m\u001b[0m\u001b[0m\n\u001b[1;32m   5143\u001b[0m     \u001b[0;32mdef\u001b[0m \u001b[0m__setattr__\u001b[0m\u001b[0;34m(\u001b[0m\u001b[0mself\u001b[0m\u001b[0;34m,\u001b[0m \u001b[0mname\u001b[0m\u001b[0;34m:\u001b[0m \u001b[0mstr\u001b[0m\u001b[0;34m,\u001b[0m \u001b[0mvalue\u001b[0m\u001b[0;34m)\u001b[0m \u001b[0;34m->\u001b[0m \u001b[0;32mNone\u001b[0m\u001b[0;34m:\u001b[0m\u001b[0;34m\u001b[0m\u001b[0;34m\u001b[0m\u001b[0m\n",
            "\u001b[0;31mAttributeError\u001b[0m: 'DataFrame' object has no attribute 'words'"
          ]
        }
      ]
    },
    {
      "cell_type": "code",
      "metadata": {
        "id": "S-zFaeN3UMOZ"
      },
      "source": [
        "import matplotlib.pyplot as plt\n",
        "\n",
        "fig, ax = plt.subplots(figsize=(8, 8))\n",
        "\n",
        "# Plot horizontal bar graph\n",
        "clean_tweets_no_urls.sort_values(by='count').plot.barh(x='words',\n",
        "                      y='count',\n",
        "                      ax=ax,\n",
        "                      color=\"purple\")\n",
        "\n",
        "ax.set_title(\"Common Topis Found in Tweets (Including All Words)\")\n",
        "\n",
        "plt.show()"
      ],
      "execution_count": null,
      "outputs": []
    },
    {
      "cell_type": "code",
      "metadata": {
        "id": "zEqLLsfdUMOZ"
      },
      "source": [
        "india = data[data[\"country_code\"]==\"IN\"]"
      ],
      "execution_count": 57,
      "outputs": []
    },
    {
      "cell_type": "code",
      "metadata": {
        "colab": {
          "base_uri": "https://localhost:8080/",
          "height": 405
        },
        "id": "Nt0zcrzlUMOZ",
        "outputId": "eb7402de-2316-4142-89be-87026e6024d0"
      },
      "source": [
        "india"
      ],
      "execution_count": 58,
      "outputs": [
        {
          "output_type": "execute_result",
          "data": {
            "text/html": [
              "<div>\n",
              "<style scoped>\n",
              "    .dataframe tbody tr th:only-of-type {\n",
              "        vertical-align: middle;\n",
              "    }\n",
              "\n",
              "    .dataframe tbody tr th {\n",
              "        vertical-align: top;\n",
              "    }\n",
              "\n",
              "    .dataframe thead th {\n",
              "        text-align: right;\n",
              "    }\n",
              "</style>\n",
              "<table border=\"1\" class=\"dataframe\">\n",
              "  <thead>\n",
              "    <tr style=\"text-align: right;\">\n",
              "      <th></th>\n",
              "      <th>text</th>\n",
              "      <th>country_code</th>\n",
              "      <th>date</th>\n",
              "      <th>hashtag</th>\n",
              "      <th>topics</th>\n",
              "    </tr>\n",
              "  </thead>\n",
              "  <tbody>\n",
              "    <tr>\n",
              "      <th>43</th>\n",
              "      <td>`` covid19 socialdistancing indian way '' http...</td>\n",
              "      <td>IN</td>\n",
              "      <td>2020-03-29</td>\n",
              "      <td>['#Covid19', '#SocialDistancing']</td>\n",
              "      <td></td>\n",
              "    </tr>\n",
              "    <tr>\n",
              "      <th>54</th>\n",
              "      <td>possible case human animal transmission way ar...</td>\n",
              "      <td>IN</td>\n",
              "      <td>2020-03-29</td>\n",
              "      <td>['#COVID19']</td>\n",
              "      <td>india,continue,god,help</td>\n",
              "    </tr>\n",
              "    <tr>\n",
              "      <th>83</th>\n",
              "      <td>coronavirus us eclipses 120,000 confirmed case...</td>\n",
              "      <td>IN</td>\n",
              "      <td>2020-03-29</td>\n",
              "      <td>['#Coronavirus', '#US', '#Coronavirus']</td>\n",
              "      <td>coronavirus,confirmed,cases,coronavirus,deaths...</td>\n",
              "    </tr>\n",
              "    <tr>\n",
              "      <th>102</th>\n",
              "      <td>the bitter truth 😔 covid_19 covid19india lockd...</td>\n",
              "      <td>IN</td>\n",
              "      <td>2020-03-29</td>\n",
              "      <td>['#covid_19', '#covid19india', '#lockdown']</td>\n",
              "      <td>covid_19,lockdown,india</td>\n",
              "    </tr>\n",
              "    <tr>\n",
              "      <th>158</th>\n",
              "      <td>coronavirusoutbreak all churches shd realize '...</td>\n",
              "      <td>IN</td>\n",
              "      <td>2020-03-29</td>\n",
              "      <td>['#CoronavirusOutbreak']</td>\n",
              "      <td>important,spread,isolation</td>\n",
              "    </tr>\n",
              "    <tr>\n",
              "      <th>...</th>\n",
              "      <td>...</td>\n",
              "      <td>...</td>\n",
              "      <td>...</td>\n",
              "      <td>...</td>\n",
              "      <td>...</td>\n",
              "    </tr>\n",
              "    <tr>\n",
              "      <th>230502</th>\n",
              "      <td>on instruction aimim president asadowaisi saha...</td>\n",
              "      <td>IN</td>\n",
              "      <td>2020-04-15</td>\n",
              "      <td>['#AIMIM', '#AIMIM', '#AIMIM', '#CoronavirusLo...</td>\n",
              "      <td>president,daily,workers,lockdown</td>\n",
              "    </tr>\n",
              "    <tr>\n",
              "      <th>230522</th>\n",
              "      <td>news link👇🏻 https //t.co/rqtdvwpanh myvadodara...</td>\n",
              "      <td>IN</td>\n",
              "      <td>2020-04-15</td>\n",
              "      <td>['#myvadodara2020', '#mvtt', '#vadodara', '#ap...</td>\n",
              "      <td>news,lockdown,india,stayhome</td>\n",
              "    </tr>\n",
              "    <tr>\n",
              "      <th>230581</th>\n",
              "      <td>news link👇🏻 https //t.co/ng006pczn9 myvadodara...</td>\n",
              "      <td>IN</td>\n",
              "      <td>2020-04-15</td>\n",
              "      <td>['#myvadodara2020', '#mvtt', '#vadodara', '#sa...</td>\n",
              "      <td>news,usa,lockdown,india,stayhome</td>\n",
              "    </tr>\n",
              "    <tr>\n",
              "      <th>230600</th>\n",
              "      <td>what 's happening life coronawillendsoon stayh...</td>\n",
              "      <td>IN</td>\n",
              "      <td>2020-04-15</td>\n",
              "      <td>['#CoronaWillEndSoon', '#StayHomeStaySafe', '#...</td>\n",
              "      <td>what,life,quarantine</td>\n",
              "    </tr>\n",
              "    <tr>\n",
              "      <th>230681</th>\n",
              "      <td>should landlord allow rent flexibility tenant ...</td>\n",
              "      <td>IN</td>\n",
              "      <td>2020-04-15</td>\n",
              "      <td>['#Corona', '#COVID19']</td>\n",
              "      <td>corona</td>\n",
              "    </tr>\n",
              "  </tbody>\n",
              "</table>\n",
              "<p>23949 rows × 5 columns</p>\n",
              "</div>"
            ],
            "text/plain": [
              "                                                     text  ...                                             topics\n",
              "43      `` covid19 socialdistancing indian way '' http...  ...                                                   \n",
              "54      possible case human animal transmission way ar...  ...                            india,continue,god,help\n",
              "83      coronavirus us eclipses 120,000 confirmed case...  ...  coronavirus,confirmed,cases,coronavirus,deaths...\n",
              "102     the bitter truth 😔 covid_19 covid19india lockd...  ...                            covid_19,lockdown,india\n",
              "158     coronavirusoutbreak all churches shd realize '...  ...                         important,spread,isolation\n",
              "...                                                   ...  ...                                                ...\n",
              "230502  on instruction aimim president asadowaisi saha...  ...                   president,daily,workers,lockdown\n",
              "230522  news link👇🏻 https //t.co/rqtdvwpanh myvadodara...  ...                       news,lockdown,india,stayhome\n",
              "230581  news link👇🏻 https //t.co/ng006pczn9 myvadodara...  ...                   news,usa,lockdown,india,stayhome\n",
              "230600  what 's happening life coronawillendsoon stayh...  ...                               what,life,quarantine\n",
              "230681  should landlord allow rent flexibility tenant ...  ...                                             corona\n",
              "\n",
              "[23949 rows x 5 columns]"
            ]
          },
          "metadata": {
            "tags": []
          },
          "execution_count": 58
        }
      ]
    },
    {
      "cell_type": "code",
      "metadata": {
        "colab": {
          "base_uri": "https://localhost:8080/"
        },
        "id": "tN8O_gyWUMOa",
        "outputId": "3a30fa75-071d-4b0d-fd18-70a0fc7bf9df"
      },
      "source": [
        "india.info()"
      ],
      "execution_count": 59,
      "outputs": [
        {
          "output_type": "stream",
          "text": [
            "<class 'pandas.core.frame.DataFrame'>\n",
            "Int64Index: 23949 entries, 43 to 230681\n",
            "Data columns (total 5 columns):\n",
            " #   Column        Non-Null Count  Dtype \n",
            "---  ------        --------------  ----- \n",
            " 0   text          23949 non-null  object\n",
            " 1   country_code  23949 non-null  object\n",
            " 2   date          23949 non-null  object\n",
            " 3   hashtag       23949 non-null  object\n",
            " 4   topics        23949 non-null  object\n",
            "dtypes: object(5)\n",
            "memory usage: 1.1+ MB\n"
          ],
          "name": "stdout"
        }
      ]
    },
    {
      "cell_type": "code",
      "metadata": {
        "id": "OVHL930NUMOa"
      },
      "source": [
        "from datetime import datetime\n",
        "\n",
        "for i in india.index:\n",
        "    india.at[i,\"date\"] = datetime.strptime(india.at[i,\"date\"], '%Y-%m-%d')"
      ],
      "execution_count": 60,
      "outputs": []
    },
    {
      "cell_type": "code",
      "metadata": {
        "id": "cKbHM1W0UMOa"
      },
      "source": [
        "la1 = '2020-03-25'\n",
        "la2 = '2020-04-14'\n",
        "lb1 = '2020-04-15'\n",
        "lb2 = '2020-05-03'\n",
        "lc1 = '2020-05-04'\n",
        "lc2 = '2020-05-17'\n",
        "ld1 = '2020-05-18'\n",
        "ld2 = '2020-05-31'\n",
        "\n",
        "a1 = datetime.strptime(la1, '%Y-%m-%d')\n",
        "a2 = datetime.strptime(la2, '%Y-%m-%d')\n",
        "b1 = datetime.strptime(lb1, '%Y-%m-%d')\n",
        "b2 = datetime.strptime(lb2, '%Y-%m-%d')\n",
        "c1 = datetime.strptime(lc1, '%Y-%m-%d')\n",
        "c2 = datetime.strptime(lc2, '%Y-%m-%d')\n",
        "d1 = datetime.strptime(ld1, '%Y-%m-%d')\n",
        "d2 = datetime.strptime(ld2, '%Y-%m-%d')"
      ],
      "execution_count": 61,
      "outputs": []
    },
    {
      "cell_type": "code",
      "metadata": {
        "id": "wwgZdLgmUMOa"
      },
      "source": [
        "indialockdown1 = india[(india.date>=a1) & (india.date<=a2)]\n",
        "indialockdown2 = india[(india.date>=b1) & (india.date<=b2)]\n",
        "indialockdown3 = india[(india.date>=c1) & (india.date<=c2)]\n",
        "indialockdown4 = india[(india.date>=d1) & (india.date<=d2)]"
      ],
      "execution_count": 62,
      "outputs": []
    },
    {
      "cell_type": "code",
      "metadata": {
        "colab": {
          "base_uri": "https://localhost:8080/"
        },
        "id": "GPRTaQHGdUTh",
        "outputId": "f2857335-5166-4a57-d31b-78cb6efcc156"
      },
      "source": [
        "from textblob import TextBlob\r\n",
        "\r\n",
        "def get_sentiment(text):\r\n",
        "    blob = TextBlob(text)\r\n",
        "    return [blob.sentiment.polarity, blob.sentiment.subjectivity]\r\n",
        "\r\n",
        "\r\n",
        "indialockdown1.reset_index(inplace = True)\r\n",
        "polarity,subjectivity = [], []\r\n",
        "for i in range(len(indialockdown1)):\r\n",
        "    pol , sub = get_sentiment(indialockdown1['text'][i])\r\n",
        "    polarity.append(pol)\r\n",
        "    subjectivity.append(sub)\r\n",
        "    \r\n",
        "indialockdown1['polarity'] = polarity\r\n",
        "indialockdown1['subjectivity'] = subjectivity\r\n",
        "\r\n",
        "\r\n",
        "indialockdown2.reset_index(inplace = True)\r\n",
        "polarity,subjectivity = [], []\r\n",
        "for i in range(len(indialockdown2)):\r\n",
        "    pol , sub = get_sentiment(indialockdown2['text'][i])\r\n",
        "    polarity.append(pol)\r\n",
        "    subjectivity.append(sub)\r\n",
        "\r\n",
        "indialockdown2['polarity'] = polarity\r\n",
        "indialockdown2['subjectivity'] = subjectivity\r\n",
        "\r\n",
        "indialockdown3.reset_index(inplace = True)\r\n",
        "polarity,subjectivity = [], []\r\n",
        "for i in range(len(indialockdown3)):\r\n",
        "    pol , sub = get_sentiment(indialockdown3['text'][i])\r\n",
        "    polarity.append(pol)\r\n",
        "    subjectivity.append(sub)\r\n",
        "\r\n",
        "\r\n",
        "indialockdown3['polarity'] = polarity\r\n",
        "indialockdown3['subjectivity'] = subjectivity\r\n",
        "\r\n",
        "indialockdown4.reset_index(inplace = True)\r\n",
        "polarity,subjectivity = [], []\r\n",
        "for i in range(len(indialockdown4)):\r\n",
        "    pol , sub = get_sentiment(indialockdown4['text'][i])\r\n",
        "    polarity.append(pol)\r\n",
        "    subjectivity.append(sub)\r\n",
        "\r\n",
        "\r\n",
        "indialockdown4['polarity'] = polarity\r\n",
        "indialockdown4['subjectivity'] = subjectivity\r\n"
      ],
      "execution_count": 63,
      "outputs": [
        {
          "output_type": "stream",
          "text": [
            "/usr/local/lib/python3.7/dist-packages/ipykernel_launcher.py:15: SettingWithCopyWarning: \n",
            "A value is trying to be set on a copy of a slice from a DataFrame.\n",
            "Try using .loc[row_indexer,col_indexer] = value instead\n",
            "\n",
            "See the caveats in the documentation: https://pandas.pydata.org/pandas-docs/stable/user_guide/indexing.html#returning-a-view-versus-a-copy\n",
            "  from ipykernel import kernelapp as app\n",
            "/usr/local/lib/python3.7/dist-packages/ipykernel_launcher.py:16: SettingWithCopyWarning: \n",
            "A value is trying to be set on a copy of a slice from a DataFrame.\n",
            "Try using .loc[row_indexer,col_indexer] = value instead\n",
            "\n",
            "See the caveats in the documentation: https://pandas.pydata.org/pandas-docs/stable/user_guide/indexing.html#returning-a-view-versus-a-copy\n",
            "  app.launch_new_instance()\n",
            "/usr/local/lib/python3.7/dist-packages/ipykernel_launcher.py:26: SettingWithCopyWarning: \n",
            "A value is trying to be set on a copy of a slice from a DataFrame.\n",
            "Try using .loc[row_indexer,col_indexer] = value instead\n",
            "\n",
            "See the caveats in the documentation: https://pandas.pydata.org/pandas-docs/stable/user_guide/indexing.html#returning-a-view-versus-a-copy\n",
            "/usr/local/lib/python3.7/dist-packages/ipykernel_launcher.py:27: SettingWithCopyWarning: \n",
            "A value is trying to be set on a copy of a slice from a DataFrame.\n",
            "Try using .loc[row_indexer,col_indexer] = value instead\n",
            "\n",
            "See the caveats in the documentation: https://pandas.pydata.org/pandas-docs/stable/user_guide/indexing.html#returning-a-view-versus-a-copy\n"
          ],
          "name": "stderr"
        }
      ]
    },
    {
      "cell_type": "code",
      "metadata": {
        "colab": {
          "base_uri": "https://localhost:8080/",
          "height": 197
        },
        "id": "C-nxGzRvdUPw",
        "outputId": "60d826bf-8224-4caa-f881-ba145f0be786"
      },
      "source": [
        "indialockdown1.head()"
      ],
      "execution_count": 64,
      "outputs": [
        {
          "output_type": "execute_result",
          "data": {
            "text/html": [
              "<div>\n",
              "<style scoped>\n",
              "    .dataframe tbody tr th:only-of-type {\n",
              "        vertical-align: middle;\n",
              "    }\n",
              "\n",
              "    .dataframe tbody tr th {\n",
              "        vertical-align: top;\n",
              "    }\n",
              "\n",
              "    .dataframe thead th {\n",
              "        text-align: right;\n",
              "    }\n",
              "</style>\n",
              "<table border=\"1\" class=\"dataframe\">\n",
              "  <thead>\n",
              "    <tr style=\"text-align: right;\">\n",
              "      <th></th>\n",
              "      <th>index</th>\n",
              "      <th>text</th>\n",
              "      <th>country_code</th>\n",
              "      <th>date</th>\n",
              "      <th>hashtag</th>\n",
              "      <th>topics</th>\n",
              "      <th>polarity</th>\n",
              "      <th>subjectivity</th>\n",
              "    </tr>\n",
              "  </thead>\n",
              "  <tbody>\n",
              "    <tr>\n",
              "      <th>0</th>\n",
              "      <td>43</td>\n",
              "      <td>`` covid19 socialdistancing indian way '' http...</td>\n",
              "      <td>IN</td>\n",
              "      <td>2020-03-29 00:00:00</td>\n",
              "      <td>['#Covid19', '#SocialDistancing']</td>\n",
              "      <td></td>\n",
              "      <td>0.000000</td>\n",
              "      <td>0.000000</td>\n",
              "    </tr>\n",
              "    <tr>\n",
              "      <th>1</th>\n",
              "      <td>54</td>\n",
              "      <td>possible case human animal transmission way ar...</td>\n",
              "      <td>IN</td>\n",
              "      <td>2020-03-29 00:00:00</td>\n",
              "      <td>['#COVID19']</td>\n",
              "      <td>india,continue,god,help</td>\n",
              "      <td>-0.266667</td>\n",
              "      <td>0.633333</td>\n",
              "    </tr>\n",
              "    <tr>\n",
              "      <th>2</th>\n",
              "      <td>83</td>\n",
              "      <td>coronavirus us eclipses 120,000 confirmed case...</td>\n",
              "      <td>IN</td>\n",
              "      <td>2020-03-29 00:00:00</td>\n",
              "      <td>['#Coronavirus', '#US', '#Coronavirus']</td>\n",
              "      <td>coronavirus,confirmed,cases,coronavirus,deaths...</td>\n",
              "      <td>0.400000</td>\n",
              "      <td>1.000000</td>\n",
              "    </tr>\n",
              "    <tr>\n",
              "      <th>3</th>\n",
              "      <td>102</td>\n",
              "      <td>the bitter truth 😔 covid_19 covid19india lockd...</td>\n",
              "      <td>IN</td>\n",
              "      <td>2020-03-29 00:00:00</td>\n",
              "      <td>['#covid_19', '#covid19india', '#lockdown']</td>\n",
              "      <td>covid_19,lockdown,india</td>\n",
              "      <td>-0.100000</td>\n",
              "      <td>0.500000</td>\n",
              "    </tr>\n",
              "    <tr>\n",
              "      <th>4</th>\n",
              "      <td>158</td>\n",
              "      <td>coronavirusoutbreak all churches shd realize '...</td>\n",
              "      <td>IN</td>\n",
              "      <td>2020-03-29 00:00:00</td>\n",
              "      <td>['#CoronavirusOutbreak']</td>\n",
              "      <td>important,spread,isolation</td>\n",
              "      <td>0.400000</td>\n",
              "      <td>1.000000</td>\n",
              "    </tr>\n",
              "  </tbody>\n",
              "</table>\n",
              "</div>"
            ],
            "text/plain": [
              "   index  ... subjectivity\n",
              "0     43  ...     0.000000\n",
              "1     54  ...     0.633333\n",
              "2     83  ...     1.000000\n",
              "3    102  ...     0.500000\n",
              "4    158  ...     1.000000\n",
              "\n",
              "[5 rows x 8 columns]"
            ]
          },
          "metadata": {
            "tags": []
          },
          "execution_count": 64
        }
      ]
    },
    {
      "cell_type": "code",
      "metadata": {
        "id": "9yb5KnYIdUMN"
      },
      "source": [
        "poscount1 = 0\r\n",
        "negcount1 = 0\r\n",
        "neutcount1 = 0\r\n",
        "poscount2 = 0\r\n",
        "negcount2 = 0\r\n",
        "neutcount2 = 0\r\n",
        "poscount3 = 0\r\n",
        "negcount3 = 0\r\n",
        "neutcount3 = 0\r\n",
        "poscount4 = 0\r\n",
        "negcount4 = 0\r\n",
        "neutcount4 = 0\r\n",
        "\r\n",
        "\r\n",
        "for i in indialockdown1.index:\r\n",
        "  if (indialockdown1.at[i,\"polarity\"]>0):\r\n",
        "    poscount1 = poscount1 + 1\r\n",
        "  elif (indialockdown1.at[i,\"polarity\"]==0):\r\n",
        "    neutcount1 = neutcount1 + 1\r\n",
        "  else:\r\n",
        "    negcount1 = negcount1 + 1\r\n",
        "\r\n",
        "\r\n",
        "for i in indialockdown2.index:\r\n",
        "  if (indialockdown2.at[i,\"polarity\"]>0):\r\n",
        "    poscount2 = poscount2 + 1\r\n",
        "  elif (indialockdown2.at[i,\"polarity\"]==0):\r\n",
        "    neutcount2 = neutcount2 + 1\r\n",
        "  else:\r\n",
        "    negcount2 = negcount2 + 1\r\n",
        "\r\n",
        "for i in indialockdown3.index:\r\n",
        "  if (indialockdown3.at[i,\"polarity\"]>0):\r\n",
        "    poscount3 = poscount3 + 1\r\n",
        "  elif (indialockdown3.at[i,\"polarity\"]==0):\r\n",
        "    neutcount3 = neutcount3 + 1\r\n",
        "  else:\r\n",
        "    negcount3 = negcount3 + 1\r\n",
        "\r\n",
        "for i in indialockdown4.index:\r\n",
        "  if(indialockdown4.at[i,\"polarity\"]>0):\r\n",
        "    poscount4 = poscount4 + 1\r\n",
        "  elif (indialockdown4.at[i,\"polarity\"]==0):\r\n",
        "    neutcount4 = neutcount4 + 1\r\n",
        "  else:\r\n",
        "    negcount4 = negcount4 + 1"
      ],
      "execution_count": 65,
      "outputs": []
    },
    {
      "cell_type": "code",
      "metadata": {
        "id": "ghfYptVhdUH0"
      },
      "source": [
        "draw = pd.DataFrame(columns=[\"Lockdown\",\"Positive\",\"Negative\",\"Neutral\"])\r\n",
        "draw = draw.append({'Lockdown': \"Lockdown 1\", 'Positive': poscount1, 'Negative': negcount1, 'Neutral': neutcount1}, ignore_index=True)\r\n",
        "draw = draw.append({'Lockdown': \"Lockdown 2\",'Positive': poscount2, 'Negative': negcount2, 'Neutral': neutcount2}, ignore_index=True)\r\n",
        "draw = draw.append({'Lockdown': \"Lockdown 3\",'Positive': poscount3, 'Negative': negcount3, 'Neutral': neutcount3}, ignore_index=True)\r\n",
        "draw = draw.append({'Lockdown': \"Lockdown 4\",'Positive': poscount4, 'Negative': negcount4, 'Neutral': neutcount4}, ignore_index=True)"
      ],
      "execution_count": 66,
      "outputs": []
    },
    {
      "cell_type": "code",
      "metadata": {
        "colab": {
          "base_uri": "https://localhost:8080/",
          "height": 167
        },
        "id": "KFaE-ZQRfMV-",
        "outputId": "602422cd-0bf6-47fa-ed48-bc031a5680c2"
      },
      "source": [
        "draw"
      ],
      "execution_count": 67,
      "outputs": [
        {
          "output_type": "execute_result",
          "data": {
            "text/html": [
              "<div>\n",
              "<style scoped>\n",
              "    .dataframe tbody tr th:only-of-type {\n",
              "        vertical-align: middle;\n",
              "    }\n",
              "\n",
              "    .dataframe tbody tr th {\n",
              "        vertical-align: top;\n",
              "    }\n",
              "\n",
              "    .dataframe thead th {\n",
              "        text-align: right;\n",
              "    }\n",
              "</style>\n",
              "<table border=\"1\" class=\"dataframe\">\n",
              "  <thead>\n",
              "    <tr style=\"text-align: right;\">\n",
              "      <th></th>\n",
              "      <th>Lockdown</th>\n",
              "      <th>Positive</th>\n",
              "      <th>Negative</th>\n",
              "      <th>Neutral</th>\n",
              "    </tr>\n",
              "  </thead>\n",
              "  <tbody>\n",
              "    <tr>\n",
              "      <th>0</th>\n",
              "      <td>Lockdown 1</td>\n",
              "      <td>10734</td>\n",
              "      <td>3481</td>\n",
              "      <td>8526</td>\n",
              "    </tr>\n",
              "    <tr>\n",
              "      <th>1</th>\n",
              "      <td>Lockdown 2</td>\n",
              "      <td>575</td>\n",
              "      <td>172</td>\n",
              "      <td>461</td>\n",
              "    </tr>\n",
              "    <tr>\n",
              "      <th>2</th>\n",
              "      <td>Lockdown 3</td>\n",
              "      <td>0</td>\n",
              "      <td>0</td>\n",
              "      <td>0</td>\n",
              "    </tr>\n",
              "    <tr>\n",
              "      <th>3</th>\n",
              "      <td>Lockdown 4</td>\n",
              "      <td>0</td>\n",
              "      <td>0</td>\n",
              "      <td>0</td>\n",
              "    </tr>\n",
              "  </tbody>\n",
              "</table>\n",
              "</div>"
            ],
            "text/plain": [
              "     Lockdown Positive Negative Neutral\n",
              "0  Lockdown 1    10734     3481    8526\n",
              "1  Lockdown 2      575      172     461\n",
              "2  Lockdown 3        0        0       0\n",
              "3  Lockdown 4        0        0       0"
            ]
          },
          "metadata": {
            "tags": []
          },
          "execution_count": 67
        }
      ]
    },
    {
      "cell_type": "code",
      "metadata": {
        "id": "MTck36kvfMTH"
      },
      "source": [
        "draw = draw.head(2)"
      ],
      "execution_count": 68,
      "outputs": []
    },
    {
      "cell_type": "code",
      "metadata": {
        "colab": {
          "base_uri": "https://localhost:8080/",
          "height": 107
        },
        "id": "SV2qWuT0fMP0",
        "outputId": "b05ae5af-ea06-4511-fe06-1d5d7783d7eb"
      },
      "source": [
        "draw"
      ],
      "execution_count": 69,
      "outputs": [
        {
          "output_type": "execute_result",
          "data": {
            "text/html": [
              "<div>\n",
              "<style scoped>\n",
              "    .dataframe tbody tr th:only-of-type {\n",
              "        vertical-align: middle;\n",
              "    }\n",
              "\n",
              "    .dataframe tbody tr th {\n",
              "        vertical-align: top;\n",
              "    }\n",
              "\n",
              "    .dataframe thead th {\n",
              "        text-align: right;\n",
              "    }\n",
              "</style>\n",
              "<table border=\"1\" class=\"dataframe\">\n",
              "  <thead>\n",
              "    <tr style=\"text-align: right;\">\n",
              "      <th></th>\n",
              "      <th>Lockdown</th>\n",
              "      <th>Positive</th>\n",
              "      <th>Negative</th>\n",
              "      <th>Neutral</th>\n",
              "    </tr>\n",
              "  </thead>\n",
              "  <tbody>\n",
              "    <tr>\n",
              "      <th>0</th>\n",
              "      <td>Lockdown 1</td>\n",
              "      <td>10734</td>\n",
              "      <td>3481</td>\n",
              "      <td>8526</td>\n",
              "    </tr>\n",
              "    <tr>\n",
              "      <th>1</th>\n",
              "      <td>Lockdown 2</td>\n",
              "      <td>575</td>\n",
              "      <td>172</td>\n",
              "      <td>461</td>\n",
              "    </tr>\n",
              "  </tbody>\n",
              "</table>\n",
              "</div>"
            ],
            "text/plain": [
              "     Lockdown Positive Negative Neutral\n",
              "0  Lockdown 1    10734     3481    8526\n",
              "1  Lockdown 2      575      172     461"
            ]
          },
          "metadata": {
            "tags": []
          },
          "execution_count": 69
        }
      ]
    },
    {
      "cell_type": "code",
      "metadata": {
        "colab": {
          "base_uri": "https://localhost:8080/"
        },
        "id": "EAG0YYM3jIrR",
        "outputId": "08f52bde-8144-4b4e-de25-300e894814a4"
      },
      "source": [
        "indialockdown1['sentiment'] = \"\"\r\n",
        "for i in indialockdown1.index:\r\n",
        "  if (indialockdown1.at[i,\"polarity\"]>0):\r\n",
        "    indialockdown1.at[i,'sentiment']= 'Positive'\r\n",
        "  elif (indialockdown1.at[i,\"polarity\"]==0):\r\n",
        "    indialockdown1.at[i,'sentiment']= 'Neutral'\r\n",
        "  else:\r\n",
        "    indialockdown1.at[i,'sentiment']= 'Negative'\r\n",
        "\r\n"
      ],
      "execution_count": 70,
      "outputs": [
        {
          "output_type": "stream",
          "text": [
            "/usr/local/lib/python3.7/dist-packages/ipykernel_launcher.py:1: SettingWithCopyWarning: \n",
            "A value is trying to be set on a copy of a slice from a DataFrame.\n",
            "Try using .loc[row_indexer,col_indexer] = value instead\n",
            "\n",
            "See the caveats in the documentation: https://pandas.pydata.org/pandas-docs/stable/user_guide/indexing.html#returning-a-view-versus-a-copy\n",
            "  \"\"\"Entry point for launching an IPython kernel.\n"
          ],
          "name": "stderr"
        }
      ]
    },
    {
      "cell_type": "code",
      "metadata": {
        "colab": {
          "base_uri": "https://localhost:8080/"
        },
        "id": "OYLqSNaqocl8",
        "outputId": "7b04d43b-ac47-4ca0-bde1-e1278039dc61"
      },
      "source": [
        "indialockdown2['sentiment'] = \"\"\r\n",
        "for i in indialockdown2.index:\r\n",
        "  if (indialockdown2.at[i,\"polarity\"]>0):\r\n",
        "    indialockdown2.at[i,'sentiment']= 'Positive'\r\n",
        "  elif (indialockdown2.at[i,\"polarity\"]==0):\r\n",
        "    indialockdown2.at[i,'sentiment']= 'Neutral'\r\n",
        "  else:\r\n",
        "    indialockdown2.at[i,'sentiment']= 'Negative'"
      ],
      "execution_count": 71,
      "outputs": [
        {
          "output_type": "stream",
          "text": [
            "/usr/local/lib/python3.7/dist-packages/ipykernel_launcher.py:1: SettingWithCopyWarning: \n",
            "A value is trying to be set on a copy of a slice from a DataFrame.\n",
            "Try using .loc[row_indexer,col_indexer] = value instead\n",
            "\n",
            "See the caveats in the documentation: https://pandas.pydata.org/pandas-docs/stable/user_guide/indexing.html#returning-a-view-versus-a-copy\n",
            "  \"\"\"Entry point for launching an IPython kernel.\n"
          ],
          "name": "stderr"
        }
      ]
    },
    {
      "cell_type": "code",
      "metadata": {
        "colab": {
          "base_uri": "https://localhost:8080/",
          "height": 197
        },
        "id": "SRvgaIqIjkZe",
        "outputId": "d68fa781-666c-4139-befe-fa8c1ed09caf"
      },
      "source": [
        "indialockdown1.head()"
      ],
      "execution_count": 72,
      "outputs": [
        {
          "output_type": "execute_result",
          "data": {
            "text/html": [
              "<div>\n",
              "<style scoped>\n",
              "    .dataframe tbody tr th:only-of-type {\n",
              "        vertical-align: middle;\n",
              "    }\n",
              "\n",
              "    .dataframe tbody tr th {\n",
              "        vertical-align: top;\n",
              "    }\n",
              "\n",
              "    .dataframe thead th {\n",
              "        text-align: right;\n",
              "    }\n",
              "</style>\n",
              "<table border=\"1\" class=\"dataframe\">\n",
              "  <thead>\n",
              "    <tr style=\"text-align: right;\">\n",
              "      <th></th>\n",
              "      <th>index</th>\n",
              "      <th>text</th>\n",
              "      <th>country_code</th>\n",
              "      <th>date</th>\n",
              "      <th>hashtag</th>\n",
              "      <th>topics</th>\n",
              "      <th>polarity</th>\n",
              "      <th>subjectivity</th>\n",
              "      <th>sentiment</th>\n",
              "    </tr>\n",
              "  </thead>\n",
              "  <tbody>\n",
              "    <tr>\n",
              "      <th>0</th>\n",
              "      <td>43</td>\n",
              "      <td>`` covid19 socialdistancing indian way '' http...</td>\n",
              "      <td>IN</td>\n",
              "      <td>2020-03-29 00:00:00</td>\n",
              "      <td>['#Covid19', '#SocialDistancing']</td>\n",
              "      <td></td>\n",
              "      <td>0.000000</td>\n",
              "      <td>0.000000</td>\n",
              "      <td>Neutral</td>\n",
              "    </tr>\n",
              "    <tr>\n",
              "      <th>1</th>\n",
              "      <td>54</td>\n",
              "      <td>possible case human animal transmission way ar...</td>\n",
              "      <td>IN</td>\n",
              "      <td>2020-03-29 00:00:00</td>\n",
              "      <td>['#COVID19']</td>\n",
              "      <td>india,continue,god,help</td>\n",
              "      <td>-0.266667</td>\n",
              "      <td>0.633333</td>\n",
              "      <td>Negative</td>\n",
              "    </tr>\n",
              "    <tr>\n",
              "      <th>2</th>\n",
              "      <td>83</td>\n",
              "      <td>coronavirus us eclipses 120,000 confirmed case...</td>\n",
              "      <td>IN</td>\n",
              "      <td>2020-03-29 00:00:00</td>\n",
              "      <td>['#Coronavirus', '#US', '#Coronavirus']</td>\n",
              "      <td>coronavirus,confirmed,cases,coronavirus,deaths...</td>\n",
              "      <td>0.400000</td>\n",
              "      <td>1.000000</td>\n",
              "      <td>Positive</td>\n",
              "    </tr>\n",
              "    <tr>\n",
              "      <th>3</th>\n",
              "      <td>102</td>\n",
              "      <td>the bitter truth 😔 covid_19 covid19india lockd...</td>\n",
              "      <td>IN</td>\n",
              "      <td>2020-03-29 00:00:00</td>\n",
              "      <td>['#covid_19', '#covid19india', '#lockdown']</td>\n",
              "      <td>covid_19,lockdown,india</td>\n",
              "      <td>-0.100000</td>\n",
              "      <td>0.500000</td>\n",
              "      <td>Negative</td>\n",
              "    </tr>\n",
              "    <tr>\n",
              "      <th>4</th>\n",
              "      <td>158</td>\n",
              "      <td>coronavirusoutbreak all churches shd realize '...</td>\n",
              "      <td>IN</td>\n",
              "      <td>2020-03-29 00:00:00</td>\n",
              "      <td>['#CoronavirusOutbreak']</td>\n",
              "      <td>important,spread,isolation</td>\n",
              "      <td>0.400000</td>\n",
              "      <td>1.000000</td>\n",
              "      <td>Positive</td>\n",
              "    </tr>\n",
              "  </tbody>\n",
              "</table>\n",
              "</div>"
            ],
            "text/plain": [
              "   index  ... sentiment\n",
              "0     43  ...   Neutral\n",
              "1     54  ...  Negative\n",
              "2     83  ...  Positive\n",
              "3    102  ...  Negative\n",
              "4    158  ...  Positive\n",
              "\n",
              "[5 rows x 9 columns]"
            ]
          },
          "metadata": {
            "tags": []
          },
          "execution_count": 72
        }
      ]
    },
    {
      "cell_type": "code",
      "metadata": {
        "id": "KX8BHVYYjoDJ"
      },
      "source": [
        "import numpy as np # linear algebra\r\n",
        "import pandas as pd # data processing, CSV file I/O (e.g. pd.read_csv)\r\n",
        "\r\n",
        "from sklearn.feature_extraction.text import CountVectorizer\r\n",
        "from keras.preprocessing.text import Tokenizer\r\n",
        "from keras.preprocessing.sequence import pad_sequences\r\n",
        "from keras.models import Sequential\r\n",
        "from keras.layers import Dense, Embedding, LSTM, SpatialDropout1D\r\n",
        "from sklearn.model_selection import train_test_split\r\n",
        "from keras.utils.np_utils import to_categorical\r\n",
        "import re\r\n"
      ],
      "execution_count": 73,
      "outputs": []
    },
    {
      "cell_type": "code",
      "metadata": {
        "id": "r7pDfCBEsVf5"
      },
      "source": [
        "df = indialockdown1[['text','sentiment']]\r\n",
        "df.columns = ['statement','sentiment']"
      ],
      "execution_count": 74,
      "outputs": []
    },
    {
      "cell_type": "code",
      "metadata": {
        "id": "yf0QnmkJsVcx"
      },
      "source": [
        "train,eva = train_test_split(df,test_size = 0.2)"
      ],
      "execution_count": 75,
      "outputs": []
    },
    {
      "cell_type": "code",
      "metadata": {
        "id": "QYvrO51RsVZM",
        "colab": {
          "base_uri": "https://localhost:8080/",
          "height": 1000
        },
        "outputId": "07a2146a-022f-47a1-e766-05e2dcd522d6"
      },
      "source": [
        "!pip install simpletransformers\r\n"
      ],
      "execution_count": 47,
      "outputs": [
        {
          "output_type": "stream",
          "text": [
            "Collecting simpletransformers\n",
            "\u001b[?25l  Downloading https://files.pythonhosted.org/packages/6d/ee/99e2809fb311841376fe01f3524a912b1907d7b45d445f16ad27b4422c9f/simpletransformers-0.60.9-py3-none-any.whl (206kB)\n",
            "\r\u001b[K     |█▋                              | 10kB 15.2MB/s eta 0:00:01\r\u001b[K     |███▏                            | 20kB 11.3MB/s eta 0:00:01\r\u001b[K     |████▊                           | 30kB 7.8MB/s eta 0:00:01\r\u001b[K     |██████▍                         | 40kB 5.1MB/s eta 0:00:01\r\u001b[K     |████████                        | 51kB 4.4MB/s eta 0:00:01\r\u001b[K     |█████████▌                      | 61kB 5.0MB/s eta 0:00:01\r\u001b[K     |███████████                     | 71kB 5.0MB/s eta 0:00:01\r\u001b[K     |████████████▊                   | 81kB 5.1MB/s eta 0:00:01\r\u001b[K     |██████████████▎                 | 92kB 4.4MB/s eta 0:00:01\r\u001b[K     |███████████████▉                | 102kB 4.2MB/s eta 0:00:01\r\u001b[K     |█████████████████▍              | 112kB 4.2MB/s eta 0:00:01\r\u001b[K     |███████████████████             | 122kB 4.2MB/s eta 0:00:01\r\u001b[K     |████████████████████▋           | 133kB 4.2MB/s eta 0:00:01\r\u001b[K     |██████████████████████▏         | 143kB 4.2MB/s eta 0:00:01\r\u001b[K     |███████████████████████▊        | 153kB 4.2MB/s eta 0:00:01\r\u001b[K     |█████████████████████████▍      | 163kB 4.2MB/s eta 0:00:01\r\u001b[K     |███████████████████████████     | 174kB 4.2MB/s eta 0:00:01\r\u001b[K     |████████████████████████████▌   | 184kB 4.2MB/s eta 0:00:01\r\u001b[K     |██████████████████████████████▏ | 194kB 4.2MB/s eta 0:00:01\r\u001b[K     |███████████████████████████████▊| 204kB 4.2MB/s eta 0:00:01\r\u001b[K     |████████████████████████████████| 215kB 4.2MB/s \n",
            "\u001b[?25hRequirement already satisfied: requests in /usr/local/lib/python3.7/dist-packages (from simpletransformers) (2.23.0)\n",
            "Collecting tensorboardx\n",
            "\u001b[?25l  Downloading https://files.pythonhosted.org/packages/af/0c/4f41bcd45db376e6fe5c619c01100e9b7531c55791b7244815bac6eac32c/tensorboardX-2.1-py2.py3-none-any.whl (308kB)\n",
            "\u001b[K     |████████████████████████████████| 317kB 35.5MB/s \n",
            "\u001b[?25hRequirement already satisfied: pandas in /usr/local/lib/python3.7/dist-packages (from simpletransformers) (1.1.5)\n",
            "Collecting transformers>=4.2.0\n",
            "\u001b[?25l  Downloading https://files.pythonhosted.org/packages/f9/54/5ca07ec9569d2f232f3166de5457b63943882f7950ddfcc887732fc7fb23/transformers-4.3.3-py3-none-any.whl (1.9MB)\n",
            "\u001b[K     |████████████████████████████████| 1.9MB 36.8MB/s \n",
            "\u001b[?25hCollecting streamlit\n",
            "\u001b[?25l  Downloading https://files.pythonhosted.org/packages/a4/6c/c03f12bbbd8367152897c3b3269f87b717b3e7b834b44d15aae345727375/streamlit-0.77.0-py2.py3-none-any.whl (7.5MB)\n",
            "\u001b[K     |████████████████████████████████| 7.5MB 47.3MB/s \n",
            "\u001b[?25hCollecting tokenizers\n",
            "\u001b[?25l  Downloading https://files.pythonhosted.org/packages/71/23/2ddc317b2121117bf34dd00f5b0de194158f2a44ee2bf5e47c7166878a97/tokenizers-0.10.1-cp37-cp37m-manylinux2010_x86_64.whl (3.2MB)\n",
            "\u001b[K     |████████████████████████████████| 3.2MB 45.1MB/s \n",
            "\u001b[?25hRequirement already satisfied: numpy in /usr/local/lib/python3.7/dist-packages (from simpletransformers) (1.19.5)\n",
            "Requirement already satisfied: scikit-learn in /usr/local/lib/python3.7/dist-packages (from simpletransformers) (0.22.2.post1)\n",
            "Collecting tqdm>=4.47.0\n",
            "\u001b[?25l  Downloading https://files.pythonhosted.org/packages/4e/8c/f1035bd24b0e352ddba7be320abc1603fc4c9976fcda6971ed287be59164/tqdm-4.58.0-py2.py3-none-any.whl (73kB)\n",
            "\u001b[K     |████████████████████████████████| 81kB 6.8MB/s \n",
            "\u001b[?25hRequirement already satisfied: regex in /usr/local/lib/python3.7/dist-packages (from simpletransformers) (2019.12.20)\n",
            "Collecting wandb\n",
            "\u001b[?25l  Downloading https://files.pythonhosted.org/packages/00/17/b1e27f77c3d47f6915a774ecf632e3f5a7d49d9fa3991547729e7f19bedd/wandb-0.10.21-py2.py3-none-any.whl (2.0MB)\n",
            "\u001b[K     |████████████████████████████████| 2.0MB 44.8MB/s \n",
            "\u001b[?25hCollecting sentencepiece\n",
            "\u001b[?25l  Downloading https://files.pythonhosted.org/packages/f5/99/e0808cb947ba10f575839c43e8fafc9cc44e4a7a2c8f79c60db48220a577/sentencepiece-0.1.95-cp37-cp37m-manylinux2014_x86_64.whl (1.2MB)\n",
            "\u001b[K     |████████████████████████████████| 1.2MB 32.0MB/s \n",
            "\u001b[?25hRequirement already satisfied: scipy in /usr/local/lib/python3.7/dist-packages (from simpletransformers) (1.4.1)\n",
            "Collecting seqeval\n",
            "\u001b[?25l  Downloading https://files.pythonhosted.org/packages/9d/2d/233c79d5b4e5ab1dbf111242299153f3caddddbb691219f363ad55ce783d/seqeval-1.2.2.tar.gz (43kB)\n",
            "\u001b[K     |████████████████████████████████| 51kB 4.9MB/s \n",
            "\u001b[?25hRequirement already satisfied: idna<3,>=2.5 in /usr/local/lib/python3.7/dist-packages (from requests->simpletransformers) (2.10)\n",
            "Requirement already satisfied: urllib3!=1.25.0,!=1.25.1,<1.26,>=1.21.1 in /usr/local/lib/python3.7/dist-packages (from requests->simpletransformers) (1.24.3)\n",
            "Requirement already satisfied: chardet<4,>=3.0.2 in /usr/local/lib/python3.7/dist-packages (from requests->simpletransformers) (3.0.4)\n",
            "Requirement already satisfied: certifi>=2017.4.17 in /usr/local/lib/python3.7/dist-packages (from requests->simpletransformers) (2020.12.5)\n",
            "Requirement already satisfied: protobuf>=3.8.0 in /usr/local/lib/python3.7/dist-packages (from tensorboardx->simpletransformers) (3.12.4)\n",
            "Requirement already satisfied: six in /usr/local/lib/python3.7/dist-packages (from tensorboardx->simpletransformers) (1.15.0)\n",
            "Requirement already satisfied: python-dateutil>=2.7.3 in /usr/local/lib/python3.7/dist-packages (from pandas->simpletransformers) (2.8.1)\n",
            "Requirement already satisfied: pytz>=2017.2 in /usr/local/lib/python3.7/dist-packages (from pandas->simpletransformers) (2018.9)\n",
            "Collecting sacremoses\n",
            "\u001b[?25l  Downloading https://files.pythonhosted.org/packages/7d/34/09d19aff26edcc8eb2a01bed8e98f13a1537005d31e95233fd48216eed10/sacremoses-0.0.43.tar.gz (883kB)\n",
            "\u001b[K     |████████████████████████████████| 890kB 28.0MB/s \n",
            "\u001b[?25hRequirement already satisfied: importlib-metadata; python_version < \"3.8\" in /usr/local/lib/python3.7/dist-packages (from transformers>=4.2.0->simpletransformers) (3.7.0)\n",
            "Requirement already satisfied: packaging in /usr/local/lib/python3.7/dist-packages (from transformers>=4.2.0->simpletransformers) (20.9)\n",
            "Requirement already satisfied: filelock in /usr/local/lib/python3.7/dist-packages (from transformers>=4.2.0->simpletransformers) (3.0.12)\n",
            "Requirement already satisfied: altair>=3.2.0 in /usr/local/lib/python3.7/dist-packages (from streamlit->simpletransformers) (4.1.0)\n",
            "Requirement already satisfied: astor in /usr/local/lib/python3.7/dist-packages (from streamlit->simpletransformers) (0.8.1)\n",
            "Requirement already satisfied: click>=7.0 in /usr/local/lib/python3.7/dist-packages (from streamlit->simpletransformers) (7.1.2)\n",
            "Requirement already satisfied: cachetools>=4.0 in /usr/local/lib/python3.7/dist-packages (from streamlit->simpletransformers) (4.2.1)\n",
            "Collecting blinker\n",
            "\u001b[?25l  Downloading https://files.pythonhosted.org/packages/1b/51/e2a9f3b757eb802f61dc1f2b09c8c99f6eb01cf06416c0671253536517b6/blinker-1.4.tar.gz (111kB)\n",
            "\u001b[K     |████████████████████████████████| 112kB 49.7MB/s \n",
            "\u001b[?25hRequirement already satisfied: pillow>=6.2.0 in /usr/local/lib/python3.7/dist-packages (from streamlit->simpletransformers) (7.0.0)\n",
            "Requirement already satisfied: tzlocal in /usr/local/lib/python3.7/dist-packages (from streamlit->simpletransformers) (1.5.1)\n",
            "Requirement already satisfied: pyarrow; python_version < \"3.9\" in /usr/local/lib/python3.7/dist-packages (from streamlit->simpletransformers) (3.0.0)\n",
            "Collecting watchdog; platform_system != \"Darwin\"\n",
            "\u001b[?25l  Downloading https://files.pythonhosted.org/packages/c6/ba/a36ca5b4e75649a002f06531862467b3eb5c768caa23d6d88b921fe238d8/watchdog-2.0.2-py3-none-manylinux2014_x86_64.whl (74kB)\n",
            "\u001b[K     |████████████████████████████████| 81kB 7.5MB/s \n",
            "\u001b[?25hCollecting base58\n",
            "  Downloading https://files.pythonhosted.org/packages/b8/a1/d9f565e9910c09fd325dc638765e8843a19fa696275c16cc08cf3b0a3c25/base58-2.1.0-py3-none-any.whl\n",
            "Collecting gitpython\n",
            "\u001b[?25l  Downloading https://files.pythonhosted.org/packages/a6/99/98019716955ba243657daedd1de8f3a88ca1f5b75057c38e959db22fb87b/GitPython-3.1.14-py3-none-any.whl (159kB)\n",
            "\u001b[K     |████████████████████████████████| 163kB 50.5MB/s \n",
            "\u001b[?25hRequirement already satisfied: toml in /usr/local/lib/python3.7/dist-packages (from streamlit->simpletransformers) (0.10.2)\n",
            "Requirement already satisfied: tornado>=5.0 in /usr/local/lib/python3.7/dist-packages (from streamlit->simpletransformers) (5.1.1)\n",
            "Collecting validators\n",
            "  Downloading https://files.pythonhosted.org/packages/db/2f/7fed3ee94ad665ad2c1de87f858f10a7785251ff75b4fd47987888d07ef1/validators-0.18.2-py3-none-any.whl\n",
            "Collecting pydeck>=0.1.dev5\n",
            "\u001b[?25l  Downloading https://files.pythonhosted.org/packages/1c/3f/8f04ae0c22d82ec7bec7fcc03270a142f637e362bbd285f7daeeda24fbef/pydeck-0.6.1-py2.py3-none-any.whl (4.6MB)\n",
            "\u001b[K     |████████████████████████████████| 4.6MB 30.3MB/s \n",
            "\u001b[?25hRequirement already satisfied: joblib>=0.11 in /usr/local/lib/python3.7/dist-packages (from scikit-learn->simpletransformers) (1.0.1)\n",
            "Collecting sentry-sdk>=0.4.0\n",
            "\u001b[?25l  Downloading https://files.pythonhosted.org/packages/15/74/59016eecaefa52443cd69cbb50e01851fa8bf3d9526771e2fae60ac6270c/sentry_sdk-0.20.3-py2.py3-none-any.whl (131kB)\n",
            "\u001b[K     |████████████████████████████████| 133kB 31.4MB/s \n",
            "\u001b[?25hCollecting shortuuid>=0.5.0\n",
            "  Downloading https://files.pythonhosted.org/packages/25/a6/2ecc1daa6a304e7f1b216f0896b26156b78e7c38e1211e9b798b4716c53d/shortuuid-1.0.1-py3-none-any.whl\n",
            "Collecting pathtools\n",
            "  Downloading https://files.pythonhosted.org/packages/e7/7f/470d6fcdf23f9f3518f6b0b76be9df16dcc8630ad409947f8be2eb0ed13a/pathtools-0.1.2.tar.gz\n",
            "Collecting subprocess32>=3.5.3\n",
            "\u001b[?25l  Downloading https://files.pythonhosted.org/packages/32/c8/564be4d12629b912ea431f1a50eb8b3b9d00f1a0b1ceff17f266be190007/subprocess32-3.5.4.tar.gz (97kB)\n",
            "\u001b[K     |████████████████████████████████| 102kB 9.0MB/s \n",
            "\u001b[?25hCollecting configparser>=3.8.1\n",
            "  Downloading https://files.pythonhosted.org/packages/fd/01/ff260a18caaf4457eb028c96eeb405c4a230ca06c8ec9c1379f813caa52e/configparser-5.0.2-py3-none-any.whl\n",
            "Requirement already satisfied: PyYAML in /usr/local/lib/python3.7/dist-packages (from wandb->simpletransformers) (3.13)\n",
            "Requirement already satisfied: psutil>=5.0.0 in /usr/local/lib/python3.7/dist-packages (from wandb->simpletransformers) (5.4.8)\n",
            "Requirement already satisfied: promise<3,>=2.0 in /usr/local/lib/python3.7/dist-packages (from wandb->simpletransformers) (2.3)\n",
            "Collecting docker-pycreds>=0.4.0\n",
            "  Downloading https://files.pythonhosted.org/packages/f5/e8/f6bd1eee09314e7e6dee49cbe2c5e22314ccdb38db16c9fc72d2fa80d054/docker_pycreds-0.4.0-py2.py3-none-any.whl\n",
            "Requirement already satisfied: setuptools in /usr/local/lib/python3.7/dist-packages (from protobuf>=3.8.0->tensorboardx->simpletransformers) (54.0.0)\n",
            "Requirement already satisfied: typing-extensions>=3.6.4; python_version < \"3.8\" in /usr/local/lib/python3.7/dist-packages (from importlib-metadata; python_version < \"3.8\"->transformers>=4.2.0->simpletransformers) (3.7.4.3)\n",
            "Requirement already satisfied: zipp>=0.5 in /usr/local/lib/python3.7/dist-packages (from importlib-metadata; python_version < \"3.8\"->transformers>=4.2.0->simpletransformers) (3.4.0)\n",
            "Requirement already satisfied: pyparsing>=2.0.2 in /usr/local/lib/python3.7/dist-packages (from packaging->transformers>=4.2.0->simpletransformers) (2.4.7)\n",
            "Requirement already satisfied: entrypoints in /usr/local/lib/python3.7/dist-packages (from altair>=3.2.0->streamlit->simpletransformers) (0.3)\n",
            "Requirement already satisfied: jsonschema in /usr/local/lib/python3.7/dist-packages (from altair>=3.2.0->streamlit->simpletransformers) (2.6.0)\n",
            "Requirement already satisfied: jinja2 in /usr/local/lib/python3.7/dist-packages (from altair>=3.2.0->streamlit->simpletransformers) (2.11.3)\n",
            "Requirement already satisfied: toolz in /usr/local/lib/python3.7/dist-packages (from altair>=3.2.0->streamlit->simpletransformers) (0.11.1)\n",
            "Collecting gitdb<5,>=4.0.1\n",
            "\u001b[?25l  Downloading https://files.pythonhosted.org/packages/48/11/d1800bca0a3bae820b84b7d813ad1eff15a48a64caea9c823fc8c1b119e8/gitdb-4.0.5-py3-none-any.whl (63kB)\n",
            "\u001b[K     |████████████████████████████████| 71kB 6.6MB/s \n",
            "\u001b[?25hRequirement already satisfied: decorator>=3.4.0 in /usr/local/lib/python3.7/dist-packages (from validators->streamlit->simpletransformers) (4.4.2)\n",
            "Requirement already satisfied: ipywidgets>=7.0.0 in /usr/local/lib/python3.7/dist-packages (from pydeck>=0.1.dev5->streamlit->simpletransformers) (7.6.3)\n",
            "Collecting ipykernel>=5.1.2; python_version >= \"3.4\"\n",
            "\u001b[?25l  Downloading https://files.pythonhosted.org/packages/56/95/3a670c8b2c2370bd8631c313f42e60983b3113ffec4035940592252bd6d5/ipykernel-5.5.0-py3-none-any.whl (120kB)\n",
            "\u001b[K     |████████████████████████████████| 122kB 53.8MB/s \n",
            "\u001b[?25hRequirement already satisfied: traitlets>=4.3.2 in /usr/local/lib/python3.7/dist-packages (from pydeck>=0.1.dev5->streamlit->simpletransformers) (5.0.5)\n",
            "Requirement already satisfied: MarkupSafe>=0.23 in /usr/local/lib/python3.7/dist-packages (from jinja2->altair>=3.2.0->streamlit->simpletransformers) (1.1.1)\n",
            "Collecting smmap<4,>=3.0.1\n",
            "  Downloading https://files.pythonhosted.org/packages/d5/1e/6130925131f639b2acde0f7f18b73e33ce082ff2d90783c436b52040af5a/smmap-3.0.5-py2.py3-none-any.whl\n",
            "Requirement already satisfied: jupyterlab-widgets>=1.0.0; python_version >= \"3.6\" in /usr/local/lib/python3.7/dist-packages (from ipywidgets>=7.0.0->pydeck>=0.1.dev5->streamlit->simpletransformers) (1.0.0)\n",
            "Requirement already satisfied: nbformat>=4.2.0 in /usr/local/lib/python3.7/dist-packages (from ipywidgets>=7.0.0->pydeck>=0.1.dev5->streamlit->simpletransformers) (5.1.2)\n",
            "Requirement already satisfied: widgetsnbextension~=3.5.0 in /usr/local/lib/python3.7/dist-packages (from ipywidgets>=7.0.0->pydeck>=0.1.dev5->streamlit->simpletransformers) (3.5.1)\n",
            "Requirement already satisfied: ipython>=4.0.0; python_version >= \"3.3\" in /usr/local/lib/python3.7/dist-packages (from ipywidgets>=7.0.0->pydeck>=0.1.dev5->streamlit->simpletransformers) (5.5.0)\n",
            "Requirement already satisfied: jupyter-client in /usr/local/lib/python3.7/dist-packages (from ipykernel>=5.1.2; python_version >= \"3.4\"->pydeck>=0.1.dev5->streamlit->simpletransformers) (5.3.5)\n",
            "Requirement already satisfied: ipython-genutils in /usr/local/lib/python3.7/dist-packages (from traitlets>=4.3.2->pydeck>=0.1.dev5->streamlit->simpletransformers) (0.2.0)\n",
            "Requirement already satisfied: jupyter-core in /usr/local/lib/python3.7/dist-packages (from nbformat>=4.2.0->ipywidgets>=7.0.0->pydeck>=0.1.dev5->streamlit->simpletransformers) (4.7.1)\n",
            "Requirement already satisfied: notebook>=4.4.1 in /usr/local/lib/python3.7/dist-packages (from widgetsnbextension~=3.5.0->ipywidgets>=7.0.0->pydeck>=0.1.dev5->streamlit->simpletransformers) (5.3.1)\n",
            "Requirement already satisfied: pygments in /usr/local/lib/python3.7/dist-packages (from ipython>=4.0.0; python_version >= \"3.3\"->ipywidgets>=7.0.0->pydeck>=0.1.dev5->streamlit->simpletransformers) (2.6.1)\n",
            "Requirement already satisfied: simplegeneric>0.8 in /usr/local/lib/python3.7/dist-packages (from ipython>=4.0.0; python_version >= \"3.3\"->ipywidgets>=7.0.0->pydeck>=0.1.dev5->streamlit->simpletransformers) (0.8.1)\n",
            "Requirement already satisfied: pickleshare in /usr/local/lib/python3.7/dist-packages (from ipython>=4.0.0; python_version >= \"3.3\"->ipywidgets>=7.0.0->pydeck>=0.1.dev5->streamlit->simpletransformers) (0.7.5)\n",
            "Requirement already satisfied: prompt-toolkit<2.0.0,>=1.0.4 in /usr/local/lib/python3.7/dist-packages (from ipython>=4.0.0; python_version >= \"3.3\"->ipywidgets>=7.0.0->pydeck>=0.1.dev5->streamlit->simpletransformers) (1.0.18)\n",
            "Requirement already satisfied: pexpect; sys_platform != \"win32\" in /usr/local/lib/python3.7/dist-packages (from ipython>=4.0.0; python_version >= \"3.3\"->ipywidgets>=7.0.0->pydeck>=0.1.dev5->streamlit->simpletransformers) (4.8.0)\n",
            "Requirement already satisfied: pyzmq>=13 in /usr/local/lib/python3.7/dist-packages (from jupyter-client->ipykernel>=5.1.2; python_version >= \"3.4\"->pydeck>=0.1.dev5->streamlit->simpletransformers) (22.0.3)\n",
            "Requirement already satisfied: nbconvert in /usr/local/lib/python3.7/dist-packages (from notebook>=4.4.1->widgetsnbextension~=3.5.0->ipywidgets>=7.0.0->pydeck>=0.1.dev5->streamlit->simpletransformers) (5.6.1)\n",
            "Requirement already satisfied: Send2Trash in /usr/local/lib/python3.7/dist-packages (from notebook>=4.4.1->widgetsnbextension~=3.5.0->ipywidgets>=7.0.0->pydeck>=0.1.dev5->streamlit->simpletransformers) (1.5.0)\n",
            "Requirement already satisfied: terminado>=0.8.1 in /usr/local/lib/python3.7/dist-packages (from notebook>=4.4.1->widgetsnbextension~=3.5.0->ipywidgets>=7.0.0->pydeck>=0.1.dev5->streamlit->simpletransformers) (0.9.2)\n",
            "Requirement already satisfied: wcwidth in /usr/local/lib/python3.7/dist-packages (from prompt-toolkit<2.0.0,>=1.0.4->ipython>=4.0.0; python_version >= \"3.3\"->ipywidgets>=7.0.0->pydeck>=0.1.dev5->streamlit->simpletransformers) (0.2.5)\n",
            "Requirement already satisfied: ptyprocess>=0.5 in /usr/local/lib/python3.7/dist-packages (from pexpect; sys_platform != \"win32\"->ipython>=4.0.0; python_version >= \"3.3\"->ipywidgets>=7.0.0->pydeck>=0.1.dev5->streamlit->simpletransformers) (0.7.0)\n",
            "Requirement already satisfied: pandocfilters>=1.4.1 in /usr/local/lib/python3.7/dist-packages (from nbconvert->notebook>=4.4.1->widgetsnbextension~=3.5.0->ipywidgets>=7.0.0->pydeck>=0.1.dev5->streamlit->simpletransformers) (1.4.3)\n",
            "Requirement already satisfied: bleach in /usr/local/lib/python3.7/dist-packages (from nbconvert->notebook>=4.4.1->widgetsnbextension~=3.5.0->ipywidgets>=7.0.0->pydeck>=0.1.dev5->streamlit->simpletransformers) (3.3.0)\n",
            "Requirement already satisfied: defusedxml in /usr/local/lib/python3.7/dist-packages (from nbconvert->notebook>=4.4.1->widgetsnbextension~=3.5.0->ipywidgets>=7.0.0->pydeck>=0.1.dev5->streamlit->simpletransformers) (0.6.0)\n",
            "Requirement already satisfied: testpath in /usr/local/lib/python3.7/dist-packages (from nbconvert->notebook>=4.4.1->widgetsnbextension~=3.5.0->ipywidgets>=7.0.0->pydeck>=0.1.dev5->streamlit->simpletransformers) (0.4.4)\n",
            "Requirement already satisfied: mistune<2,>=0.8.1 in /usr/local/lib/python3.7/dist-packages (from nbconvert->notebook>=4.4.1->widgetsnbextension~=3.5.0->ipywidgets>=7.0.0->pydeck>=0.1.dev5->streamlit->simpletransformers) (0.8.4)\n",
            "Requirement already satisfied: webencodings in /usr/local/lib/python3.7/dist-packages (from bleach->nbconvert->notebook>=4.4.1->widgetsnbextension~=3.5.0->ipywidgets>=7.0.0->pydeck>=0.1.dev5->streamlit->simpletransformers) (0.5.1)\n",
            "Building wheels for collected packages: seqeval, sacremoses, blinker, pathtools, subprocess32\n",
            "  Building wheel for seqeval (setup.py) ... \u001b[?25l\u001b[?25hdone\n",
            "  Created wheel for seqeval: filename=seqeval-1.2.2-cp37-none-any.whl size=16172 sha256=b982692f4567d5517c01b8c864627387561a58312baec10a12a8bb19120b2113\n",
            "  Stored in directory: /root/.cache/pip/wheels/52/df/1b/45d75646c37428f7e626214704a0e35bd3cfc32eda37e59e5f\n",
            "  Building wheel for sacremoses (setup.py) ... \u001b[?25l\u001b[?25hdone\n",
            "  Created wheel for sacremoses: filename=sacremoses-0.0.43-cp37-none-any.whl size=893262 sha256=9e6d1fe769312954e63ad80060a0d10ffc9dcad773d824cee7b361ba38d08eb9\n",
            "  Stored in directory: /root/.cache/pip/wheels/29/3c/fd/7ce5c3f0666dab31a50123635e6fb5e19ceb42ce38d4e58f45\n",
            "  Building wheel for blinker (setup.py) ... \u001b[?25l\u001b[?25hdone\n",
            "  Created wheel for blinker: filename=blinker-1.4-cp37-none-any.whl size=13448 sha256=d9dddc03037c1551d225dc5f621b06b20f2bd1887b84cd860e8490f33bd435fc\n",
            "  Stored in directory: /root/.cache/pip/wheels/92/a0/00/8690a57883956a301d91cf4ec999cc0b258b01e3f548f86e89\n",
            "  Building wheel for pathtools (setup.py) ... \u001b[?25l\u001b[?25hdone\n",
            "  Created wheel for pathtools: filename=pathtools-0.1.2-cp37-none-any.whl size=8786 sha256=746422748daac66236a5963eb20a310e195932ef0c928ceb23f8789bcc71ec27\n",
            "  Stored in directory: /root/.cache/pip/wheels/0b/04/79/c3b0c3a0266a3cb4376da31e5bfe8bba0c489246968a68e843\n",
            "  Building wheel for subprocess32 (setup.py) ... \u001b[?25l\u001b[?25hdone\n",
            "  Created wheel for subprocess32: filename=subprocess32-3.5.4-cp37-none-any.whl size=6489 sha256=774bbde52d45d2b7e5cd20f50d39b1db19c5e0974f7b762ec942a9766ec40b14\n",
            "  Stored in directory: /root/.cache/pip/wheels/68/39/1a/5e402bdfdf004af1786c8b853fd92f8c4a04f22aad179654d1\n",
            "Successfully built seqeval sacremoses blinker pathtools subprocess32\n",
            "\u001b[31mERROR: google-colab 1.0.0 has requirement ipykernel~=4.10, but you'll have ipykernel 5.5.0 which is incompatible.\u001b[0m\n",
            "Installing collected packages: tensorboardx, tqdm, sacremoses, tokenizers, transformers, blinker, watchdog, base58, smmap, gitdb, gitpython, validators, ipykernel, pydeck, streamlit, sentry-sdk, shortuuid, pathtools, subprocess32, configparser, docker-pycreds, wandb, sentencepiece, seqeval, simpletransformers\n",
            "  Found existing installation: tqdm 4.41.1\n",
            "    Uninstalling tqdm-4.41.1:\n",
            "      Successfully uninstalled tqdm-4.41.1\n",
            "  Found existing installation: ipykernel 4.10.1\n",
            "    Uninstalling ipykernel-4.10.1:\n",
            "      Successfully uninstalled ipykernel-4.10.1\n",
            "Successfully installed base58-2.1.0 blinker-1.4 configparser-5.0.2 docker-pycreds-0.4.0 gitdb-4.0.5 gitpython-3.1.14 ipykernel-5.5.0 pathtools-0.1.2 pydeck-0.6.1 sacremoses-0.0.43 sentencepiece-0.1.95 sentry-sdk-0.20.3 seqeval-1.2.2 shortuuid-1.0.1 simpletransformers-0.60.9 smmap-3.0.5 streamlit-0.77.0 subprocess32-3.5.4 tensorboardx-2.1 tokenizers-0.10.1 tqdm-4.58.0 transformers-4.3.3 validators-0.18.2 wandb-0.10.21 watchdog-2.0.2\n"
          ],
          "name": "stdout"
        },
        {
          "output_type": "display_data",
          "data": {
            "application/vnd.colab-display-data+json": {
              "pip_warning": {
                "packages": [
                  "ipykernel"
                ]
              }
            }
          },
          "metadata": {
            "tags": []
          }
        }
      ]
    },
    {
      "cell_type": "code",
      "metadata": {
        "id": "qLglACtJt7YC"
      },
      "source": [
        "!pip install simpletransformers[classification]"
      ],
      "execution_count": null,
      "outputs": []
    },
    {
      "cell_type": "code",
      "metadata": {
        "colab": {
          "base_uri": "https://localhost:8080/",
          "height": 218,
          "referenced_widgets": [
            "6e061e684c9743088d22e8776ff37dd4",
            "08ae05e853054ef8902d7c2ced396b94",
            "2c8b9af561454f6abfccb088a26e0502",
            "43d58e92c1cd44e3b2084a24ac891e98",
            "9664d58b306d4ddaa7eb4071e40d74fe",
            "de6d649663a745c4b5b4a66300ff25b4",
            "3380097ae79e481483cf0c1b0bbe5337",
            "aa371a705b76475899c0b7766484b4cf",
            "51df16fd3f1e4edf8a2a8592c870bc31",
            "065ed6ff13f546ec8ff34234eb834e30",
            "0be12f38d147494480fc5e84fb93e162",
            "0e271510f2464a5089986cd01e7565fb",
            "495bbdb38d91478883ffff0a15219de6",
            "a2552b4f1404459890378fbab0a6e2dd",
            "cc45b20767134479adfae0e011e47c7c",
            "7ba781017bbe40cb88d6b02332ad9cef",
            "c56e91702e704c878ce620013e7ddef5",
            "db4f23a639364f2ba496862c4f8edbed",
            "96f032ef8b2f475ba7d35bd437c4a74d",
            "0ffea50d6da64902a88142ef0b28288b",
            "698e3491fcee48f8abcd1e3600822c73",
            "8f97befc946f43eea803eb9d9adff0e8",
            "1fd0610dbc874de1a7b193a7196c8663",
            "75bc6e0aad4b48e990af8279790d6691",
            "97fa2da841464527a1764fe87ec692e5",
            "f19d000cae2949f48fadb6810dccc0ad",
            "0fa5beaa4c8b40a797445b5322009c71",
            "7f755d68d5494ed59beb9951cefd1f1a",
            "312cba4526b7458a9257d6b9a83c7499",
            "bf98c3e5192b4a57903e9d64e1a99824",
            "24635e2d38ee45b6bbe36496f5ba504e",
            "42e01f7482a24d57a108ee1971456ac7",
            "9ba1a075614b41a399acbbc96c7ea80a"
          ]
        },
        "id": "MFZcBXpGsVVh",
        "outputId": "29ff9708-a423-40b5-da87-c7758f1a8d45"
      },
      "source": [
        "from simpletransformers.classification import ClassificationModel\r\n",
        "\r\n",
        "\r\n",
        "# Create a TransformerModel\r\n",
        "model = ClassificationModel('bert', 'bert-base-cased', num_labels=3, args={'reprocess_input_data': True, 'overwrite_output_dir': True},use_cuda=False)"
      ],
      "execution_count": 2,
      "outputs": [
        {
          "output_type": "display_data",
          "data": {
            "application/vnd.jupyter.widget-view+json": {
              "model_id": "6e061e684c9743088d22e8776ff37dd4",
              "version_minor": 0,
              "version_major": 2
            },
            "text/plain": [
              "Downloading:   0%|          | 0.00/433 [00:00<?, ?B/s]"
            ]
          },
          "metadata": {
            "tags": []
          }
        },
        {
          "output_type": "display_data",
          "data": {
            "application/vnd.jupyter.widget-view+json": {
              "model_id": "0e271510f2464a5089986cd01e7565fb",
              "version_minor": 0,
              "version_major": 2
            },
            "text/plain": [
              "Downloading:   0%|          | 0.00/436M [00:00<?, ?B/s]"
            ]
          },
          "metadata": {
            "tags": []
          }
        },
        {
          "output_type": "stream",
          "text": [
            "Some weights of the model checkpoint at bert-base-cased were not used when initializing BertForSequenceClassification: ['cls.predictions.bias', 'cls.predictions.transform.dense.weight', 'cls.predictions.transform.dense.bias', 'cls.predictions.decoder.weight', 'cls.seq_relationship.weight', 'cls.seq_relationship.bias', 'cls.predictions.transform.LayerNorm.weight', 'cls.predictions.transform.LayerNorm.bias']\n",
            "- This IS expected if you are initializing BertForSequenceClassification from the checkpoint of a model trained on another task or with another architecture (e.g. initializing a BertForSequenceClassification model from a BertForPreTraining model).\n",
            "- This IS NOT expected if you are initializing BertForSequenceClassification from the checkpoint of a model that you expect to be exactly identical (initializing a BertForSequenceClassification model from a BertForSequenceClassification model).\n",
            "Some weights of BertForSequenceClassification were not initialized from the model checkpoint at bert-base-cased and are newly initialized: ['classifier.weight', 'classifier.bias']\n",
            "You should probably TRAIN this model on a down-stream task to be able to use it for predictions and inference.\n"
          ],
          "name": "stderr"
        },
        {
          "output_type": "display_data",
          "data": {
            "application/vnd.jupyter.widget-view+json": {
              "model_id": "1fd0610dbc874de1a7b193a7196c8663",
              "version_minor": 0,
              "version_major": 2
            },
            "text/plain": [
              "Downloading:   0%|          | 0.00/213k [00:00<?, ?B/s]"
            ]
          },
          "metadata": {
            "tags": []
          }
        }
      ]
    },
    {
      "cell_type": "code",
      "metadata": {
        "colab": {
          "base_uri": "https://localhost:8080/"
        },
        "id": "TTABGAlnsVR_",
        "outputId": "ad49cefe-5881-4019-a865-0a8c2130cc41"
      },
      "source": [
        "def making_label(st):\r\n",
        "    if(st=='Positive'):\r\n",
        "        return 0\r\n",
        "    elif(st=='Neutral'):\r\n",
        "        return 2\r\n",
        "    else:\r\n",
        "        return 1\r\n",
        "    \r\n",
        "train['label'] = train['sentiment'].apply(making_label)\r\n",
        "eva['label'] = eva['sentiment'].apply(making_label)\r\n",
        "print(train.shape)"
      ],
      "execution_count": 76,
      "outputs": [
        {
          "output_type": "stream",
          "text": [
            "(18192, 3)\n"
          ],
          "name": "stdout"
        },
        {
          "output_type": "stream",
          "text": [
            "/usr/local/lib/python3.7/dist-packages/ipykernel_launcher.py:9: SettingWithCopyWarning: \n",
            "A value is trying to be set on a copy of a slice from a DataFrame.\n",
            "Try using .loc[row_indexer,col_indexer] = value instead\n",
            "\n",
            "See the caveats in the documentation: https://pandas.pydata.org/pandas-docs/stable/user_guide/indexing.html#returning-a-view-versus-a-copy\n",
            "  if __name__ == '__main__':\n",
            "/usr/local/lib/python3.7/dist-packages/ipykernel_launcher.py:10: SettingWithCopyWarning: \n",
            "A value is trying to be set on a copy of a slice from a DataFrame.\n",
            "Try using .loc[row_indexer,col_indexer] = value instead\n",
            "\n",
            "See the caveats in the documentation: https://pandas.pydata.org/pandas-docs/stable/user_guide/indexing.html#returning-a-view-versus-a-copy\n",
            "  # Remove the CWD from sys.path while we load stuff.\n"
          ],
          "name": "stderr"
        }
      ]
    },
    {
      "cell_type": "code",
      "metadata": {
        "id": "Gi7WQ4MhuFBk"
      },
      "source": [
        "train_df = pd.DataFrame({\r\n",
        "    'text': train['statement'][:1500].replace(r'\\n', ' ', regex=True),\r\n",
        "    'label': train['label'][:1500]\r\n",
        "})\r\n",
        "\r\n",
        "eval_df = pd.DataFrame({\r\n",
        "    'text': eva['statement'][-400:].replace(r'\\n', ' ', regex=True),\r\n",
        "    'label': eva['label'][-400:]\r\n",
        "})"
      ],
      "execution_count": 77,
      "outputs": []
    },
    {
      "cell_type": "code",
      "metadata": {
        "colab": {
          "base_uri": "https://localhost:8080/",
          "height": 198,
          "referenced_widgets": [
            "919410df7132422aa61fd3621f4e4b47",
            "8a9b676848924d4ea96529fd598b009d",
            "a9c4c7b41e874b80adc47f622de16ad2",
            "358f0324b3d04587a8bd18d5f7a20b24",
            "a5ca6d5bda384bc3a1a0b5c3df3160cc",
            "aa05626ea0bc4ca3aef780bca8161d04",
            "f3104ac5d9134a958ff6079907d824fc",
            "517850f2524540279bd9cf521926d35b",
            "f2cc88eb33434ff7aa86942a8a9703b7",
            "ec0a81d5dbb54f1980b99c504b523558",
            "91c2fb842fdf47e1a5fee76dba294464",
            "d24f1f6e223f465f9ef70825f2168c9c",
            "ca953377055241dbb6146ffaf7694727",
            "d908af6b70094c4d9a283d7b6a8896a7",
            "45749c4af5034c0b895473cc5d6ed7b7",
            "2da57b05e6c34f51b715103d14d38cdf",
            "97502754975a4b2e8a5d86d075d1360d",
            "d3adb4a412184c049a11c57c49c195cf",
            "5e5cd3dc9d244be7aa248b820a330b5b",
            "33403a9b2d63404abb763417d92f3919",
            "50f0b970e2b34b5b892e6cd316dd626c",
            "7255d78ed06d4484a1e88a841c22575a",
            "dee97213c2b54827a08e29be2dfc24d4",
            "daea74fd1a0345e29c5fdd34fd6e296b",
            "16b036df72314b9fa6699bff33ae2949",
            "90082c77165f48ba85a8914dc4bd4e20",
            "1484ff8b9f91400eab3fd3729894fcb1",
            "7151ede981634e69b92ae9328f1eb22c",
            "2b93fa5486d043fdacfc87dc7c780ce6",
            "6c5d37b1029241908dc501d4b8e37ccf",
            "01f6a27638004968a291982db4047bb9",
            "bed0e67f471a46a0b2381497987038ec",
            "3e45710ef38549efa0d8fc5c6d9fd9a7"
          ]
        },
        "id": "MQ6dJFZluE9W",
        "outputId": "19f75948-2267-4b09-fb38-4d7054c88edf"
      },
      "source": [
        "model.train_model(train_df)"
      ],
      "execution_count": 78,
      "outputs": [
        {
          "output_type": "stream",
          "text": [
            "/usr/local/lib/python3.7/dist-packages/simpletransformers/classification/classification_model.py:446: UserWarning: Dataframe headers not specified. Falling back to using column 0 as text and column 1 as labels.\n",
            "  \"Dataframe headers not specified. Falling back to using column 0 as text and column 1 as labels.\"\n"
          ],
          "name": "stderr"
        },
        {
          "output_type": "display_data",
          "data": {
            "application/vnd.jupyter.widget-view+json": {
              "model_id": "919410df7132422aa61fd3621f4e4b47",
              "version_minor": 0,
              "version_major": 2
            },
            "text/plain": [
              "  0%|          | 0/2 [00:00<?, ?it/s]"
            ]
          },
          "metadata": {
            "tags": []
          }
        },
        {
          "output_type": "display_data",
          "data": {
            "application/vnd.jupyter.widget-view+json": {
              "model_id": "d24f1f6e223f465f9ef70825f2168c9c",
              "version_minor": 0,
              "version_major": 2
            },
            "text/plain": [
              "Epoch:   0%|          | 0/1 [00:00<?, ?it/s]"
            ]
          },
          "metadata": {
            "tags": []
          }
        },
        {
          "output_type": "display_data",
          "data": {
            "application/vnd.jupyter.widget-view+json": {
              "model_id": "dee97213c2b54827a08e29be2dfc24d4",
              "version_minor": 0,
              "version_major": 2
            },
            "text/plain": [
              "Running Epoch 0 of 1:   0%|          | 0/188 [00:00<?, ?it/s]"
            ]
          },
          "metadata": {
            "tags": []
          }
        },
        {
          "output_type": "stream",
          "text": [
            "/usr/local/lib/python3.7/dist-packages/torch/optim/lr_scheduler.py:216: UserWarning: Please also save or load the state of the optimizer when saving or loading the scheduler.\n",
            "  warnings.warn(SAVE_STATE_WARNING, UserWarning)\n"
          ],
          "name": "stderr"
        },
        {
          "output_type": "execute_result",
          "data": {
            "text/plain": [
              "(188, 0.9312497057971802)"
            ]
          },
          "metadata": {
            "tags": []
          },
          "execution_count": 78
        }
      ]
    },
    {
      "cell_type": "code",
      "metadata": {
        "colab": {
          "base_uri": "https://localhost:8080/",
          "height": 83,
          "referenced_widgets": [
            "677378c9d949466ba67fde55b0a80237",
            "db6ab38d112646938f66937a18cc99ef",
            "286c93fb60bf4f6abb76c4814b68b0d7",
            "840ce01af1a64887bc102d1b636a7e34",
            "3a71c35879ff49db9d56e54824b91834",
            "f3d13159625141a2a0a93fa2f34e69c4",
            "41f8b7454df64e8ab699bab7cf180582",
            "c847da134eed49c58cc94404cd34bf44",
            "188e22bd39244c7490c1a5bf025d91e9",
            "02671f3c2d8c416aa988a34cbb503c23",
            "c8decf8e0dd146d3b1494dcaa1a14fd3"
          ]
        },
        "id": "NW4MAP-EuE52",
        "outputId": "fee32855-296c-49d8-8638-12711257ac68"
      },
      "source": [
        "result, model_outputs, wrong_predictions = model.eval_model(eval_df)"
      ],
      "execution_count": 79,
      "outputs": [
        {
          "output_type": "stream",
          "text": [
            "/usr/local/lib/python3.7/dist-packages/simpletransformers/classification/classification_model.py:1026: UserWarning: Dataframe headers not specified. Falling back to using column 0 as text and column 1 as labels.\n",
            "  \"Dataframe headers not specified. Falling back to using column 0 as text and column 1 as labels.\"\n"
          ],
          "name": "stderr"
        },
        {
          "output_type": "display_data",
          "data": {
            "application/vnd.jupyter.widget-view+json": {
              "model_id": "677378c9d949466ba67fde55b0a80237",
              "version_minor": 0,
              "version_major": 2
            },
            "text/plain": [
              "Running Evaluation:   0%|          | 0/50 [00:00<?, ?it/s]"
            ]
          },
          "metadata": {
            "tags": []
          }
        }
      ]
    },
    {
      "cell_type": "code",
      "metadata": {
        "colab": {
          "base_uri": "https://localhost:8080/"
        },
        "id": "vrEjeA4fomOU",
        "outputId": "b7ff76f4-43da-486b-fa9d-41346a72aafd"
      },
      "source": [
        "result"
      ],
      "execution_count": 80,
      "outputs": [
        {
          "output_type": "execute_result",
          "data": {
            "text/plain": [
              "{'eval_loss': 0.771947825551033, 'mcc': 0.4368512358836995}"
            ]
          },
          "metadata": {
            "tags": []
          },
          "execution_count": 80
        }
      ]
    },
    {
      "cell_type": "code",
      "metadata": {
        "colab": {
          "base_uri": "https://localhost:8080/"
        },
        "id": "XpXVxS88vVhe",
        "outputId": "89befa7e-95ba-406d-a3c3-addb2ffe9e26"
      },
      "source": [
        "model_outputs"
      ],
      "execution_count": 81,
      "outputs": [
        {
          "output_type": "execute_result",
          "data": {
            "text/plain": [
              "array([[-0.64039707, -1.19238973,  0.39532632],\n",
              "       [ 0.68268108, -0.23307268, -0.87929428],\n",
              "       [ 0.12910369, -0.44174701, -0.74957943],\n",
              "       ...,\n",
              "       [ 0.1466243 , -0.10656334, -0.99416482],\n",
              "       [ 1.48690212,  0.07443997, -0.94454247],\n",
              "       [-0.33347291, -0.902843  , -0.18125534]])"
            ]
          },
          "metadata": {
            "tags": []
          },
          "execution_count": 81
        }
      ]
    },
    {
      "cell_type": "code",
      "metadata": {
        "id": "MZfi53ocvVeV"
      },
      "source": [
        "lst = []\r\n",
        "for arr in model_outputs:\r\n",
        "    lst.append(np.argmax(arr))"
      ],
      "execution_count": 82,
      "outputs": []
    },
    {
      "cell_type": "code",
      "metadata": {
        "id": "TK1GM-ScvVbS"
      },
      "source": [
        "true = eval_df['label'].tolist()\r\n",
        "predicted = lst"
      ],
      "execution_count": 83,
      "outputs": []
    },
    {
      "cell_type": "code",
      "metadata": {
        "colab": {
          "base_uri": "https://localhost:8080/"
        },
        "id": "Lg076SygvVZM",
        "outputId": "a4fabeb2-a8da-49d6-f004-99a08178d7ce"
      },
      "source": [
        "import sklearn\r\n",
        "mat = sklearn.metrics.confusion_matrix(true , predicted)\r\n",
        "mat"
      ],
      "execution_count": 84,
      "outputs": [
        {
          "output_type": "execute_result",
          "data": {
            "text/plain": [
              "array([[161,   0,  22],\n",
              "       [ 39,   0,  16],\n",
              "       [ 55,   0, 107]])"
            ]
          },
          "metadata": {
            "tags": []
          },
          "execution_count": 84
        }
      ]
    },
    {
      "cell_type": "code",
      "metadata": {
        "colab": {
          "base_uri": "https://localhost:8080/",
          "height": 267
        },
        "id": "N0Q2KO8ZvVW2",
        "outputId": "b2faad5a-9715-416c-e55c-7325e381fd6d"
      },
      "source": [
        "df_cm = pd.DataFrame(mat, range(3), range(3))\r\n",
        "\r\n",
        "sns.heatmap(df_cm, annot=True) \r\n",
        "plt.show()\r\n"
      ],
      "execution_count": 85,
      "outputs": [
        {
          "output_type": "display_data",
          "data": {
            "image/png": "[encoded data removed]",
            "text/plain": [
              "<Figure size 432x288 with 2 Axes>"
            ]
          },
          "metadata": {
            "tags": [],
            "needs_background": "light"
          }
        }
      ]
    },
    {
      "cell_type": "code",
      "metadata": {
        "colab": {
          "base_uri": "https://localhost:8080/",
          "height": 106
        },
        "id": "LjZrQlfQvVS-",
        "outputId": "0a23df56-9039-41d3-fff4-6e43fd718fc8"
      },
      "source": [
        "sklearn.metrics.classification_report(true,predicted,target_names=['positive','neutral','negative'])"
      ],
      "execution_count": 86,
      "outputs": [
        {
          "output_type": "stream",
          "text": [
            "/usr/local/lib/python3.7/dist-packages/sklearn/metrics/_classification.py:1272: UndefinedMetricWarning: Precision and F-score are ill-defined and being set to 0.0 in labels with no predicted samples. Use `zero_division` parameter to control this behavior.\n",
            "  _warn_prf(average, modifier, msg_start, len(result))\n"
          ],
          "name": "stderr"
        },
        {
          "output_type": "execute_result",
          "data": {
            "application/vnd.google.colaboratory.intrinsic+json": {
              "type": "string"
            },
            "text/plain": [
              "'              precision    recall  f1-score   support\\n\\n    positive       0.63      0.88      0.74       183\\n     neutral       0.00      0.00      0.00        55\\n    negative       0.74      0.66      0.70       162\\n\\n    accuracy                           0.67       400\\n   macro avg       0.46      0.51      0.48       400\\nweighted avg       0.59      0.67      0.62       400\\n'"
            ]
          },
          "metadata": {
            "tags": []
          },
          "execution_count": 86
        }
      ]
    },
    {
      "cell_type": "code",
      "metadata": {
        "colab": {
          "base_uri": "https://localhost:8080/"
        },
        "id": "hTJhW1EEvVP7",
        "outputId": "20b14756-3fa4-4d1c-b2ad-b17bdddb8299"
      },
      "source": [
        "sklearn.metrics.accuracy_score(true,predicted)"
      ],
      "execution_count": 87,
      "outputs": [
        {
          "output_type": "execute_result",
          "data": {
            "text/plain": [
              "0.67"
            ]
          },
          "metadata": {
            "tags": []
          },
          "execution_count": 87
        }
      ]
    },
    {
      "cell_type": "code",
      "metadata": {
        "id": "3p0i0dUGw01a"
      },
      "source": [
        ""
      ],
      "execution_count": null,
      "outputs": []
    },
    {
      "cell_type": "code",
      "metadata": {
        "id": "b8077NjvDkKj"
      },
      "source": [
        "indialockdown1.head()"
      ],
      "execution_count": null,
      "outputs": []
    },
    {
      "cell_type": "code",
      "metadata": {
        "id": "Bgrh-XUPBNPh"
      },
      "source": [
        "indialockdown1.to_csv(\"a1.csv\")\r\n",
        "indialockdown2.to_csv(\"a2.csv\")"
      ],
      "execution_count": null,
      "outputs": []
    },
    {
      "cell_type": "code",
      "metadata": {
        "id": "ynTN4mtq27x2"
      },
      "source": [
        "poscount1 = 0\r\n",
        "negcount1 = 0\r\n",
        "neutcount1 = 0\r\n",
        "poscount2 = 0\r\n",
        "negcount2 = 0\r\n",
        "neutcount2 = 0\r\n",
        "\r\n",
        "\r\n",
        "\r\n",
        "for i in indialockdown1.index:\r\n",
        "  if (indialockdown1.at[i,\"pred\"]==\"positive\"):\r\n",
        "    poscount1 = poscount1 + 1\r\n",
        "  elif (indialockdown1.at[i,\"pred\"]==\"neutral\"):\r\n",
        "    neutcount1 = neutcount1 + 1\r\n",
        "  else:\r\n",
        "    negcount1 = negcount1 + 1\r\n",
        "\r\n",
        "\r\n",
        "for i in indialockdown2.index:\r\n",
        "  if (indialockdown2.at[i,\"pred\"]==\"positive\"):\r\n",
        "    poscount2 = poscount2 + 1\r\n",
        "  elif (indialockdown2.at[i,\"pred\"]==\"neutral\"):\r\n",
        "    neutcount2 = neutcount2 + 1\r\n",
        "  else:\r\n",
        "    negcount2 = negcount2 + 1\r\n"
      ],
      "execution_count": null,
      "outputs": []
    },
    {
      "cell_type": "code",
      "metadata": {
        "id": "ttQIfxqd3Tx3"
      },
      "source": [
        "x = len(indialockdown1)\r\n",
        "y = len(indialockdown2)\r\n",
        "\r\n",
        "\r\n",
        "poscount1 = (poscount1/x) *100\r\n",
        "negcount1 = (negcount1/x) *100\r\n",
        "\r\n",
        "neutcount1 = (neutcount1/x) *100\r\n",
        "\r\n",
        "poscount2= (poscount2/y) *100\r\n",
        "negcount2= (negcount2/y) *100\r\n",
        "\r\n",
        "neutcount2= (neutcount2/y) *100\r\n",
        "\r\n",
        "\r\n"
      ],
      "execution_count": null,
      "outputs": []
    },
    {
      "cell_type": "code",
      "metadata": {
        "id": "nB7nhV2rv5_e"
      },
      "source": [
        "indialockdown1.head()"
      ],
      "execution_count": null,
      "outputs": []
    },
    {
      "cell_type": "code",
      "metadata": {
        "id": "HL0eoAMEv9Dy"
      },
      "source": [
        "indialockdown2.head()"
      ],
      "execution_count": null,
      "outputs": []
    },
    {
      "cell_type": "code",
      "metadata": {
        "id": "Y7QIOwuwwLai"
      },
      "source": [
        "draw = pd.DataFrame(columns=[\"Lockdown\",\"Positive\",\"Negative\",\"Neutral\"])\r\n",
        "draw = draw.append({'Lockdown': \"Lockdown 1\", 'Positive': poscount1, 'Negative': negcount1, 'Neutral': neutcount1}, ignore_index=True)\r\n",
        "draw = draw.append({'Lockdown': \"Lockdown 2\",'Positive': poscount2, 'Negative': negcount2, 'Neutral': neutcount2}, ignore_index=True)\r\n",
        "draw.head()"
      ],
      "execution_count": null,
      "outputs": []
    },
    {
      "cell_type": "code",
      "metadata": {
        "colab": {
          "base_uri": "https://localhost:8080/",
          "height": 309
        },
        "id": "be44oPp5fMMd",
        "outputId": "93b88496-17b7-4cc8-fea9-4e619297e662"
      },
      "source": [
        "draw.plot(kind=\"bar\")\r\n",
        "plt.title(\"Sentiment Analysis\")\r\n",
        "plt.xlabel(\"Lockdown\")\r\n",
        "plt.ylabel(\"Number of Tweets\")"
      ],
      "execution_count": null,
      "outputs": [
        {
          "output_type": "execute_result",
          "data": {
            "text/plain": [
              "Text(0, 0.5, 'Number of Tweets')"
            ]
          },
          "metadata": {
            "tags": []
          },
          "execution_count": 62
        },
        {
          "output_type": "display_data",
          "data": {
            "image/png": "[encoded data removed]",
            "text/plain": [
              "<Figure size 432x288 with 1 Axes>"
            ]
          },
          "metadata": {
            "tags": [],
            "needs_background": "light"
          }
        }
      ]
    },
    {
      "cell_type": "code",
      "metadata": {
        "scrolled": false,
        "colab": {
          "base_uri": "https://localhost:8080/",
          "height": 499
        },
        "id": "JXADmEmbUMOa",
        "outputId": "a363053f-049c-4182-c751-9b890e9cefee"
      },
      "source": [
        "lockdown1 = \"\"\n",
        "\n",
        "for i in indialockdown1.index:\n",
        "    lockdown1 = lockdown1 + str(indialockdown1.at[i,\"topics\"])\n",
        "    \n",
        "all_topicslockdown1 = lockdown1.split(\",\")\n",
        "counts_no_urls = collections.Counter(all_topicslockdown1)\n",
        "\n",
        "counts_no_urls.most_common(15)\n",
        "len(counts_no_urls)\n",
        "\n",
        "clean_tweets_no_urls = pd.DataFrame(counts_no_urls.most_common(10),\n",
        "                             columns=['words', 'count'])\n",
        "\n",
        "fig, ax = plt.subplots(figsize=(8, 8))\n",
        "\n",
        "# Plot horizontal bar graph\n",
        "clean_tweets_no_urls.sort_values(by='count').plot.barh(x='words',\n",
        "                      y='count',\n",
        "                      ax=ax,\n",
        "                      color=\"red\")\n",
        "\n",
        "ax.set_title(\"Common Topis Found in Tweets (Including All Words)\")\n",
        "\n",
        "plt.show()"
      ],
      "execution_count": null,
      "outputs": [
        {
          "output_type": "display_data",
          "data": {
            "image/png": "[encoded data removed]",
            "text/plain": [
              "<Figure size 576x576 with 1 Axes>"
            ]
          },
          "metadata": {
            "tags": [],
            "needs_background": "light"
          }
        }
      ]
    },
    {
      "cell_type": "code",
      "metadata": {
        "id": "AM23K9muUMOb",
        "outputId": "df62adf8-11d5-4805-9943-966e22859715"
      },
      "source": [
        "lockdown2 = \"\"\n",
        "\n",
        "for i in indialockdown2.index:\n",
        "    lockdown2 = lockdown2 + str(indialockdown2.at[i,\"topics\"])\n",
        "    \n",
        "all_topicslockdown2 = lockdown2.split(\",\")\n",
        "counts_no_urls = collections.Counter(all_topicslockdown2)\n",
        "\n",
        "counts_no_urls.most_common(15)\n",
        "len(counts_no_urls)\n",
        "\n",
        "clean_tweets_no_urls = pd.DataFrame(counts_no_urls.most_common(10),\n",
        "                             columns=['words', 'count'])\n",
        "\n",
        "fig, ax = plt.subplots(figsize=(8, 8))\n",
        "\n",
        "# Plot horizontal bar graph\n",
        "clean_tweets_no_urls.sort_values(by='count').plot.barh(x='words',\n",
        "                      y='count',\n",
        "                      ax=ax,\n",
        "                      color=\"green\")\n",
        "\n",
        "ax.set_title(\"Common Topis Found in Tweets (Including All Words)\")\n",
        "\n",
        "plt.show()"
      ],
      "execution_count": null,
      "outputs": [
        {
          "output_type": "display_data",
          "data": {
            "image/png": "[encoded data removed]",
            "text/plain": [
              "<Figure size 576x576 with 1 Axes>"
            ]
          },
          "metadata": {
            "tags": [],
            "needs_background": "light"
          }
        }
      ]
    },
    {
      "cell_type": "code",
      "metadata": {
        "id": "lEK4uOdxUMOb",
        "outputId": "54a841ab-2962-41f4-b58a-7b9edd1ae64f"
      },
      "source": [
        "lockdown = \"\"\n",
        "\n",
        "for i in indialockdown3.index:\n",
        "    lockdown3 = lockdown3 + str(indialockdown3.at[i,\"topics\"])\n",
        "    \n",
        "all_topicslockdown3 = lockdown3.split(\",\")\n",
        "counts_no_urls = collections.Counter(all_topicslockdown3)\n",
        "\n",
        "\n",
        "\n",
        "clean_tweets_no_urls = pd.DataFrame(counts_no_urls.most_common(1),\n",
        "                             columns=['words', 'count'])\n",
        "\n",
        "fig, ax = plt.subplots(figsize=(8, 8))\n",
        "\n",
        "# Plot horizontal bar graph\n",
        "clean_tweets_no_urls.sort_values(by='count').plot.barh(x='words',\n",
        "                      y='count',\n",
        "                      ax=ax,\n",
        "                      color=\"blue\")\n",
        "\n",
        "ax.set_title(\"Common Topis Found in Tweets (Including All Words)\")\n",
        "\n",
        "plt.show()"
      ],
      "execution_count": null,
      "outputs": [
        {
          "output_type": "display_data",
          "data": {
            "image/png": "[encoded data removed]",
            "text/plain": [
              "<Figure size 576x576 with 1 Axes>"
            ]
          },
          "metadata": {
            "tags": [],
            "needs_background": "light"
          }
        }
      ]
    },
    {
      "cell_type": "code",
      "metadata": {
        "id": "rSBvGA9fUMOb",
        "outputId": "c3ea7bdf-15d3-401a-e3ae-e902cd4accbc"
      },
      "source": [
        "indialockdown3"
      ],
      "execution_count": null,
      "outputs": [
        {
          "output_type": "execute_result",
          "data": {
            "text/html": [
              "<div>\n",
              "<style scoped>\n",
              "    .dataframe tbody tr th:only-of-type {\n",
              "        vertical-align: middle;\n",
              "    }\n",
              "\n",
              "    .dataframe tbody tr th {\n",
              "        vertical-align: top;\n",
              "    }\n",
              "\n",
              "    .dataframe thead th {\n",
              "        text-align: right;\n",
              "    }\n",
              "</style>\n",
              "<table border=\"1\" class=\"dataframe\">\n",
              "  <thead>\n",
              "    <tr style=\"text-align: right;\">\n",
              "      <th></th>\n",
              "      <th>Unnamed: 0</th>\n",
              "      <th>text</th>\n",
              "      <th>country_code</th>\n",
              "      <th>date</th>\n",
              "      <th>hashtag</th>\n",
              "      <th>topics</th>\n",
              "    </tr>\n",
              "  </thead>\n",
              "  <tbody>\n",
              "  </tbody>\n",
              "</table>\n",
              "</div>"
            ],
            "text/plain": [
              "Empty DataFrame\n",
              "Columns: [Unnamed: 0, text, country_code, date, hashtag, topics]\n",
              "Index: []"
            ]
          },
          "metadata": {
            "tags": []
          },
          "execution_count": 38
        }
      ]
    },
    {
      "cell_type": "code",
      "metadata": {
        "id": "bOf1xHpzUMOc",
        "outputId": "b15ecb99-ecdf-4b4b-bf35-8a26bb2687c9"
      },
      "source": [
        "indialockdown4"
      ],
      "execution_count": null,
      "outputs": [
        {
          "output_type": "execute_result",
          "data": {
            "text/html": [
              "<div>\n",
              "<style scoped>\n",
              "    .dataframe tbody tr th:only-of-type {\n",
              "        vertical-align: middle;\n",
              "    }\n",
              "\n",
              "    .dataframe tbody tr th {\n",
              "        vertical-align: top;\n",
              "    }\n",
              "\n",
              "    .dataframe thead th {\n",
              "        text-align: right;\n",
              "    }\n",
              "</style>\n",
              "<table border=\"1\" class=\"dataframe\">\n",
              "  <thead>\n",
              "    <tr style=\"text-align: right;\">\n",
              "      <th></th>\n",
              "      <th>Unnamed: 0</th>\n",
              "      <th>text</th>\n",
              "      <th>country_code</th>\n",
              "      <th>date</th>\n",
              "      <th>hashtag</th>\n",
              "      <th>topics</th>\n",
              "    </tr>\n",
              "  </thead>\n",
              "  <tbody>\n",
              "  </tbody>\n",
              "</table>\n",
              "</div>"
            ],
            "text/plain": [
              "Empty DataFrame\n",
              "Columns: [Unnamed: 0, text, country_code, date, hashtag, topics]\n",
              "Index: []"
            ]
          },
          "metadata": {
            "tags": []
          },
          "execution_count": 39
        }
      ]
    },
    {
      "cell_type": "code",
      "metadata": {
        "id": "59p6pj-sUMOc",
        "outputId": "f1638b6b-addb-44fa-c41d-bacdf566f73a"
      },
      "source": [
        "usa = data[data[\"country_code\"]==\"US\"]\n",
        "usa"
      ],
      "execution_count": null,
      "outputs": [
        {
          "output_type": "execute_result",
          "data": {
            "text/html": [
              "<div>\n",
              "<style scoped>\n",
              "    .dataframe tbody tr th:only-of-type {\n",
              "        vertical-align: middle;\n",
              "    }\n",
              "\n",
              "    .dataframe tbody tr th {\n",
              "        vertical-align: top;\n",
              "    }\n",
              "\n",
              "    .dataframe thead th {\n",
              "        text-align: right;\n",
              "    }\n",
              "</style>\n",
              "<table border=\"1\" class=\"dataframe\">\n",
              "  <thead>\n",
              "    <tr style=\"text-align: right;\">\n",
              "      <th></th>\n",
              "      <th>Unnamed: 0</th>\n",
              "      <th>text</th>\n",
              "      <th>country_code</th>\n",
              "      <th>date</th>\n",
              "      <th>hashtag</th>\n",
              "      <th>topics</th>\n",
              "    </tr>\n",
              "  </thead>\n",
              "  <tbody>\n",
              "    <tr>\n",
              "      <th>0</th>\n",
              "      <td>0</td>\n",
              "      <td>claytravis flu this seems fishy covid_19 numbe...</td>\n",
              "      <td>US</td>\n",
              "      <td>2020-03-29</td>\n",
              "      <td>['#Covid_19']</td>\n",
              "      <td>covid_19</td>\n",
              "    </tr>\n",
              "    <tr>\n",
              "      <th>1</th>\n",
              "      <td>1</td>\n",
              "      <td>netflix omg ozark ending die thanks distractio...</td>\n",
              "      <td>US</td>\n",
              "      <td>2020-03-29</td>\n",
              "      <td>['#COVID19']</td>\n",
              "      <td>die</td>\n",
              "    </tr>\n",
              "    <tr>\n",
              "      <th>2</th>\n",
              "      <td>2</td>\n",
              "      <td>i n't think gd leadership across states i see ...</td>\n",
              "      <td>US</td>\n",
              "      <td>2020-03-29</td>\n",
              "      <td>['#COVID19']</td>\n",
              "      <td>states,long,people,dying,test</td>\n",
              "    </tr>\n",
              "    <tr>\n",
              "      <th>4</th>\n",
              "      <td>4</td>\n",
              "      <td>any hospital our engineering department helped...</td>\n",
              "      <td>US</td>\n",
              "      <td>2020-03-29</td>\n",
              "      <td>['#Covid_19', '#medtwitter']</td>\n",
              "      <td>hospital,covid_19</td>\n",
              "    </tr>\n",
              "    <tr>\n",
              "      <th>7</th>\n",
              "      <td>7</td>\n",
              "      <td>... we best make smile terotheotter pics keep ...</td>\n",
              "      <td>US</td>\n",
              "      <td>2020-03-29</td>\n",
              "      <td>['#terotheotter', '#covid_19', '#lifeakua']</td>\n",
              "      <td>best,make,healthy,today,covid_19</td>\n",
              "    </tr>\n",
              "    <tr>\n",
              "      <th>...</th>\n",
              "      <td>...</td>\n",
              "      <td>...</td>\n",
              "      <td>...</td>\n",
              "      <td>...</td>\n",
              "      <td>...</td>\n",
              "      <td>...</td>\n",
              "    </tr>\n",
              "    <tr>\n",
              "      <th>230762</th>\n",
              "      <td>230762</td>\n",
              "      <td>this lot fun good way spend day stuck inside m...</td>\n",
              "      <td>US</td>\n",
              "      <td>2020-04-15</td>\n",
              "      <td>['#covi', '#sixfanarts', '#sixfanartschallenge...</td>\n",
              "      <td>good,inside,week</td>\n",
              "    </tr>\n",
              "    <tr>\n",
              "      <th>230763</th>\n",
              "      <td>230763</td>\n",
              "      <td>cnn publishes communist chinese propaganda cla...</td>\n",
              "      <td>US</td>\n",
              "      <td>2020-04-15</td>\n",
              "      <td>['#COVID19']</td>\n",
              "      <td>cnn,chinese,china</td>\n",
              "    </tr>\n",
              "    <tr>\n",
              "      <th>230765</th>\n",
              "      <td>230765</td>\n",
              "      <td>ceo_clemetparks sir some positive offshoots co...</td>\n",
              "      <td>US</td>\n",
              "      <td>2020-04-15</td>\n",
              "      <td>['#COVID19', '#everyproblemisanopportunity']</td>\n",
              "      <td>positive,life,would</td>\n",
              "    </tr>\n",
              "    <tr>\n",
              "      <th>230767</th>\n",
              "      <td>230767</td>\n",
              "      <td>remember soviet union told world advanced nucl...</td>\n",
              "      <td>US</td>\n",
              "      <td>2020-04-15</td>\n",
              "      <td>['#COVID19']</td>\n",
              "      <td>world,china,who,help</td>\n",
              "    </tr>\n",
              "    <tr>\n",
              "      <th>230768</th>\n",
              "      <td>230768</td>\n",
              "      <td>umnextfd umnext fox9 and 's story video link t...</td>\n",
              "      <td>US</td>\n",
              "      <td>2020-04-15</td>\n",
              "      <td>['#CoronavirusPandemic']</td>\n",
              "      <td>NaN</td>\n",
              "    </tr>\n",
              "  </tbody>\n",
              "</table>\n",
              "<p>100872 rows × 6 columns</p>\n",
              "</div>"
            ],
            "text/plain": [
              "        Unnamed: 0                                               text  \\\n",
              "0                0  claytravis flu this seems fishy covid_19 numbe...   \n",
              "1                1  netflix omg ozark ending die thanks distractio...   \n",
              "2                2  i n't think gd leadership across states i see ...   \n",
              "4                4  any hospital our engineering department helped...   \n",
              "7                7  ... we best make smile terotheotter pics keep ...   \n",
              "...            ...                                                ...   \n",
              "230762      230762  this lot fun good way spend day stuck inside m...   \n",
              "230763      230763  cnn publishes communist chinese propaganda cla...   \n",
              "230765      230765  ceo_clemetparks sir some positive offshoots co...   \n",
              "230767      230767  remember soviet union told world advanced nucl...   \n",
              "230768      230768  umnextfd umnext fox9 and 's story video link t...   \n",
              "\n",
              "       country_code        date  \\\n",
              "0                US  2020-03-29   \n",
              "1                US  2020-03-29   \n",
              "2                US  2020-03-29   \n",
              "4                US  2020-03-29   \n",
              "7                US  2020-03-29   \n",
              "...             ...         ...   \n",
              "230762           US  2020-04-15   \n",
              "230763           US  2020-04-15   \n",
              "230765           US  2020-04-15   \n",
              "230767           US  2020-04-15   \n",
              "230768           US  2020-04-15   \n",
              "\n",
              "                                                  hashtag  \\\n",
              "0                                           ['#Covid_19']   \n",
              "1                                            ['#COVID19']   \n",
              "2                                            ['#COVID19']   \n",
              "4                            ['#Covid_19', '#medtwitter']   \n",
              "7             ['#terotheotter', '#covid_19', '#lifeakua']   \n",
              "...                                                   ...   \n",
              "230762  ['#covi', '#sixfanarts', '#sixfanartschallenge...   \n",
              "230763                                       ['#COVID19']   \n",
              "230765       ['#COVID19', '#everyproblemisanopportunity']   \n",
              "230767                                       ['#COVID19']   \n",
              "230768                           ['#CoronavirusPandemic']   \n",
              "\n",
              "                                  topics  \n",
              "0                               covid_19  \n",
              "1                                    die  \n",
              "2          states,long,people,dying,test  \n",
              "4                      hospital,covid_19  \n",
              "7       best,make,healthy,today,covid_19  \n",
              "...                                  ...  \n",
              "230762                  good,inside,week  \n",
              "230763                 cnn,chinese,china  \n",
              "230765               positive,life,would  \n",
              "230767              world,china,who,help  \n",
              "230768                               NaN  \n",
              "\n",
              "[100872 rows x 6 columns]"
            ]
          },
          "metadata": {
            "tags": []
          },
          "execution_count": 40
        }
      ]
    },
    {
      "cell_type": "code",
      "metadata": {
        "id": "cjmks7toUMOc"
      },
      "source": [
        "india = usa"
      ],
      "execution_count": null,
      "outputs": []
    },
    {
      "cell_type": "code",
      "metadata": {
        "id": "qaPtLUsXUMOc"
      },
      "source": [
        "from datetime import datetime\n",
        "\n",
        "for i in india.index:\n",
        "    india.at[i,\"date\"] = datetime.strptime(india.at[i,\"date\"], '%Y-%m-%d')\n",
        "\n",
        "indialockdown1 = india[(india.date>=a1) & (india.date<=a2)]\n",
        "indialockdown2 = india[(india.date>=b1) & (india.date<=b2)]\n",
        "indialockdown3 = india[(india.date>=c1) & (india.date<=c2)]\n",
        "indialockdown4 = india[(india.date>=d1) & (india.date<=d2)]"
      ],
      "execution_count": null,
      "outputs": []
    },
    {
      "cell_type": "code",
      "metadata": {
        "id": "NS9B1tCVUMOc",
        "outputId": "3750f757-84a6-4b75-85c2-f39fa5cb4cd5"
      },
      "source": [
        "lockdown1 = \"\"\n",
        "\n",
        "for i in indialockdown1.index:\n",
        "    lockdown1 = lockdown1 + str(indialockdown1.at[i,\"topics\"])\n",
        "    \n",
        "all_topicslockdown1 = lockdown1.split(\",\")\n",
        "counts_no_urls = collections.Counter(all_topicslockdown1)\n",
        "\n",
        "counts_no_urls.most_common(15)\n",
        "len(counts_no_urls)\n",
        "\n",
        "clean_tweets_no_urls = pd.DataFrame(counts_no_urls.most_common(10),\n",
        "                             columns=['words', 'count'])\n",
        "\n",
        "fig, ax = plt.subplots(figsize=(8, 8))\n",
        "\n",
        "# Plot horizontal bar graph\n",
        "clean_tweets_no_urls.sort_values(by='count').plot.barh(x='words',\n",
        "                      y='count',\n",
        "                      ax=ax,\n",
        "                      color=\"blue\")\n",
        "\n",
        "ax.set_title(\"Common Topis Found in Tweets (Including All Words)\")\n",
        "\n",
        "plt.show()"
      ],
      "execution_count": null,
      "outputs": [
        {
          "output_type": "display_data",
          "data": {
            "image/png": "[encoded data removed]",
            "text/plain": [
              "<Figure size 576x576 with 1 Axes>"
            ]
          },
          "metadata": {
            "tags": [],
            "needs_background": "light"
          }
        }
      ]
    },
    {
      "cell_type": "code",
      "metadata": {
        "id": "n3S-hdHhUMOd",
        "outputId": "10c18bb1-ced9-4e02-de46-430289e72389"
      },
      "source": [
        "lockdown2 = \"\"\n",
        "\n",
        "for i in indialockdown2.index:\n",
        "    lockdown2 = lockdown2 + str(indialockdown2.at[i,\"topics\"])\n",
        "    \n",
        "all_topicslockdown2 = lockdown2.split(\",\")\n",
        "counts_no_urls = collections.Counter(all_topicslockdown2)\n",
        "\n",
        "counts_no_urls.most_common(15)\n",
        "len(counts_no_urls)\n",
        "\n",
        "clean_tweets_no_urls = pd.DataFrame(counts_no_urls.most_common(10),\n",
        "                             columns=['words', 'count'])\n",
        "\n",
        "fig, ax = plt.subplots(figsize=(8, 8))\n",
        "\n",
        "# Plot horizontal bar graph\n",
        "clean_tweets_no_urls.sort_values(by='count').plot.barh(x='words',\n",
        "                      y='count',\n",
        "                      ax=ax,\n",
        "                      color=\"black\")\n",
        "\n",
        "ax.set_title(\"Common Topis Found in Tweets (Including All Words)\")\n",
        "\n",
        "plt.show()"
      ],
      "execution_count": null,
      "outputs": [
        {
          "output_type": "display_data",
          "data": {
            "image/png": "[encoded data removed]",
            "text/plain": [
              "<Figure size 576x576 with 1 Axes>"
            ]
          },
          "metadata": {
            "tags": [],
            "needs_background": "light"
          }
        }
      ]
    },
    {
      "cell_type": "code",
      "metadata": {
        "id": "ty3t27x-UMOe",
        "outputId": "cea42af0-1068-49f8-b07b-b0118e194f18"
      },
      "source": [
        "lockdown3 = \"\"\n",
        "\n",
        "for i in indialockdown3.index:\n",
        "    lockdown3 = lockdown3 + str(indialockdown3.at[i,\"topics\"])\n",
        "    \n",
        "all_topicslockdown3 = lockdown3.split(\",\")\n",
        "counts_no_urls = collections.Counter(all_topicslockdown3)\n",
        "\n",
        "\n",
        "\n",
        "clean_tweets_no_urls = pd.DataFrame(counts_no_urls.most_common(1),\n",
        "                             columns=['words', 'count'])\n",
        "\n",
        "fig, ax = plt.subplots(figsize=(8, 8))\n",
        "\n",
        "# Plot horizontal bar graph\n",
        "clean_tweets_no_urls.sort_values(by='count').plot.barh(x='words',\n",
        "                      y='count',\n",
        "                      ax=ax,\n",
        "                      color=\"pink\")\n",
        "\n",
        "ax.set_title(\"Common Topis Found in Tweets (Including All Words)\")\n",
        "\n",
        "plt.show()"
      ],
      "execution_count": null,
      "outputs": [
        {
          "output_type": "display_data",
          "data": {
            "image/png": "[encoded data removed]",
            "text/plain": [
              "<Figure size 576x576 with 1 Axes>"
            ]
          },
          "metadata": {
            "tags": [],
            "needs_background": "light"
          }
        }
      ]
    },
    {
      "cell_type": "code",
      "metadata": {
        "id": "97aGZQy7UMOf",
        "outputId": "1840df28-f467-48d0-a8ed-9b6c1dcd6a44"
      },
      "source": [
        "data[\"country_code\"].unique()"
      ],
      "execution_count": null,
      "outputs": [
        {
          "output_type": "execute_result",
          "data": {
            "text/plain": [
              "array(['US', 'GB', 'JP', 'CA', 'IE', 'QA', 'AU', 'NG', 'FJ', 'FR', 'HK',\n",
              "       'IN', 'VC', 'NZ', 'PK', 'PH', 'SV', 'BR', 'CO', 'CH', 'SA', 'MA',\n",
              "       'MY', 'SG', 'MX', 'UY', 'KE', 'WS', 'CN', 'SK', 'CM', 'ZA', 'BM',\n",
              "       'MV', 'ES', 'ID', 'TM', 'PT', 'TH', 'KR', 'FI', 'TR', 'AE', 'BD',\n",
              "       'RW', 'DZ', 'IT', 'GH', 'ZW', 'JM', 'LK', 'TT', 'GM', 'NP', 'AR',\n",
              "       'OM', 'AT', 'VN', 'UG', 'BT', 'NL', 'LB', 'SC', 'EG', 'AF', 'GT',\n",
              "       'VE', 'HT', 'SD', 'MM', 'DE', 'PL', 'GR', 'NO', 'TW', 'BE', 'UA',\n",
              "       'RU', 'ZM', 'KZ', 'MW', 'LS', 'SI', 'RO', 'DK', 'MZ', 'CY', 'DO',\n",
              "       'SE', 'NI', 'IL', 'SO', 'BW', 'TZ', 'EC', 'AO', 'ML', 'CZ', 'HR',\n",
              "       'ET', 'KW', 'ME', 'AL', 'IQ', 'CI', 'DJ', 'LY', 'EE', 'BN', 'SY',\n",
              "       'MT', 'CL', 'GE', 'SZ', 'SN', 'LR', 'JO', 'LU', 'BA', 'PG', 'BJ',\n",
              "       'RS', 'IR', 'KH', 'AD', 'IM', 'CW', 'IS', 'HU', 'MK', 'NE', 'AM',\n",
              "       'CD', 'MC', 'CG', 'SL', 'LT', 'VG', 'MN', 'MO', 'GI', 'BH', 'TN',\n",
              "       'XK', 'BO', 'GN', 'AW', 'AG', 'AZ', 'BB', 'PE', 'LC', 'KY', 'GG',\n",
              "       'GY', 'BZ', 'HN', 'CR', 'TC', 'KN', 'SX', 'BQ', 'TG', 'BS', 'MU',\n",
              "       'VU', 'CU', 'GU', 'GA', 'BG', 'GD', 'MQ', 'PA', 'LI', 'BI', 'VA',\n",
              "       'PF', 'BY', 'PN', 'DM', 'MP', 'RE', 'YE', 'VI', 'UZ', 'PR', 'KG',\n",
              "       'MR', 'GQ', 'SB', 'TJ', 'FK', 'MG', 'GP', 'AS', 'LV', 'MF', 'GW',\n",
              "       'PY', 'SR', 'JE', 'MD', 'CV', 'TL', 'FO', 'GL', 'BF', 'UM', 'LA'],\n",
              "      dtype=object)"
            ]
          },
          "metadata": {
            "tags": []
          },
          "execution_count": 49
        }
      ]
    },
    {
      "cell_type": "code",
      "metadata": {
        "id": "2qC7l0LYUMOf"
      },
      "source": [
        "import seaborn as sns"
      ],
      "execution_count": null,
      "outputs": []
    },
    {
      "cell_type": "code",
      "metadata": {
        "id": "0QZJcBgSUMOg",
        "outputId": "921de784-d1b2-4f2a-c973-02f6dee88d3e"
      },
      "source": [
        "sns.countplot(data['country_code'])"
      ],
      "execution_count": null,
      "outputs": [
        {
          "output_type": "execute_result",
          "data": {
            "text/plain": [
              "<matplotlib.axes._subplots.AxesSubplot at 0x17017def400>"
            ]
          },
          "metadata": {
            "tags": []
          },
          "execution_count": 51
        },
        {
          "output_type": "display_data",
          "data": {
            "image/png": "[encoded data removed]",
            "text/plain": [
              "<Figure size 432x288 with 1 Axes>"
            ]
          },
          "metadata": {
            "tags": [],
            "needs_background": "light"
          }
        }
      ]
    },
    {
      "cell_type": "code",
      "metadata": {
        "scrolled": false,
        "id": "R24xPN9BUMOg"
      },
      "source": [
        "df = data\n",
        "freq_vals = df['country_code'].value_counts()[:].index.tolist()\n",
        "freq_df = df[df['country_code'].isin(freq_vals)]\n"
      ],
      "execution_count": null,
      "outputs": []
    },
    {
      "cell_type": "code",
      "metadata": {
        "id": "VlgysW1wUMOg"
      },
      "source": [
        "count = df['country_code'].value_counts() "
      ],
      "execution_count": null,
      "outputs": []
    },
    {
      "cell_type": "code",
      "metadata": {
        "id": "ccMn_TzUUMOh",
        "outputId": "c028b25d-8859-453e-9c02-068a7024a337"
      },
      "source": [
        "count"
      ],
      "execution_count": null,
      "outputs": [
        {
          "output_type": "execute_result",
          "data": {
            "text/plain": [
              "US    100872\n",
              "GB     33574\n",
              "IN     23949\n",
              "CA     13033\n",
              "NG      8225\n",
              "       ...  \n",
              "MF         1\n",
              "PN         1\n",
              "PF         1\n",
              "GD         1\n",
              "YE         1\n",
              "Name: country_code, Length: 209, dtype: int64"
            ]
          },
          "metadata": {
            "tags": []
          },
          "execution_count": 58
        }
      ]
    },
    {
      "cell_type": "code",
      "metadata": {
        "id": "F2F0tGMdUMOh"
      },
      "source": [
        "count.to_csv(\"a.csv\")"
      ],
      "execution_count": null,
      "outputs": []
    },
    {
      "cell_type": "code",
      "metadata": {
        "id": "bQJsExf1UMOh",
        "outputId": "331fc317-07e6-4832-af02-e6647e122fbc"
      },
      "source": [
        ""
      ],
      "execution_count": null,
      "outputs": [
        {
          "output_type": "execute_result",
          "data": {
            "text/html": [
              "<div>\n",
              "<style scoped>\n",
              "    .dataframe tbody tr th:only-of-type {\n",
              "        vertical-align: middle;\n",
              "    }\n",
              "\n",
              "    .dataframe tbody tr th {\n",
              "        vertical-align: top;\n",
              "    }\n",
              "\n",
              "    .dataframe thead th {\n",
              "        text-align: right;\n",
              "    }\n",
              "</style>\n",
              "<table border=\"1\" class=\"dataframe\">\n",
              "  <thead>\n",
              "    <tr style=\"text-align: right;\">\n",
              "      <th></th>\n",
              "      <th>country</th>\n",
              "      <th>count</th>\n",
              "    </tr>\n",
              "  </thead>\n",
              "  <tbody>\n",
              "  </tbody>\n",
              "</table>\n",
              "</div>"
            ],
            "text/plain": [
              "Empty DataFrame\n",
              "Columns: [country, count]\n",
              "Index: []"
            ]
          },
          "metadata": {
            "tags": []
          },
          "execution_count": 64
        }
      ]
    },
    {
      "cell_type": "code",
      "metadata": {
        "id": "kN2r_zLDUMOi"
      },
      "source": [
        ""
      ],
      "execution_count": null,
      "outputs": []
    }
  ]
}