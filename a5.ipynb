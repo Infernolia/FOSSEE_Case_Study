{
 "cells": [
  {
   "cell_type": "code",
   "execution_count": 1,
   "metadata": {},
   "outputs": [],
   "source": [
    "import pandas as pd\n",
    "import numpy as np\n",
    "import seaborn as sns\n",
    "import matplotlib as plt"
   ]
  },
  {
   "cell_type": "code",
   "execution_count": 9,
   "metadata": {},
   "outputs": [
    {
     "data": {
      "text/plain": [
       "81"
      ]
     },
     "execution_count": 9,
     "metadata": {},
     "output_type": "execute_result"
    }
   ],
   "source": [
    "data = pd.read_csv(\"nexto.csv\", encoding= 'unicode_escape')\n",
    "\n",
    "col_one_list = data['country'].unique().tolist()\n",
    "\n",
    "len(col_one_list)"
   ]
  },
  {
   "cell_type": "code",
   "execution_count": 10,
   "metadata": {},
   "outputs": [],
   "source": [
    "data_transmission = pd.read_csv(\"Transmission.csv\")\n",
    "fin_transmission= data_transmission[data_transmission['Country'].isin(col_one_list)]\n",
    "fin_transmission.to_csv(\"a1.csv\")"
   ]
  },
  {
   "cell_type": "code",
   "execution_count": 11,
   "metadata": {},
   "outputs": [
    {
     "name": "stderr",
     "output_type": "stream",
     "text": [
      "C:\\Users\\Aboli\\Anaconda3\\envs\\Intern1\\lib\\site-packages\\ipykernel_launcher.py:2: UserWarning: Boolean Series key will be reindexed to match DataFrame index.\n",
      "  \n"
     ]
    }
   ],
   "source": [
    "data_grow= pd.read_csv(\"GrowthRate.csv\")\n",
    "fin_grow= data_transmission[data_grow['Country'].isin(col_one_list)]\n",
    "fin_grow.to_csv(\"a2.csv\")"
   ]
  },
  {
   "cell_type": "code",
   "execution_count": 12,
   "metadata": {},
   "outputs": [],
   "source": [
    "data_incubation= pd.read_csv(\"IncubationPeriod.csv\")\n",
    "fin_incubation= data_incubation[data_incubation['Country'].isin(col_one_list)]\n",
    "fin_incubation.to_csv(\"a3.csv\")"
   ]
  },
  {
   "cell_type": "code",
   "execution_count": 13,
   "metadata": {},
   "outputs": [],
   "source": [
    "data_er= pd.read_csv(\"Effective Reprod.csv\")\n",
    "fin_er= data_er[data_er['Country'].isin(col_one_list)]\n",
    "fin_er.to_csv(\"a4.csv\")"
   ]
  },
  {
   "cell_type": "code",
   "execution_count": 17,
   "metadata": {},
   "outputs": [],
   "source": [
    "data_inv= pd.read_csv(\"inverse.csv\")\n",
    "fin_inv= data_inv[data_inv['Entity'].isin(col_one_list)]\n",
    "fin_inv.to_csv(\"a7.csv\")"
   ]
  },
  {
   "cell_type": "code",
   "execution_count": 18,
   "metadata": {},
   "outputs": [],
   "source": [
    "data_beds = pd.read_csv(\"hospital-beds-per-1000-people.csv\")\n",
    "fin_beds= data_beds[data_beds['Entity'].isin(col_one_list)]\n",
    "fin_beds.to_csv(\"p1.csv\")"
   ]
  },
  {
   "cell_type": "code",
   "execution_count": 19,
   "metadata": {},
   "outputs": [],
   "source": [
    "data_doctors = pd.read_csv(\"physicians-per-1000-people.csv\")\n",
    "fin_doctors= data_doctors[data_doctors['Entity'].isin(col_one_list)]\n",
    "fin_doctors.to_csv(\"p2.csv\")"
   ]
  },
  {
   "cell_type": "code",
   "execution_count": 21,
   "metadata": {},
   "outputs": [],
   "source": [
    "data_yrbeds = pd.read_csv(\"hospitalbeds.csv\")\n",
    "fin_yrbeds= data_yrbeds[data_yrbeds['Country'].isin(col_one_list)]\n",
    "fin_yrbeds.to_csv(\"p3.csv\")"
   ]
  },
  {
   "cell_type": "code",
   "execution_count": 23,
   "metadata": {},
   "outputs": [],
   "source": [
    "data_tests = pd.read_csv(\"tests.csv\")\n",
    "fin_tests= data_tests[data_tests['Entity'].isin(col_one_list)]\n",
    "fin_tests.to_csv(\"p4.csv\")"
   ]
  },
  {
   "cell_type": "code",
   "execution_count": null,
   "metadata": {},
   "outputs": [],
   "source": []
  }
 ],
 "metadata": {
  "kernelspec": {
   "display_name": "Python 3",
   "language": "python",
   "name": "python3"
  },
  "language_info": {
   "codemirror_mode": {
    "name": "ipython",
    "version": 3
   },
   "file_extension": ".py",
   "mimetype": "text/x-python",
   "name": "python",
   "nbconvert_exporter": "python",
   "pygments_lexer": "ipython3",
   "version": "3.6.9"
  }
 },
 "nbformat": 4,
 "nbformat_minor": 2
}
