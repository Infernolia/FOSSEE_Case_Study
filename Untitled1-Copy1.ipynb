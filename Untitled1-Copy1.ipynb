{
 "cells": [
  {
   "cell_type": "code",
   "execution_count": 1,
   "metadata": {},
   "outputs": [],
   "source": [
    "import pandas as pd\n",
    "import matplotlib.pyplot as plt\n",
    "import seaborn as sns\n",
    "from sklearn.cluster import KMeans\n",
    "import numpy as np\n",
    "\n",
    "df = pd.read_csv('India_indicators.csv')\n",
    "%matplotlib notebook"
   ]
  },
  {
   "cell_type": "code",
   "execution_count": 2,
   "metadata": {},
   "outputs": [],
   "source": [
    "df = df.rename(columns ={'Unnamed: 0': 'Year'})"
   ]
  },
  {
   "cell_type": "code",
   "execution_count": 3,
   "metadata": {},
   "outputs": [],
   "source": [
    "L = []\n",
    "for i in range(0,50):\n",
    "    if df.at[i,'Year']== 1974 or df.at[i,'Year']== 1994 or df.at[i,'Year']== 2002 or df.at[i,'Year']== 2003 or df.at[i,'Year']== 2004 or df.at[i,'Year']== 2006 or df.at[i,'Year']== 2014 or df.at[i,'Year']== 2015 or df.at[i,'Year']== 2018:\n",
    "        L.append(1)\n",
    "    else:\n",
    "        L.append(0)\n",
    "        \n",
    "#create new df \n",
    "df1 = pd.DataFrame({'Label':L})\n"
   ]
  },
  {
   "cell_type": "code",
   "execution_count": 4,
   "metadata": {},
   "outputs": [],
   "source": [
    "x = pd.concat([df, df1.reindex(df.index)], axis=1)"
   ]
  },
  {
   "cell_type": "code",
   "execution_count": 5,
   "metadata": {
    "scrolled": true
   },
   "outputs": [
    {
     "name": "stdout",
     "output_type": "stream",
     "text": [
      "<class 'pandas.core.frame.DataFrame'>\n",
      "RangeIndex: 50 entries, 0 to 49\n",
      "Data columns (total 31 columns):\n",
      "Year                                                                  50 non-null int64\n",
      "Air transport, passengers carried                                     50 non-null float64\n",
      "Death rate, crude (per 1,000 people)                                  50 non-null float64\n",
      "GDP (current US$)                                                     50 non-null float64\n",
      "GDP growth (annual %)                                                 50 non-null float64\n",
      "GDP (constant 2010 US$)                                               50 non-null float64\n",
      "GDP per capita (current US$)                                          50 non-null float64\n",
      "GDP per capita growth (annual %)                                      50 non-null float64\n",
      "GDP per capita (current LCU)                                          50 non-null float64\n",
      "GDP per capita (constant LCU)                                         50 non-null float64\n",
      "GDP per capita (constant 2010 US$)                                    50 non-null float64\n",
      "General government final consumption expenditure (annual % growth)    50 non-null float64\n",
      "Hospital beds (per 1,000 people)                                      50 non-null float64\n",
      "Households and NPISHs final consumption expenditure (% of GDP)        50 non-null float64\n",
      "Inflation, consumer prices (annual %)                                 50 non-null float64\n",
      "Inflation, GDP deflator (annual %)                                    50 non-null float64\n",
      "Livestock production index (2004-2006 = 100)                          50 non-null float64\n",
      "Mortality rate, infant (per 1,000 live births)                        50 non-null float64\n",
      "Number of under-five deaths                                           50 non-null float64\n",
      "Physicians (per 1,000 people)                                         50 non-null float64\n",
      "Population ages 0-14 (% of total population)                          50 non-null float64\n",
      "Population ages 15-64 (% of total population)                         50 non-null float64\n",
      "Population ages 65 and above (% of total population)                  50 non-null float64\n",
      "Population growth (annual %)                                          50 non-null float64\n",
      "Population density (people per sq. km of land area)                   50 non-null float64\n",
      "Rural population (% of total population)                              50 non-null float64\n",
      "Short-term debt (% of total external debt)                            50 non-null float64\n",
      "Total debt service (% of GNI)                                         50 non-null float64\n",
      "Trade (% of GDP)                                                      50 non-null float64\n",
      "Urban population (% of total population)                              50 non-null float64\n",
      "Label                                                                 50 non-null int64\n",
      "dtypes: float64(29), int64(2)\n",
      "memory usage: 12.2 KB\n"
     ]
    }
   ],
   "source": [
    "x.info()"
   ]
  },
  {
   "cell_type": "code",
   "execution_count": 14,
   "metadata": {},
   "outputs": [],
   "source": [
    "X = x[['Death rate, crude (per 1,000 people)','GDP growth (annual %)','Air transport, passengers carried','Hospital beds (per 1,000 people)','Mortality rate, infant (per 1,000 live births)','Physicians (per 1,000 people)','Trade (% of GDP)','Short-term debt (% of total external debt)','Number of under-five deaths','General government final consumption expenditure (annual % growth)']]\n",
    "y = x['Label']"
   ]
  },
  {
   "cell_type": "code",
   "execution_count": 15,
   "metadata": {},
   "outputs": [],
   "source": [
    "from sklearn.model_selection import train_test_split\n",
    "X_train, X_test, y_train, y_test = train_test_split(X, y, test_size=0.30)"
   ]
  },
  {
   "cell_type": "code",
   "execution_count": 16,
   "metadata": {},
   "outputs": [
    {
     "name": "stdout",
     "output_type": "stream",
     "text": [
      "0.5428571428571429\n",
      "              precision    recall  f1-score   support\n",
      "\n",
      "           0       0.75      0.82      0.78        11\n",
      "           1       0.33      0.25      0.29         4\n",
      "\n",
      "   micro avg       0.67      0.67      0.67        15\n",
      "   macro avg       0.54      0.53      0.53        15\n",
      "weighted avg       0.64      0.67      0.65        15\n",
      "\n"
     ]
    }
   ],
   "source": [
    "from sklearn.naive_bayes import GaussianNB\n",
    "from sklearn.model_selection import cross_val_score\n",
    "from sklearn.metrics import classification_report \n",
    "\n",
    "\n",
    "classifier = GaussianNB()\n",
    "classifier.fit(X_train, y_train)\n",
    "\n",
    "y_pred = classifier.predict(X_test)\n",
    "\n",
    "\n",
    "accurarices = cross_val_score(classifier, X_train, y_train, cv= 5)\n",
    "accurarices\n",
    "\n",
    "print(accurarices.mean())\n",
    "classifier.fit(X_train, y_train)\n",
    "\n",
    "y_pred = classifier.predict(X_test)\n",
    "\n",
    "\n",
    "print(classification_report(y_test, y_pred))"
   ]
  },
  {
   "cell_type": "code",
   "execution_count": null,
   "metadata": {},
   "outputs": [],
   "source": []
  },
  {
   "cell_type": "code",
   "execution_count": null,
   "metadata": {},
   "outputs": [],
   "source": []
  },
  {
   "cell_type": "code",
   "execution_count": null,
   "metadata": {},
   "outputs": [],
   "source": []
  }
 ],
 "metadata": {
  "kernelspec": {
   "display_name": "Python 3",
   "language": "python",
   "name": "python3"
  },
  "language_info": {
   "codemirror_mode": {
    "name": "ipython",
    "version": 3
   },
   "file_extension": ".py",
   "mimetype": "text/x-python",
   "name": "python",
   "nbconvert_exporter": "python",
   "pygments_lexer": "ipython3",
   "version": "3.7.3"
  }
 },
 "nbformat": 4,
 "nbformat_minor": 2
}
